{
 "cells": [
  {
   "cell_type": "code",
   "execution_count": null,
   "metadata": {},
   "outputs": [],
   "source": [
    "Threads.nthreads()"
   ]
  },
  {
   "cell_type": "markdown",
   "metadata": {},
   "source": [
    "# Radar System Simulation"
   ]
  },
  {
   "cell_type": "code",
   "execution_count": null,
   "metadata": {},
   "outputs": [],
   "source": [
    "using Plots\n",
    "using DSP\n",
    "using FFTW"
   ]
  },
  {
   "cell_type": "code",
   "execution_count": 3,
   "metadata": {},
   "outputs": [],
   "source": [
    "include(\"radarsim.jl\")\n",
    "using .radarsim;"
   ]
  },
  {
   "cell_type": "markdown",
   "metadata": {},
   "source": [
    "### System Constants"
   ]
  },
  {
   "cell_type": "code",
   "execution_count": 4,
   "metadata": {},
   "outputs": [],
   "source": [
    "samp_rate = 5e6  #hz\n",
    "prf = 100 #Hz\n",
    "duty_factor = .15; #.05\n",
    "β = 1e6; #Pulse Bandwidth\n",
    "repetitions = 128;\n",
    "fc = 900_000_000; #Hz\n",
    "\n",
    "Gt = 40; #dB\n",
    "Gr = 45; #dB\n",
    "system_loss = 6; #dB\n",
    "\n",
    "targets = [Target(560_094, 0), Target(800_000, 0)]\n",
    "num_targets = length(targets);"
   ]
  },
  {
   "cell_type": "code",
   "execution_count": 5,
   "metadata": {},
   "outputs": [],
   "source": [
    "τ = duty_factor * (1/prf);\n",
    "λ = (1/fc) * c;"
   ]
  },
  {
   "cell_type": "markdown",
   "metadata": {},
   "source": [
    "### Min and Max theoretical range"
   ]
  },
  {
   "cell_type": "code",
   "execution_count": 6,
   "metadata": {},
   "outputs": [
    {
     "data": {
      "text/plain": [
       "1498.96229"
      ]
     },
     "execution_count": 6,
     "metadata": {},
     "output_type": "execute_result"
    }
   ],
   "source": [
    "(1/prf * c / 2) / 1000 #Maximum Range KM"
   ]
  },
  {
   "cell_type": "code",
   "execution_count": 7,
   "metadata": {},
   "outputs": [
    {
     "data": {
      "text/plain": [
       "224.8443435"
      ]
     },
     "execution_count": 7,
     "metadata": {},
     "output_type": "execute_result"
    }
   ],
   "source": [
    "(τ * c / 2) / 1000 #Minimum Range KM"
   ]
  },
  {
   "cell_type": "markdown",
   "metadata": {},
   "source": [
    "### Simulation"
   ]
  },
  {
   "cell_type": "code",
   "execution_count": null,
   "metadata": {},
   "outputs": [],
   "source": [
    "t, pulse_train = gen_pulse_train(repetitions, samp_rate, prf, τ, β, envelope_type=\"HalfSin\");"
   ]
  },
  {
   "cell_type": "code",
   "execution_count": null,
   "metadata": {},
   "outputs": [],
   "source": [
    "rx_pulse_train = sim_return(samp_rate, pulse_train, targets, fc=fc, system_loss=system_loss, Gt=Gt, Gr=Gr, SNR=-12);"
   ]
  },
  {
   "cell_type": "code",
   "execution_count": null,
   "metadata": {},
   "outputs": [],
   "source": [
    "fft_size = 128;\n",
    "spec = spectrogram(pulse_train[begin:round(Int, τ*samp_rate)], fft_size; fs=samp_rate); #+ pulse_train\n",
    "\n",
    "heatmap(spec.time, LinRange(0,samp_rate/2, round(Int, fft_size/2)), spec.power[begin:round(Int, fft_size/2) , :], xguide=\"Time (Seconds)\", yguide=\"Frequency (hz)\", title=\"Pulse Spectrogram\")"
   ]
  },
  {
   "cell_type": "code",
   "execution_count": null,
   "metadata": {},
   "outputs": [],
   "source": [
    "null, p = single_pulse(samp_rate, prf, τ, β);\n",
    "pulse_compression = conv(rx_pulse_train, reverse(p[begin:round(Int, τ*samp_rate)]));"
   ]
  },
  {
   "cell_type": "code",
   "execution_count": null,
   "metadata": {},
   "outputs": [],
   "source": [
    "pulse_compression = pulse_compression[end - length(rx_pulse_train): end];"
   ]
  },
  {
   "cell_type": "markdown",
   "metadata": {},
   "source": [
    "### Range Doppler Plot"
   ]
  },
  {
   "cell_type": "code",
   "execution_count": null,
   "metadata": {},
   "outputs": [],
   "source": [
    "len = Int(1/prf * samp_rate);\n",
    "range_stacked = reshape(pulse_compression, len, repetitions);"
   ]
  },
  {
   "cell_type": "code",
   "execution_count": null,
   "metadata": {},
   "outputs": [],
   "source": [
    "range_doppler = fft((range_stacked), (2,));"
   ]
  },
  {
   "cell_type": "code",
   "execution_count": null,
   "metadata": {},
   "outputs": [],
   "source": [
    "maxRange = ((1/prf * c)/2)\n",
    "maxDop = (prf*λ)/4;\n",
    "\n",
    "rangeLabel = LinRange(0, maxRange , 13);\n",
    "dopplerLabel = LinRange(-maxDop,maxDop,13);\n",
    "\n",
    "rangeLabel = round.(Int, (rangeLabel ./ 1000));\n",
    "dopplerLabel = round.(dopplerLabel, digits=2);"
   ]
  },
  {
   "cell_type": "code",
   "execution_count": null,
   "metadata": {},
   "outputs": [],
   "source": [
    "heatmap(20*log10.(abs.(range_doppler)), xlabel=\"Doppler (m/s)\", ylabel=\"Range (km)\", xticks=(LinRange(0,repetitions, 13), dopplerLabel), yticks=(LinRange(1,len,13), rangeLabel))"
   ]
  },
  {
   "cell_type": "markdown",
   "metadata": {},
   "source": [
    "### Theoretical Ambiguouity Function"
   ]
  },
  {
   "cell_type": "code",
   "execution_count": null,
   "metadata": {},
   "outputs": [],
   "source": [
    "v = 0:(maxDop * 4);\n",
    "\n",
    "r = ((c^2)/(8*fc)) ./ v;"
   ]
  },
  {
   "cell_type": "code",
   "execution_count": null,
   "metadata": {},
   "outputs": [],
   "source": [
    "plot(v,r./1000, labels=\"Ambiguouity Function\", xlabel=\"Maximum unambiguous Velocity (m/s)\", ylabel=\"Maximum unambiguous Range (km)\")"
   ]
  }
 ],
 "metadata": {
  "kernelspec": {
   "display_name": "Python 3.8.10 64-bit",
   "language": "python",
   "name": "python3"
  },
  "language_info": {
   "file_extension": ".jl",
   "mimetype": "application/julia",
   "name": "python",
   "version": "3.8.10"
  },
  "vscode": {
   "interpreter": {
    "hash": "31f2aee4e71d21fbe5cf8b01ff0e069b9275f58929596ceb00d14d90e3e16cd6"
   }
  }
 },
 "nbformat": 4,
 "nbformat_minor": 2
}
