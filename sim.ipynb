{
 "cells": [
  {
   "cell_type": "code",
   "execution_count": 16,
   "metadata": {},
   "outputs": [
    {
     "data": {
      "text/plain": [
       "1"
      ]
     },
     "metadata": {},
     "output_type": "display_data"
    }
   ],
   "source": [
    "Threads.nthreads()"
   ]
  },
  {
   "cell_type": "markdown",
   "metadata": {},
   "source": [
    "# Radar System Simulation"
   ]
  },
  {
   "cell_type": "code",
   "execution_count": 17,
   "metadata": {},
   "outputs": [],
   "source": [
    "using Plots\n",
    "using DSP\n",
    "using FFTW"
   ]
  },
  {
   "cell_type": "code",
   "execution_count": 18,
   "metadata": {},
   "outputs": [
    {
     "name": "stderr",
     "output_type": "stream",
     "text": [
      "WARNING: replacing module radarsim.\n",
      "WARNING: using radarsim.c in module Main conflicts with an existing identifier.\n",
      "WARNING: using radarsim.sim_return in module Main conflicts with an existing identifier.\n",
      "WARNING: using radarsim.Target in module Main conflicts with an existing identifier.\n",
      "WARNING: using radarsim.gen_pulse_train in module Main conflicts with an existing identifier.\n",
      "WARNING: using radarsim.single_pulse in module Main conflicts with an existing identifier.\n"
     ]
    }
   ],
   "source": [
    "include(\"radarsim.jl\")\n",
    "using .radarsim;"
   ]
  },
  {
   "cell_type": "markdown",
   "metadata": {},
   "source": [
    "### System Constants"
   ]
  },
  {
   "cell_type": "code",
   "execution_count": 19,
   "metadata": {},
   "outputs": [],
   "source": [
    "samp_rate = 5e6  #hz\n",
    "prf = 100 #Hz\n",
    "duty_factor = .15; #.05\n",
    "β = 1e6; #Pulse Bandwidth\n",
    "repetitions = 128;\n",
    "fc = 900_000_000; #Hz\n",
    "\n",
    "Gt = 40; #dB\n",
    "Gr = 45; #dB\n",
    "system_loss = 6; #dB\n",
    "coefficients = [1,14,8];\n",
    "\n",
    "targets = [Target(560_094, 0)]\n",
    "num_targets = length(targets);"
   ]
  },
  {
   "cell_type": "code",
   "execution_count": 20,
   "metadata": {},
   "outputs": [],
   "source": [
    "τ = duty_factor * (1/prf);\n",
    "λ = (1/fc) * c;"
   ]
  },
  {
   "cell_type": "markdown",
   "metadata": {},
   "source": [
    "### Min and Max theoretical range"
   ]
  },
  {
   "cell_type": "code",
   "execution_count": 21,
   "metadata": {},
   "outputs": [
    {
     "name": "stdout",
     "output_type": "stream",
     "text": [
      "Maximum Range (km): 1498.96229\n",
      "Minimum Range (km): 224.8443435\n"
     ]
    }
   ],
   "source": [
    "\n",
    "println(\"Maximum Range (km): \", (1/prf * c / 2) / 1000)\n",
    "println(\"Minimum Range (km): \", (τ * c / 2) / 1000)\n"
   ]
  },
  {
   "cell_type": "markdown",
   "metadata": {},
   "source": [
    "### Simulation"
   ]
  },
  {
   "cell_type": "code",
   "execution_count": 27,
   "metadata": {},
   "outputs": [
    {
     "ename": "MethodError",
     "evalue": "MethodError: no method matching gen_pulse_train(::Int64, ::Float64, ::Int64, ::Float64, ::Float64, ::Vector{Int64}; envelope_type=\"Rectangular\", pulse_type=\"Increasing\")\nClosest candidates are:\n  gen_pulse_train(::Any, ::Any, ::Any, ::Any, ::Any; envelope_type, pulse_type, coefficients) at ~/radarSim/radarsim.jl:55",
     "output_type": "error",
     "traceback": [
      "MethodError: no method matching gen_pulse_train(::Int64, ::Float64, ::Int64, ::Float64, ::Float64, ::Vector{Int64}; envelope_type=\"Rectangular\", pulse_type=\"Increasing\")\n",
      "Closest candidates are:\n",
      "  gen_pulse_train(::Any, ::Any, ::Any, ::Any, ::Any; envelope_type, pulse_type, coefficients) at ~/radarSim/radarsim.jl:55\n",
      "\n",
      "Stacktrace:\n",
      " [1] top-level scope\n",
      "   @ ~/radarSim/sim.ipynb:1"
     ]
    }
   ],
   "source": [
    "t, pulse_train = gen_pulse_train(repetitions, samp_rate, prf, τ, β, envelope_type=\"Rectangular\", pulse_type=\"Increasing\", coefficients);"
   ]
  },
  {
   "cell_type": "code",
   "execution_count": 8,
   "metadata": {},
   "outputs": [
    {
     "ename": "UndefVarError",
     "evalue": "UndefVarError: pulse_train not defined",
     "output_type": "error",
     "traceback": [
      "UndefVarError: pulse_train not defined\n",
      "\n",
      "Stacktrace:\n",
      " [1] top-level scope\n",
      "   @ ~/radarSim/sim.ipynb:1"
     ]
    }
   ],
   "source": [
    "rx_pulse_train, noise = sim_return(samp_rate, pulse_train, targets, fc=fc, system_loss=system_loss, Gt=Gt, Gr=Gr, SNR=12);"
   ]
  },
  {
   "cell_type": "code",
   "execution_count": 9,
   "metadata": {},
   "outputs": [
    {
     "ename": "UndefVarError",
     "evalue": "UndefVarError: pulse_train not defined",
     "output_type": "error",
     "traceback": [
      "UndefVarError: pulse_train not defined\n",
      "\n",
      "Stacktrace:\n",
      " [1] top-level scope\n",
      "   @ ~/radarSim/sim.ipynb:2"
     ]
    }
   ],
   "source": [
    "fft_size = 128;\n",
    "spec = spectrogram(pulse_train[begin:round(Int, τ*samp_rate)], fft_size; fs=samp_rate); #+ pulse_train\n",
    "\n",
    "heatmap(spec.time, LinRange(0,samp_rate/2, round(Int, fft_size/2)), spec.power[begin:round(Int, fft_size/2) , :], xguide=\"Time (Seconds)\", yguide=\"Frequency (hz)\", title=\"Pulse Spectrogram\")"
   ]
  },
  {
   "cell_type": "code",
   "execution_count": 10,
   "metadata": {},
   "outputs": [
    {
     "ename": "MethodError",
     "evalue": "MethodError: no method matching single_pulse(::Float64, ::Int64, ::Float64, ::Float64, ::Vector{Int64}; envelope_type=\"Rectangular\", pulse_type=\"Increasing\")\nClosest candidates are:\n  single_pulse(::Any, ::Any, ::Any, ::Any; target_pow, envelope_type, pulse_type, coefficients) at ~/radarSim/radarsim.jl:20",
     "output_type": "error",
     "traceback": [
      "MethodError: no method matching single_pulse(::Float64, ::Int64, ::Float64, ::Float64, ::Vector{Int64}; envelope_type=\"Rectangular\", pulse_type=\"Increasing\")\n",
      "Closest candidates are:\n",
      "  single_pulse(::Any, ::Any, ::Any, ::Any; target_pow, envelope_type, pulse_type, coefficients) at ~/radarSim/radarsim.jl:20\n",
      "\n",
      "Stacktrace:\n",
      " [1] top-level scope\n",
      "   @ ~/radarSim/sim.ipynb:1"
     ]
    }
   ],
   "source": [
    "null, p = single_pulse(samp_rate, prf, τ, β, envelope_type=\"Rectangular\", pulse_type=\"Increasing\", coefficients);\n",
    "pulse_compression = conv(rx_pulse_train, conj(reverse(p[begin:round(Int, τ*samp_rate)])));\n",
    "pulse_compression = pulse_compression[1:length(rx_pulse_train)];"
   ]
  },
  {
   "cell_type": "code",
   "execution_count": 11,
   "metadata": {},
   "outputs": [
    {
     "data": {
      "text/plain": [
       "maxk! (generic function with 1 method)"
      ]
     },
     "metadata": {},
     "output_type": "display_data"
    }
   ],
   "source": [
    "function maxk!(ix, a, k; initialized=false)\n",
    "    partialsortperm!(ix, a, 1:k, rev=true, initialized=initialized)\n",
    "    return collect(zip(ix, a[ix]))\n",
    "end"
   ]
  },
  {
   "cell_type": "code",
   "execution_count": 12,
   "metadata": {},
   "outputs": [
    {
     "ename": "UndefVarError",
     "evalue": "UndefVarError: pulse_compression not defined",
     "output_type": "error",
     "traceback": [
      "UndefVarError: pulse_compression not defined\n",
      "\n",
      "Stacktrace:\n",
      " [1] top-level scope\n",
      "   @ ~/radarSim/sim.ipynb:1"
     ]
    }
   ],
   "source": [
    "sigPower = abs.(pulse_compression)\n",
    "plot(sigPower[26100:26250], xguide=\"Time (s)\", yguide=\"Magnitude\")"
   ]
  },
  {
   "cell_type": "code",
   "execution_count": 13,
   "metadata": {},
   "outputs": [
    {
     "ename": "UndefVarError",
     "evalue": "UndefVarError: sigPower not defined",
     "output_type": "error",
     "traceback": [
      "UndefVarError: sigPower not defined\n",
      "\n",
      "Stacktrace:\n",
      " [1] top-level scope\n",
      "   @ ~/radarSim/sim.ipynb:2"
     ]
    }
   ],
   "source": [
    "idx = collect(1:26300)\n",
    "print(maxk!(idx, sigPower[1:26300], 10, initialized=true))"
   ]
  },
  {
   "cell_type": "code",
   "execution_count": 290,
   "metadata": {},
   "outputs": [
    {
     "name": "stdout",
     "output_type": "stream",
     "text": [
      "26182\n",
      "0.0052364\n",
      "Estimated Distance to Target (m): 784916.6135356\n",
      "Range Error (m): 224822.61353560002\n"
     ]
    }
   ],
   "source": [
    "null, idx = findmax(sigPower[1:50000])\n",
    "println(idx)\n",
    "println((idx)/samp_rate)\n",
    "estimatedRange  = (t[idx]*299_792_458)/2\n",
    "rangeError = abs(estimatedRange - 560_094)\n",
    "println(\"Estimated Distance to Target (m): \", estimatedRange)\n",
    "println(\"Range Error (m): \", rangeError)"
   ]
  },
  {
   "cell_type": "code",
   "execution_count": 301,
   "metadata": {},
   "outputs": [
    {
     "data": {
      "text/plain": [
       "224822.61353560002"
      ]
     },
     "metadata": {},
     "output_type": "display_data"
    }
   ],
   "source": [
    "function range_accuracy(coeff)\n",
    "    samp_rate = 5e6  #hz\n",
    "    prf = 100 #Hz\n",
    "    duty_factor = .15; #.05\n",
    "    β = 1e6; #Pulse Bandwidth\n",
    "    repetitions = 128;\n",
    "    fc = 900_000_000; #Hz\n",
    "    Gt = 40; #dB\n",
    "    Gr = 45; #dB\n",
    "    system_loss = 6; #dB\n",
    "    targets = [Target(560_094, 0)]\n",
    "    num_targets = length(targets);\n",
    "    τ = duty_factor * (1/prf);\n",
    "    λ = (1/fc) * c;\n",
    "    t, pulse_train = gen_pulse_train(repetitions, samp_rate, prf, τ, β, envelope_type=\"Rectangular\", pulse_type=\"NOrderPoly\", coeff);\n",
    "    rx_pulse_train, noise = sim_return(samp_rate, pulse_train, targets, fc=fc, system_loss=system_loss, Gt=Gt, Gr=Gr, SNR=-12);\n",
    "    null, p = single_pulse(samp_rate, prf, τ, β, envelope_type=\"Rectangular\", pulse_type=\"NOrderPoly\", coefficients);\n",
    "    pulse_compression = conv(rx_pulse_train, conj(reverse(p[begin:round(Int, τ*samp_rate)])));\n",
    "    pulse_compression = pulse_compression[1:length(rx_pulse_train)];\n",
    "\n",
    "    sigPower = abs.(pulse_compression)\n",
    "    null, idx = findmax(sigPower[1:50000])\n",
    "    estimatedRange  = ((idx/samp_rate)*299_792_458)/2\n",
    "    rangeError = abs(estimatedRange - 560_094)\n",
    "    return rangeError\n",
    "end\n",
    "\n",
    "range_accuracy([1,14,54,149])"
   ]
  },
  {
   "cell_type": "code",
   "execution_count": 35,
   "metadata": {},
   "outputs": [
    {
     "data": {
      "text/plain": [
       "gradient_descent (generic function with 1 method)"
      ]
     },
     "metadata": {},
     "output_type": "display_data"
    }
   ],
   "source": [
    "function gradient(coefficients)\n",
    "    Δ = 1\n",
    "    gradient = zeros(length(coefficients))\n",
    "    for i in 1:length(coefficients)\n",
    "        coefficients_perturbed = copy(coefficients)\n",
    "        coefficients_perturbed[i] += Δ\n",
    "        gradient[i] = (range_accuracy(coefficients_perturbed) - range_accuracy(coefficients)) / Δ\n",
    "    end\n",
    "    return gradient\n",
    "end\n",
    "\n",
    "function gradient_descent(cost_fn, gradient_fn, initial_x, learning_rate, num_iterations)\n",
    "    current_x = initial_x\n",
    "    for i in 1:num_iterations\n",
    "        gradient = gradient_fn(current_x)\n",
    "        current_x -= learning_rate * gradient\n",
    "        current_cost = cost_fn(current_x)\n",
    "        println(\"Iteration $i: Cost = $current_cost\")\n",
    "    end\n",
    "    return current_x\n",
    "end"
   ]
  },
  {
   "cell_type": "code",
   "execution_count": 147,
   "metadata": {},
   "outputs": [
    {
     "name": "stdout",
     "output_type": "stream",
     "text": [
      "Iteration 1: Cost = 218.10400200006552\n"
     ]
    },
    {
     "name": "stdout",
     "output_type": "stream",
     "text": [
      "Iteration 2: Cost = 1956.9002584000118\n"
     ]
    },
    {
     "name": "stdout",
     "output_type": "stream",
     "text": [
      "Iteration 3: Cost = 3785.6342522000195\n"
     ]
    },
    {
     "name": "stdout",
     "output_type": "stream",
     "text": [
      "Iteration 4: Cost = 1597.1493087999988\n"
     ]
    },
    {
     "name": "stdout",
     "output_type": "stream",
     "text": [
      "Iteration 5: Cost = 517.8964599999599\n"
     ]
    },
    {
     "name": "stdout",
     "output_type": "stream",
     "text": [
      "Iteration 6: Cost = 1327.3360966000473\n"
     ]
    },
    {
     "name": "stdout",
     "output_type": "stream",
     "text": [
      "Iteration 7: Cost = 1507.2115714000538\n"
     ]
    },
    {
     "name": "stdout",
     "output_type": "stream",
     "text": [
      "Iteration 8: Cost = 98.1870188000612\n"
     ]
    },
    {
     "name": "stdout",
     "output_type": "stream",
     "text": [
      "Iteration 9: Cost = 2796.319140800042\n"
     ]
    },
    {
     "name": "stdout",
     "output_type": "stream",
     "text": [
      "Iteration 10: Cost = 38.228527200059034\n"
     ]
    },
    {
     "name": "stdout",
     "output_type": "stream",
     "text": [
      "Iteration 11: Cost = 3036.1531071999343\n"
     ]
    },
    {
     "name": "stdout",
     "output_type": "stream",
     "text": [
      "Iteration 12: Cost = 2226.7134705999633\n"
     ]
    },
    {
     "name": "stdout",
     "output_type": "stream",
     "text": [
      "Iteration 13: Cost = 3785.6342522000195\n"
     ]
    },
    {
     "name": "stdout",
     "output_type": "stream",
     "text": [
      "Iteration 14: Cost = 7413.122993999976\n"
     ]
    },
    {
     "name": "stdout",
     "output_type": "stream",
     "text": [
      "Iteration 15: Cost = 1866.9625210000668\n"
     ]
    },
    {
     "name": "stdout",
     "output_type": "stream",
     "text": [
      "Iteration 16: Cost = 817.6889179999707\n"
     ]
    },
    {
     "name": "stdout",
     "output_type": "stream",
     "text": [
      "Iteration 17: Cost = 4625.05313460005\n"
     ]
    },
    {
     "name": "stdout",
     "output_type": "stream",
     "text": [
      "Iteration 18: Cost = 1836.9832752000075\n"
     ]
    },
    {
     "name": "stdout",
     "output_type": "stream",
     "text": [
      "Iteration 19: Cost = 1836.9832752000075\n"
     ]
    },
    {
     "name": "stdout",
     "output_type": "stream",
     "text": [
      "Iteration 20: Cost = 637.8134431999642\n"
     ]
    },
    {
     "name": "stdout",
     "output_type": "stream",
     "text": [
      "Iteration 21: Cost = 607.8341974000214\n"
     ]
    },
    {
     "name": "stdout",
     "output_type": "stream",
     "text": [
      "Iteration 22: Cost = 1597.1493087999988\n"
     ]
    },
    {
     "name": "stdout",
     "output_type": "stream",
     "text": [
      "Iteration 23: Cost = 607.8341974000214\n"
     ]
    },
    {
     "name": "stdout",
     "output_type": "stream",
     "text": [
      "Iteration 24: Cost = 3335.9455652000615\n"
     ]
    },
    {
     "name": "stdout",
     "output_type": "stream",
     "text": [
      "Iteration 25: Cost = 1147.4606218000408\n"
     ]
    },
    {
     "name": "stdout",
     "output_type": "stream",
     "text": [
      "Iteration 26: Cost = 218.10400200006552\n"
     ]
    },
    {
     "name": "stdout",
     "output_type": "stream",
     "text": [
      "Iteration 27: Cost = 997.5643927999772\n"
     ]
    },
    {
     "name": "stdout",
     "output_type": "stream",
     "text": [
      "Iteration 28: Cost = 68.20777300000191\n"
     ]
    },
    {
     "name": "stdout",
     "output_type": "stream",
     "text": [
      "Iteration 29: Cost = 907.6266554000322\n"
     ]
    },
    {
     "name": "stdout",
     "output_type": "stream",
     "text": [
      "Iteration 30: Cost = 1627.1285546000581\n"
     ]
    },
    {
     "name": "stdout",
     "output_type": "stream",
     "text": [
      "Iteration 31: Cost = 1777.0247836000053\n"
     ]
    },
    {
     "name": "stdout",
     "output_type": "stream",
     "text": [
      "Iteration 32: Cost = 2766.339894999983\n"
     ]
    },
    {
     "name": "stdout",
     "output_type": "stream",
     "text": [
      "Iteration 33: Cost = 4145.3852018000325\n"
     ]
    },
    {
     "name": "stdout",
     "output_type": "stream",
     "text": [
      "Iteration 34: Cost = 8.249281399999745\n"
     ]
    },
    {
     "name": "stdout",
     "output_type": "stream",
     "text": [
      "Iteration 35: Cost = 877.6474095999729\n"
     ]
    },
    {
     "name": "stdout",
     "output_type": "stream",
     "text": [
      "Iteration 36: Cost = 607.8341974000214\n"
     ]
    },
    {
     "name": "stdout",
     "output_type": "stream",
     "text": [
      "Iteration 37: Cost = 1117.4813759999815\n"
     ]
    },
    {
     "name": "stdout",
     "output_type": "stream",
     "text": [
      "Iteration 38: Cost = 2616.4436660000356\n"
     ]
    },
    {
     "name": "stdout",
     "output_type": "stream",
     "text": [
      "Iteration 39: Cost = 2436.568191200029\n"
     ]
    },
    {
     "name": "stdout",
     "output_type": "stream",
     "text": [
      "Iteration 40: Cost = 1956.9002584000118\n"
     ]
    },
    {
     "name": "stdout",
     "output_type": "stream",
     "text": [
      "Iteration 41: Cost = 817.6889179999707\n"
     ]
    },
    {
     "name": "stdout",
     "output_type": "stream",
     "text": [
      "Iteration 42: Cost = 2346.6304537999677\n"
     ]
    },
    {
     "name": "stdout",
     "output_type": "stream",
     "text": [
      "Iteration 43: Cost = 5134.70031320001\n"
     ]
    },
    {
     "name": "stdout",
     "output_type": "stream",
     "text": [
      "Iteration 44: Cost = 1777.0247836000053\n"
     ]
    },
    {
     "name": "stdout",
     "output_type": "stream",
     "text": [
      "Iteration 45: Cost = 2706.3814033999806\n"
     ]
    },
    {
     "name": "stdout",
     "output_type": "stream",
     "text": [
      "Iteration 46: Cost = 1297.356850799988\n"
     ]
    },
    {
     "name": "stdout",
     "output_type": "stream",
     "text": [
      "Iteration 47: Cost = 667.7926890000235\n"
     ]
    },
    {
     "name": "stdout",
     "output_type": "stream",
     "text": [
      "Iteration 48: Cost = 1717.0662920000032\n"
     ]
    },
    {
     "name": "stdout",
     "output_type": "stream",
     "text": [
      "Iteration 49: Cost = 2706.3814033999806\n"
     ]
    },
    {
     "name": "stdout",
     "output_type": "stream",
     "text": [
      "Iteration 50: Cost = 278.06249359995127\n"
     ]
    },
    {
     "data": {
      "text/plain": [
       "3-element Vector{Float64}:\n",
       " -126.11200219200458\n",
       "   26.2831890979945\n",
       "  -46.76554802800169"
      ]
     },
     "metadata": {},
     "output_type": "display_data"
    }
   ],
   "source": [
    "initial_coefficients = [1,2,3]\n",
    "learning_rate = 0.01\n",
    "num_iterations = 50\n",
    "\n",
    "optimal_coefficients = gradient_descent(range_accuracy, gradient, initial_coefficients, learning_rate, num_iterations)\n"
   ]
  },
  {
   "cell_type": "code",
   "execution_count": 51,
   "metadata": {},
   "outputs": [
    {
     "data": {
      "text/plain": [
       "224822.61353560013"
      ]
     },
     "metadata": {},
     "output_type": "display_data"
    }
   ],
   "source": [
    "null, idx = findmax(sigPowerdB[1:50000])\n",
    "estimatedRange  = ((idx/samp_rate)/(1/299_792_458))/2\n",
    "rangeError = abs(estimatedRange - 560_094)"
   ]
  },
  {
   "cell_type": "markdown",
   "metadata": {},
   "source": [
    "### Range Doppler Plot"
   ]
  },
  {
   "cell_type": "code",
   "execution_count": 16,
   "metadata": {},
   "outputs": [
    {
     "ename": "UndefVarError",
     "evalue": "UndefVarError: pulse_compression not defined",
     "output_type": "error",
     "traceback": [
      "UndefVarError: pulse_compression not defined\n",
      "\n",
      "Stacktrace:\n",
      " [1] top-level scope\n",
      "   @ ~/radarSim/sim.ipynb:2"
     ]
    }
   ],
   "source": [
    "len = Int(1/prf * samp_rate);\n",
    "range_stacked = reshape(pulse_compression, len, repetitions);"
   ]
  },
  {
   "cell_type": "code",
   "execution_count": 17,
   "metadata": {},
   "outputs": [
    {
     "ename": "UndefVarError",
     "evalue": "UndefVarError: range_stacked not defined",
     "output_type": "error",
     "traceback": [
      "UndefVarError: range_stacked not defined\n",
      "\n",
      "Stacktrace:\n",
      " [1] top-level scope\n",
      "   @ ~/radarSim/sim.ipynb:1"
     ]
    }
   ],
   "source": [
    "range_doppler = fft((range_stacked), (2,));"
   ]
  },
  {
   "cell_type": "code",
   "execution_count": 18,
   "metadata": {},
   "outputs": [],
   "source": [
    "maxRange = ((1/prf * c)/2)\n",
    "maxDop = (prf*λ)/4;\n",
    "\n",
    "rangeLabel = LinRange(0, maxRange , 13);\n",
    "dopplerLabel = LinRange(-maxDop,maxDop,13);\n",
    "\n",
    "rangeLabel = round.(Int, (rangeLabel ./ 1000));\n",
    "dopplerLabel = round.(dopplerLabel, digits=2);"
   ]
  },
  {
   "cell_type": "code",
   "execution_count": 19,
   "metadata": {},
   "outputs": [
    {
     "ename": "UndefVarError",
     "evalue": "UndefVarError: range_doppler not defined",
     "output_type": "error",
     "traceback": [
      "UndefVarError: range_doppler not defined\n",
      "\n",
      "Stacktrace:\n",
      " [1] top-level scope\n",
      "   @ ~/radarSim/sim.ipynb:1"
     ]
    }
   ],
   "source": [
    "heatmap(20*log10.(abs.(range_doppler)), xlabel=\"Doppler (m/s)\", ylabel=\"Range (km)\", xticks=(LinRange(0,repetitions, 13), dopplerLabel), yticks=(LinRange(1,len,13), rangeLabel))"
   ]
  },
  {
   "cell_type": "markdown",
   "metadata": {},
   "source": [
    "### Theoretical Ambiguouity Function"
   ]
  },
  {
   "cell_type": "code",
   "execution_count": 20,
   "metadata": {},
   "outputs": [],
   "source": [
    "v = 0:(maxDop * 4);\n",
    "\n",
    "r = ((c^2)/(8*fc)) ./ v;"
   ]
  },
  {
   "cell_type": "code",
   "execution_count": 21,
   "metadata": {},
   "outputs": [
    {
     "data": {
      "image/png": "[encoded data removed]",
      "image/svg+xml": "<?xml version=\"1.0\" encoding=\"utf-8\"?>\n<svg xmlns=\"http://www.w3.org/2000/svg\" xmlns:xlink=\"http://www.w3.org/1999/xlink\" width=\"600\" height=\"400\" viewBox=\"0 0 2400 1600\">\n<defs>\n  <clipPath id=\"clip430\">\n    <rect x=\"0\" y=\"0\" width=\"2400\" height=\"1600\"/>\n  </clipPath>\n</defs>\n<path clip-path=\"url(#clip430)\" d=\"\nM0 1600 L2400 1600 L2400 0 L0 0  Z\n  \" fill=\"#ffffff\" fill-rule=\"evenodd\" fill-opacity=\"1\"/>\n<defs>\n  <clipPath id=\"clip431\">\n    <rect x=\"480\" y=\"0\" width=\"1681\" height=\"1600\"/>\n  </clipPath>\n</defs>\n<path clip-path=\"url(#clip430)\" d=\"\nM292.713 1423.18 L2352.76 1423.18 L2352.76 47.2441 L292.713 47.2441  Z\n  \" fill=\"#ffffff\" fill-rule=\"evenodd\" fill-opacity=\"1\"/>\n<defs>\n  <clipPath id=\"clip432\">\n    <rect x=\"292\" y=\"47\" width=\"2061\" height=\"1377\"/>\n  </clipPath>\n</defs>\n<polyline clip-path=\"url(#clip432)\" style=\"stroke:#000000; stroke-linecap:round; stroke-linejoin:round; stroke-width:2; stroke-opacity:0.1; fill:none\" points=\"\n  351.016,1423.18 351.016,47.2441 \n  \"/>\n<polyline clip-path=\"url(#clip432)\" style=\"stroke:#000000; stroke-linecap:round; stroke-linejoin:round; stroke-width:2; stroke-opacity:0.1; fill:none\" points=\"\n  939.936,1423.18 939.936,47.2441 \n  \"/>\n<polyline clip-path=\"url(#clip432)\" style=\"stroke:#000000; stroke-linecap:round; stroke-linejoin:round; stroke-width:2; stroke-opacity:0.1; fill:none\" points=\"\n  1528.86,1423.18 1528.86,47.2441 \n  \"/>\n<polyline clip-path=\"url(#clip432)\" style=\"stroke:#000000; stroke-linecap:round; stroke-linejoin:round; stroke-width:2; stroke-opacity:0.1; fill:none\" points=\"\n  2117.78,1423.18 2117.78,47.2441 \n  \"/>\n<polyline clip-path=\"url(#clip430)\" style=\"stroke:#000000; stroke-linecap:round; stroke-linejoin:round; stroke-width:4; stroke-opacity:1; fill:none\" points=\"\n  292.713,1423.18 2352.76,1423.18 \n  \"/>\n<polyline clip-path=\"url(#clip430)\" style=\"stroke:#000000; stroke-linecap:round; stroke-linejoin:round; stroke-width:4; stroke-opacity:1; fill:none\" points=\"\n  351.016,1423.18 351.016,1404.28 \n  \"/>\n<polyline clip-path=\"url(#clip430)\" style=\"stroke:#000000; stroke-linecap:round; stroke-linejoin:round; stroke-width:4; stroke-opacity:1; fill:none\" points=\"\n  939.936,1423.18 939.936,1404.28 \n  \"/>\n<polyline clip-path=\"url(#clip430)\" style=\"stroke:#000000; stroke-linecap:round; stroke-linejoin:round; stroke-width:4; stroke-opacity:1; fill:none\" points=\"\n  1528.86,1423.18 1528.86,1404.28 \n  \"/>\n<polyline clip-path=\"url(#clip430)\" style=\"stroke:#000000; stroke-linecap:round; stroke-linejoin:round; stroke-width:4; stroke-opacity:1; fill:none\" points=\"\n  2117.78,1423.18 2117.78,1404.28 \n  \"/>\n<path clip-path=\"url(#clip430)\" d=\"M351.016 1454.1 Q347.405 1454.1 345.576 1457.66 Q343.771 1461.2 343.771 1468.33 Q343.771 1475.44 345.576 1479.01 Q347.405 1482.55 351.016 1482.55 Q354.65 1482.55 356.456 1479.01 Q358.285 1475.44 358.285 1468.33 Q358.285 1461.2 356.456 1457.66 Q354.65 1454.1 351.016 1454.1 M351.016 1450.39 Q356.826 1450.39 359.882 1455 Q362.961 1459.58 362.961 1468.33 Q362.961 1477.06 359.882 1481.67 Q356.826 1486.25 351.016 1486.25 Q345.206 1486.25 342.127 1481.67 Q339.072 1477.06 339.072 1468.33 Q339.072 1459.58 342.127 1455 Q345.206 1450.39 351.016 1450.39 Z\" fill=\"#000000\" fill-rule=\"evenodd\" fill-opacity=\"1\" /><path clip-path=\"url(#clip430)\" d=\"M914.624 1481.64 L922.263 1481.64 L922.263 1455.28 L913.953 1456.95 L913.953 1452.69 L922.217 1451.02 L926.892 1451.02 L926.892 1481.64 L934.531 1481.64 L934.531 1485.58 L914.624 1485.58 L914.624 1481.64 Z\" fill=\"#000000\" fill-rule=\"evenodd\" fill-opacity=\"1\" /><path clip-path=\"url(#clip430)\" d=\"M953.976 1454.1 Q950.365 1454.1 948.536 1457.66 Q946.73 1461.2 946.73 1468.33 Q946.73 1475.44 948.536 1479.01 Q950.365 1482.55 953.976 1482.55 Q957.61 1482.55 959.415 1479.01 Q961.244 1475.44 961.244 1468.33 Q961.244 1461.2 959.415 1457.66 Q957.61 1454.1 953.976 1454.1 M953.976 1450.39 Q959.786 1450.39 962.841 1455 Q965.92 1459.58 965.92 1468.33 Q965.92 1477.06 962.841 1481.67 Q959.786 1486.25 953.976 1486.25 Q948.166 1486.25 945.087 1481.67 Q942.031 1477.06 942.031 1468.33 Q942.031 1459.58 945.087 1455 Q948.166 1450.39 953.976 1450.39 Z\" fill=\"#000000\" fill-rule=\"evenodd\" fill-opacity=\"1\" /><path clip-path=\"url(#clip430)\" d=\"M1507.63 1481.64 L1523.95 1481.64 L1523.95 1485.58 L1502 1485.58 L1502 1481.64 Q1504.67 1478.89 1509.25 1474.26 Q1513.86 1469.61 1515.04 1468.27 Q1517.28 1465.74 1518.16 1464.01 Q1519.06 1462.25 1519.06 1460.56 Q1519.06 1457.8 1517.12 1456.07 Q1515.2 1454.33 1512.1 1454.33 Q1509.9 1454.33 1507.44 1455.09 Q1505.01 1455.86 1502.24 1457.41 L1502.24 1452.69 Q1505.06 1451.55 1507.51 1450.97 Q1509.97 1450.39 1512 1450.39 Q1517.38 1450.39 1520.57 1453.08 Q1523.76 1455.77 1523.76 1460.26 Q1523.76 1462.39 1522.95 1464.31 Q1522.17 1466.2 1520.06 1468.8 Q1519.48 1469.47 1516.38 1472.69 Q1513.28 1475.88 1507.63 1481.64 Z\" fill=\"#000000\" fill-rule=\"evenodd\" fill-opacity=\"1\" /><path clip-path=\"url(#clip430)\" d=\"M1543.76 1454.1 Q1540.15 1454.1 1538.32 1457.66 Q1536.52 1461.2 1536.52 1468.33 Q1536.52 1475.44 1538.32 1479.01 Q1540.15 1482.55 1543.76 1482.55 Q1547.4 1482.55 1549.2 1479.01 Q1551.03 1475.44 1551.03 1468.33 Q1551.03 1461.2 1549.2 1457.66 Q1547.4 1454.1 1543.76 1454.1 M1543.76 1450.39 Q1549.57 1450.39 1552.63 1455 Q1555.71 1459.58 1555.71 1468.33 Q1555.71 1477.06 1552.63 1481.67 Q1549.57 1486.25 1543.76 1486.25 Q1537.95 1486.25 1534.88 1481.67 Q1531.82 1477.06 1531.82 1468.33 Q1531.82 1459.58 1534.88 1455 Q1537.95 1450.39 1543.76 1450.39 Z\" fill=\"#000000\" fill-rule=\"evenodd\" fill-opacity=\"1\" /><path clip-path=\"url(#clip430)\" d=\"M2106.62 1466.95 Q2109.98 1467.66 2111.85 1469.93 Q2113.75 1472.2 2113.75 1475.53 Q2113.75 1480.65 2110.23 1483.45 Q2106.71 1486.25 2100.23 1486.25 Q2098.05 1486.25 2095.74 1485.81 Q2093.45 1485.39 2090.99 1484.54 L2090.99 1480.02 Q2092.94 1481.16 2095.25 1481.74 Q2097.57 1482.32 2100.09 1482.32 Q2104.49 1482.32 2106.78 1480.58 Q2109.1 1478.84 2109.1 1475.53 Q2109.1 1472.48 2106.94 1470.77 Q2104.81 1469.03 2100.99 1469.03 L2096.97 1469.03 L2096.97 1465.19 L2101.18 1465.19 Q2104.63 1465.19 2106.46 1463.82 Q2108.29 1462.43 2108.29 1459.84 Q2108.29 1457.18 2106.39 1455.77 Q2104.51 1454.33 2100.99 1454.33 Q2099.07 1454.33 2096.87 1454.75 Q2094.68 1455.16 2092.04 1456.04 L2092.04 1451.88 Q2094.7 1451.14 2097.01 1450.77 Q2099.35 1450.39 2101.41 1450.39 Q2106.74 1450.39 2109.84 1452.83 Q2112.94 1455.23 2112.94 1459.35 Q2112.94 1462.22 2111.3 1464.21 Q2109.65 1466.18 2106.62 1466.95 Z\" fill=\"#000000\" fill-rule=\"evenodd\" fill-opacity=\"1\" /><path clip-path=\"url(#clip430)\" d=\"M2132.61 1454.1 Q2129 1454.1 2127.17 1457.66 Q2125.37 1461.2 2125.37 1468.33 Q2125.37 1475.44 2127.17 1479.01 Q2129 1482.55 2132.61 1482.55 Q2136.25 1482.55 2138.05 1479.01 Q2139.88 1475.44 2139.88 1468.33 Q2139.88 1461.2 2138.05 1457.66 Q2136.25 1454.1 2132.61 1454.1 M2132.61 1450.39 Q2138.42 1450.39 2141.48 1455 Q2144.56 1459.58 2144.56 1468.33 Q2144.56 1477.06 2141.48 1481.67 Q2138.42 1486.25 2132.61 1486.25 Q2126.8 1486.25 2123.73 1481.67 Q2120.67 1477.06 2120.67 1468.33 Q2120.67 1459.58 2123.73 1455 Q2126.8 1450.39 2132.61 1450.39 Z\" fill=\"#000000\" fill-rule=\"evenodd\" fill-opacity=\"1\" /><path clip-path=\"url(#clip430)\" d=\"M702.365 1520.52 L711.945 1520.52 L724.072 1552.86 L736.262 1520.52 L745.842 1520.52 L745.842 1568.04 L739.572 1568.04 L739.572 1526.32 L727.318 1558.91 L720.857 1558.91 L708.603 1526.32 L708.603 1568.04 L702.365 1568.04 L702.365 1520.52 Z\" fill=\"#000000\" fill-rule=\"evenodd\" fill-opacity=\"1\" /><path clip-path=\"url(#clip430)\" d=\"M774.552 1550.12 Q767.454 1550.12 764.717 1551.75 Q761.979 1553.37 761.979 1557.29 Q761.979 1560.4 764.016 1562.25 Q766.085 1564.07 769.618 1564.07 Q774.488 1564.07 777.416 1560.63 Q780.376 1557.16 780.376 1551.43 L780.376 1550.12 L774.552 1550.12 M786.233 1547.71 L786.233 1568.04 L780.376 1568.04 L780.376 1562.63 Q778.371 1565.88 775.379 1567.44 Q772.387 1568.97 768.059 1568.97 Q762.584 1568.97 759.338 1565.91 Q756.123 1562.82 756.123 1557.67 Q756.123 1551.65 760.133 1548.6 Q764.176 1545.54 772.165 1545.54 L780.376 1545.54 L780.376 1544.97 Q780.376 1540.93 777.703 1538.73 Q775.061 1536.5 770.255 1536.5 Q767.199 1536.5 764.303 1537.23 Q761.406 1537.97 758.733 1539.43 L758.733 1534.02 Q761.948 1532.78 764.971 1532.17 Q767.995 1531.54 770.86 1531.54 Q778.594 1531.54 782.413 1535.55 Q786.233 1539.56 786.233 1547.71 Z\" fill=\"#000000\" fill-rule=\"evenodd\" fill-opacity=\"1\" /><path clip-path=\"url(#clip430)\" d=\"M827.928 1532.4 L815.038 1549.74 L828.597 1568.04 L821.69 1568.04 L811.314 1554.04 L800.938 1568.04 L794.031 1568.04 L807.876 1549.39 L795.208 1532.4 L802.115 1532.4 L811.568 1545.1 L821.021 1532.4 L827.928 1532.4 Z\" fill=\"#000000\" fill-rule=\"evenodd\" fill-opacity=\"1\" /><path clip-path=\"url(#clip430)\" d=\"M836.872 1532.4 L842.728 1532.4 L842.728 1568.04 L836.872 1568.04 L836.872 1532.4 M836.872 1518.52 L842.728 1518.52 L842.728 1525.93 L836.872 1525.93 L836.872 1518.52 Z\" fill=\"#000000\" fill-rule=\"evenodd\" fill-opacity=\"1\" /><path clip-path=\"url(#clip430)\" d=\"M882.737 1539.24 Q884.933 1535.29 887.989 1533.41 Q891.044 1531.54 895.182 1531.54 Q900.752 1531.54 903.776 1535.45 Q906.799 1539.33 906.799 1546.53 L906.799 1568.04 L900.911 1568.04 L900.911 1546.72 Q900.911 1541.59 899.097 1539.11 Q897.282 1536.63 893.559 1536.63 Q889.007 1536.63 886.365 1539.65 Q883.724 1542.68 883.724 1547.9 L883.724 1568.04 L877.835 1568.04 L877.835 1546.72 Q877.835 1541.56 876.021 1539.11 Q874.207 1536.63 870.419 1536.63 Q865.931 1536.63 863.29 1539.68 Q860.648 1542.71 860.648 1547.9 L860.648 1568.04 L854.76 1568.04 L854.76 1532.4 L860.648 1532.4 L860.648 1537.93 Q862.653 1534.66 865.454 1533.1 Q868.255 1531.54 872.106 1531.54 Q875.989 1531.54 878.695 1533.51 Q881.432 1535.48 882.737 1539.24 Z\" fill=\"#000000\" fill-rule=\"evenodd\" fill-opacity=\"1\" /><path clip-path=\"url(#clip430)\" d=\"M917.876 1553.98 L917.876 1532.4 L923.732 1532.4 L923.732 1553.75 Q923.732 1558.81 925.705 1561.36 Q927.679 1563.87 931.625 1563.87 Q936.368 1563.87 939.105 1560.85 Q941.874 1557.83 941.874 1552.61 L941.874 1532.4 L947.731 1532.4 L947.731 1568.04 L941.874 1568.04 L941.874 1562.57 Q939.742 1565.82 936.909 1567.41 Q934.108 1568.97 930.384 1568.97 Q924.241 1568.97 921.058 1565.15 Q917.876 1561.33 917.876 1553.98 M932.612 1531.54 L932.612 1531.54 Z\" fill=\"#000000\" fill-rule=\"evenodd\" fill-opacity=\"1\" /><path clip-path=\"url(#clip430)\" d=\"M987.548 1539.24 Q989.744 1535.29 992.8 1533.41 Q995.855 1531.54 999.993 1531.54 Q1005.56 1531.54 1008.59 1535.45 Q1011.61 1539.33 1011.61 1546.53 L1011.61 1568.04 L1005.72 1568.04 L1005.72 1546.72 Q1005.72 1541.59 1003.91 1539.11 Q1002.09 1536.63 998.37 1536.63 Q993.818 1536.63 991.177 1539.65 Q988.535 1542.68 988.535 1547.9 L988.535 1568.04 L982.647 1568.04 L982.647 1546.72 Q982.647 1541.56 980.832 1539.11 Q979.018 1536.63 975.231 1536.63 Q970.743 1536.63 968.101 1539.68 Q965.459 1542.71 965.459 1547.9 L965.459 1568.04 L959.571 1568.04 L959.571 1532.4 L965.459 1532.4 L965.459 1537.93 Q967.464 1534.66 970.265 1533.1 Q973.066 1531.54 976.917 1531.54 Q980.801 1531.54 983.506 1533.51 Q986.243 1535.48 987.548 1539.24 Z\" fill=\"#000000\" fill-rule=\"evenodd\" fill-opacity=\"1\" /><path clip-path=\"url(#clip430)\" d=\"M1043.41 1553.98 L1043.41 1532.4 L1049.26 1532.4 L1049.26 1553.75 Q1049.26 1558.81 1051.24 1561.36 Q1053.21 1563.87 1057.16 1563.87 Q1061.9 1563.87 1064.64 1560.85 Q1067.41 1557.83 1067.41 1552.61 L1067.41 1532.4 L1073.26 1532.4 L1073.26 1568.04 L1067.41 1568.04 L1067.41 1562.57 Q1065.27 1565.82 1062.44 1567.41 Q1059.64 1568.97 1055.92 1568.97 Q1049.77 1568.97 1046.59 1565.15 Q1043.41 1561.33 1043.41 1553.98 M1058.14 1531.54 L1058.14 1531.54 Z\" fill=\"#000000\" fill-rule=\"evenodd\" fill-opacity=\"1\" /><path clip-path=\"url(#clip430)\" d=\"M1114.96 1546.53 L1114.96 1568.04 L1109.1 1568.04 L1109.1 1546.72 Q1109.1 1541.66 1107.13 1539.14 Q1105.15 1536.63 1101.21 1536.63 Q1096.47 1536.63 1093.73 1539.65 Q1090.99 1542.68 1090.99 1547.9 L1090.99 1568.04 L1085.1 1568.04 L1085.1 1532.4 L1090.99 1532.4 L1090.99 1537.93 Q1093.09 1534.72 1095.92 1533.13 Q1098.79 1531.54 1102.51 1531.54 Q1108.66 1531.54 1111.81 1535.36 Q1114.96 1539.14 1114.96 1546.53 Z\" fill=\"#000000\" fill-rule=\"evenodd\" fill-opacity=\"1\" /><path clip-path=\"url(#clip430)\" d=\"M1142.84 1550.12 Q1135.74 1550.12 1133 1551.75 Q1130.27 1553.37 1130.27 1557.29 Q1130.27 1560.4 1132.3 1562.25 Q1134.37 1564.07 1137.91 1564.07 Q1142.78 1564.07 1145.7 1560.63 Q1148.66 1557.16 1148.66 1551.43 L1148.66 1550.12 L1142.84 1550.12 M1154.52 1547.71 L1154.52 1568.04 L1148.66 1568.04 L1148.66 1562.63 Q1146.66 1565.88 1143.67 1567.44 Q1140.68 1568.97 1136.35 1568.97 Q1130.87 1568.97 1127.63 1565.91 Q1124.41 1562.82 1124.41 1557.67 Q1124.41 1551.65 1128.42 1548.6 Q1132.46 1545.54 1140.45 1545.54 L1148.66 1545.54 L1148.66 1544.97 Q1148.66 1540.93 1145.99 1538.73 Q1143.35 1536.5 1138.54 1536.5 Q1135.49 1536.5 1132.59 1537.23 Q1129.69 1537.97 1127.02 1539.43 L1127.02 1534.02 Q1130.24 1532.78 1133.26 1532.17 Q1136.28 1531.54 1139.15 1531.54 Q1146.88 1531.54 1150.7 1535.55 Q1154.52 1539.56 1154.52 1547.71 Z\" fill=\"#000000\" fill-rule=\"evenodd\" fill-opacity=\"1\" /><path clip-path=\"url(#clip430)\" d=\"M1194.34 1539.24 Q1196.53 1535.29 1199.59 1533.41 Q1202.65 1531.54 1206.78 1531.54 Q1212.35 1531.54 1215.38 1535.45 Q1218.4 1539.33 1218.4 1546.53 L1218.4 1568.04 L1212.51 1568.04 L1212.51 1546.72 Q1212.51 1541.59 1210.7 1539.11 Q1208.88 1536.63 1205.16 1536.63 Q1200.61 1536.63 1197.97 1539.65 Q1195.32 1542.68 1195.32 1547.9 L1195.32 1568.04 L1189.44 1568.04 L1189.44 1546.72 Q1189.44 1541.56 1187.62 1539.11 Q1185.81 1536.63 1182.02 1536.63 Q1177.53 1536.63 1174.89 1539.68 Q1172.25 1542.71 1172.25 1547.9 L1172.25 1568.04 L1166.36 1568.04 L1166.36 1532.4 L1172.25 1532.4 L1172.25 1537.93 Q1174.25 1534.66 1177.06 1533.1 Q1179.86 1531.54 1183.71 1531.54 Q1187.59 1531.54 1190.3 1533.51 Q1193.03 1535.48 1194.34 1539.24 Z\" fill=\"#000000\" fill-rule=\"evenodd\" fill-opacity=\"1\" /><path clip-path=\"url(#clip430)\" d=\"M1255.67 1550.25 Q1255.67 1543.79 1253 1540.13 Q1250.36 1536.44 1245.71 1536.44 Q1241.06 1536.44 1238.39 1540.13 Q1235.75 1543.79 1235.75 1550.25 Q1235.75 1556.71 1238.39 1560.4 Q1241.06 1564.07 1245.71 1564.07 Q1250.36 1564.07 1253 1560.4 Q1255.67 1556.71 1255.67 1550.25 M1235.75 1537.81 Q1237.59 1534.62 1240.39 1533.1 Q1243.23 1531.54 1247.14 1531.54 Q1253.63 1531.54 1257.68 1536.69 Q1261.75 1541.85 1261.75 1550.25 Q1261.75 1558.65 1257.68 1563.81 Q1253.63 1568.97 1247.14 1568.97 Q1243.23 1568.97 1240.39 1567.44 Q1237.59 1565.88 1235.75 1562.7 L1235.75 1568.04 L1229.86 1568.04 L1229.86 1518.52 L1235.75 1518.52 L1235.75 1537.81 Z\" fill=\"#000000\" fill-rule=\"evenodd\" fill-opacity=\"1\" /><path clip-path=\"url(#clip430)\" d=\"M1271.46 1532.4 L1277.32 1532.4 L1277.32 1568.04 L1271.46 1568.04 L1271.46 1532.4 M1271.46 1518.52 L1277.32 1518.52 L1277.32 1525.93 L1271.46 1525.93 L1271.46 1518.52 Z\" fill=\"#000000\" fill-rule=\"evenodd\" fill-opacity=\"1\" /><path clip-path=\"url(#clip430)\" d=\"M1313.03 1549.81 Q1313.03 1543.44 1310.39 1539.94 Q1307.78 1536.44 1303.03 1536.44 Q1298.32 1536.44 1295.68 1539.94 Q1293.07 1543.44 1293.07 1549.81 Q1293.07 1556.14 1295.68 1559.64 Q1298.32 1563.14 1303.03 1563.14 Q1307.78 1563.14 1310.39 1559.64 Q1313.03 1556.14 1313.03 1549.81 M1318.88 1563.62 Q1318.88 1572.72 1314.84 1577.15 Q1310.8 1581.6 1302.46 1581.6 Q1299.37 1581.6 1296.64 1581.13 Q1293.9 1580.68 1291.32 1579.72 L1291.32 1574.03 Q1293.9 1575.43 1296.41 1576.1 Q1298.93 1576.76 1301.54 1576.76 Q1307.3 1576.76 1310.16 1573.74 Q1313.03 1570.75 1313.03 1564.67 L1313.03 1561.77 Q1311.21 1564.92 1308.38 1566.48 Q1305.55 1568.04 1301.6 1568.04 Q1295.04 1568.04 1291.03 1563.05 Q1287.02 1558.05 1287.02 1549.81 Q1287.02 1541.53 1291.03 1536.53 Q1295.04 1531.54 1301.6 1531.54 Q1305.55 1531.54 1308.38 1533.1 Q1311.21 1534.66 1313.03 1537.81 L1313.03 1532.4 L1318.88 1532.4 L1318.88 1563.62 Z\" fill=\"#000000\" fill-rule=\"evenodd\" fill-opacity=\"1\" /><path clip-path=\"url(#clip430)\" d=\"M1330.34 1553.98 L1330.34 1532.4 L1336.2 1532.4 L1336.2 1553.75 Q1336.2 1558.81 1338.17 1561.36 Q1340.14 1563.87 1344.09 1563.87 Q1348.83 1563.87 1351.57 1560.85 Q1354.34 1557.83 1354.34 1552.61 L1354.34 1532.4 L1360.2 1532.4 L1360.2 1568.04 L1354.34 1568.04 L1354.34 1562.57 Q1352.21 1565.82 1349.37 1567.41 Q1346.57 1568.97 1342.85 1568.97 Q1336.71 1568.97 1333.52 1565.15 Q1330.34 1561.33 1330.34 1553.98 M1345.08 1531.54 L1345.08 1531.54 Z\" fill=\"#000000\" fill-rule=\"evenodd\" fill-opacity=\"1\" /><path clip-path=\"url(#clip430)\" d=\"M1386.07 1536.5 Q1381.36 1536.5 1378.63 1540.19 Q1375.89 1543.85 1375.89 1550.25 Q1375.89 1556.65 1378.59 1560.34 Q1381.33 1564 1386.07 1564 Q1390.75 1564 1393.49 1560.31 Q1396.23 1556.62 1396.23 1550.25 Q1396.23 1543.92 1393.49 1540.23 Q1390.75 1536.5 1386.07 1536.5 M1386.07 1531.54 Q1393.71 1531.54 1398.07 1536.5 Q1402.43 1541.47 1402.43 1550.25 Q1402.43 1559 1398.07 1564 Q1393.71 1568.97 1386.07 1568.97 Q1378.4 1568.97 1374.04 1564 Q1369.71 1559 1369.71 1550.25 Q1369.71 1541.47 1374.04 1536.5 Q1378.4 1531.54 1386.07 1531.54 Z\" fill=\"#000000\" fill-rule=\"evenodd\" fill-opacity=\"1\" /><path clip-path=\"url(#clip430)\" d=\"M1411.54 1553.98 L1411.54 1532.4 L1417.39 1532.4 L1417.39 1553.75 Q1417.39 1558.81 1419.37 1561.36 Q1421.34 1563.87 1425.29 1563.87 Q1430.03 1563.87 1432.77 1560.85 Q1435.53 1557.83 1435.53 1552.61 L1435.53 1532.4 L1441.39 1532.4 L1441.39 1568.04 L1435.53 1568.04 L1435.53 1562.57 Q1433.4 1565.82 1430.57 1567.41 Q1427.77 1568.97 1424.04 1568.97 Q1417.9 1568.97 1414.72 1565.15 Q1411.54 1561.33 1411.54 1553.98 M1426.27 1531.54 L1426.27 1531.54 Z\" fill=\"#000000\" fill-rule=\"evenodd\" fill-opacity=\"1\" /><path clip-path=\"url(#clip430)\" d=\"M1476.18 1533.45 L1476.18 1538.98 Q1473.7 1537.71 1471.02 1537.07 Q1468.35 1536.44 1465.49 1536.44 Q1461.12 1536.44 1458.93 1537.77 Q1456.76 1539.11 1456.76 1541.79 Q1456.76 1543.82 1458.32 1545 Q1459.88 1546.15 1464.59 1547.2 L1466.6 1547.64 Q1472.84 1548.98 1475.45 1551.43 Q1478.09 1553.85 1478.09 1558.21 Q1478.09 1563.17 1474.14 1566.07 Q1470.23 1568.97 1463.35 1568.97 Q1460.49 1568.97 1457.37 1568.39 Q1454.28 1567.85 1450.84 1566.74 L1450.84 1560.69 Q1454.09 1562.38 1457.24 1563.24 Q1460.39 1564.07 1463.48 1564.07 Q1467.62 1564.07 1469.85 1562.66 Q1472.07 1561.23 1472.07 1558.65 Q1472.07 1556.27 1470.45 1554.99 Q1468.86 1553.72 1463.42 1552.54 L1461.38 1552.07 Q1455.94 1550.92 1453.52 1548.56 Q1451.1 1546.18 1451.1 1542.04 Q1451.1 1537.01 1454.66 1534.27 Q1458.23 1531.54 1464.79 1531.54 Q1468.03 1531.54 1470.9 1532.01 Q1473.76 1532.49 1476.18 1533.45 Z\" fill=\"#000000\" fill-rule=\"evenodd\" fill-opacity=\"1\" /><path clip-path=\"url(#clip430)\" d=\"M1520.64 1568.04 L1502.5 1520.52 L1509.22 1520.52 L1524.27 1560.53 L1539.36 1520.52 L1546.04 1520.52 L1527.93 1568.04 L1520.64 1568.04 Z\" fill=\"#000000\" fill-rule=\"evenodd\" fill-opacity=\"1\" /><path clip-path=\"url(#clip430)\" d=\"M1578.16 1548.76 L1578.16 1551.62 L1551.23 1551.62 Q1551.61 1557.67 1554.86 1560.85 Q1558.14 1564 1563.96 1564 Q1567.34 1564 1570.49 1563.17 Q1573.67 1562.35 1576.79 1560.69 L1576.79 1566.23 Q1573.64 1567.57 1570.33 1568.27 Q1567.02 1568.97 1563.61 1568.97 Q1555.08 1568.97 1550.09 1564 Q1545.12 1559.04 1545.12 1550.57 Q1545.12 1541.82 1549.83 1536.69 Q1554.57 1531.54 1562.59 1531.54 Q1569.79 1531.54 1573.96 1536.18 Q1578.16 1540.8 1578.16 1548.76 M1572.3 1547.04 Q1572.24 1542.23 1569.6 1539.37 Q1566.99 1536.5 1562.66 1536.5 Q1557.76 1536.5 1554.8 1539.27 Q1551.87 1542.04 1551.42 1547.07 L1572.3 1547.04 Z\" fill=\"#000000\" fill-rule=\"evenodd\" fill-opacity=\"1\" /><path clip-path=\"url(#clip430)\" d=\"M1587.77 1518.52 L1593.63 1518.52 L1593.63 1568.04 L1587.77 1568.04 L1587.77 1518.52 Z\" fill=\"#000000\" fill-rule=\"evenodd\" fill-opacity=\"1\" /><path clip-path=\"url(#clip430)\" d=\"M1619.69 1536.5 Q1614.98 1536.5 1612.25 1540.19 Q1609.51 1543.85 1609.51 1550.25 Q1609.51 1556.65 1612.22 1560.34 Q1614.95 1564 1619.69 1564 Q1624.37 1564 1627.11 1560.31 Q1629.85 1556.62 1629.85 1550.25 Q1629.85 1543.92 1627.11 1540.23 Q1624.37 1536.5 1619.69 1536.5 M1619.69 1531.54 Q1627.33 1531.54 1631.69 1536.5 Q1636.05 1541.47 1636.05 1550.25 Q1636.05 1559 1631.69 1564 Q1627.33 1568.97 1619.69 1568.97 Q1612.02 1568.97 1607.66 1564 Q1603.33 1559 1603.33 1550.25 Q1603.33 1541.47 1607.66 1536.5 Q1612.02 1531.54 1619.69 1531.54 Z\" fill=\"#000000\" fill-rule=\"evenodd\" fill-opacity=\"1\" /><path clip-path=\"url(#clip430)\" d=\"M1671.42 1533.76 L1671.42 1539.24 Q1668.93 1537.87 1666.42 1537.2 Q1663.94 1536.5 1661.39 1536.5 Q1655.69 1536.5 1652.54 1540.13 Q1649.39 1543.73 1649.39 1550.25 Q1649.39 1556.78 1652.54 1560.4 Q1655.69 1564 1661.39 1564 Q1663.94 1564 1666.42 1563.33 Q1668.93 1562.63 1671.42 1561.26 L1671.42 1566.68 Q1668.97 1567.82 1666.32 1568.39 Q1663.71 1568.97 1660.75 1568.97 Q1652.7 1568.97 1647.96 1563.91 Q1643.22 1558.85 1643.22 1550.25 Q1643.22 1541.53 1647.99 1536.53 Q1652.8 1531.54 1661.14 1531.54 Q1663.84 1531.54 1666.42 1532.11 Q1669 1532.65 1671.42 1533.76 Z\" fill=\"#000000\" fill-rule=\"evenodd\" fill-opacity=\"1\" /><path clip-path=\"url(#clip430)\" d=\"M1681.6 1532.4 L1687.46 1532.4 L1687.46 1568.04 L1681.6 1568.04 L1681.6 1532.4 M1681.6 1518.52 L1687.46 1518.52 L1687.46 1525.93 L1681.6 1525.93 L1681.6 1518.52 Z\" fill=\"#000000\" fill-rule=\"evenodd\" fill-opacity=\"1\" /><path clip-path=\"url(#clip430)\" d=\"M1705.5 1522.27 L1705.5 1532.4 L1717.57 1532.4 L1717.57 1536.95 L1705.5 1536.95 L1705.5 1556.3 Q1705.5 1560.66 1706.68 1561.9 Q1707.89 1563.14 1711.55 1563.14 L1717.57 1563.14 L1717.57 1568.04 L1711.55 1568.04 Q1704.77 1568.04 1702.19 1565.53 Q1699.62 1562.98 1699.62 1556.3 L1699.62 1536.95 L1695.32 1536.95 L1695.32 1532.4 L1699.62 1532.4 L1699.62 1522.27 L1705.5 1522.27 Z\" fill=\"#000000\" fill-rule=\"evenodd\" fill-opacity=\"1\" /><path clip-path=\"url(#clip430)\" d=\"M1740.1 1571.35 Q1737.62 1577.72 1735.26 1579.66 Q1732.91 1581.6 1728.96 1581.6 L1724.28 1581.6 L1724.28 1576.7 L1727.72 1576.7 Q1730.14 1576.7 1731.48 1575.56 Q1732.81 1574.41 1734.44 1570.14 L1735.49 1567.47 L1721.07 1532.4 L1727.28 1532.4 L1738.42 1560.28 L1749.56 1532.4 L1755.76 1532.4 L1740.1 1571.35 Z\" fill=\"#000000\" fill-rule=\"evenodd\" fill-opacity=\"1\" /><path clip-path=\"url(#clip430)\" d=\"M1798.63 1518.58 Q1794.37 1525.9 1792.3 1533.06 Q1790.23 1540.23 1790.23 1547.58 Q1790.23 1554.93 1792.3 1562.16 Q1794.4 1569.35 1798.63 1576.64 L1793.54 1576.64 Q1788.77 1569.16 1786.38 1561.93 Q1784.03 1554.71 1784.03 1547.58 Q1784.03 1540.48 1786.38 1533.29 Q1788.74 1526.09 1793.54 1518.58 L1798.63 1518.58 Z\" fill=\"#000000\" fill-rule=\"evenodd\" fill-opacity=\"1\" /><path clip-path=\"url(#clip430)\" d=\"M1837.75 1539.24 Q1839.95 1535.29 1843 1533.41 Q1846.06 1531.54 1850.2 1531.54 Q1855.77 1531.54 1858.79 1535.45 Q1861.81 1539.33 1861.81 1546.53 L1861.81 1568.04 L1855.93 1568.04 L1855.93 1546.72 Q1855.93 1541.59 1854.11 1539.11 Q1852.3 1536.63 1848.57 1536.63 Q1844.02 1536.63 1841.38 1539.65 Q1838.74 1542.68 1838.74 1547.9 L1838.74 1568.04 L1832.85 1568.04 L1832.85 1546.72 Q1832.85 1541.56 1831.04 1539.11 Q1829.22 1536.63 1825.43 1536.63 Q1820.95 1536.63 1818.3 1539.68 Q1815.66 1542.71 1815.66 1547.9 L1815.66 1568.04 L1809.77 1568.04 L1809.77 1532.4 L1815.66 1532.4 L1815.66 1537.93 Q1817.67 1534.66 1820.47 1533.1 Q1823.27 1531.54 1827.12 1531.54 Q1831 1531.54 1833.71 1533.51 Q1836.45 1535.48 1837.75 1539.24 Z\" fill=\"#000000\" fill-rule=\"evenodd\" fill-opacity=\"1\" /><path clip-path=\"url(#clip430)\" d=\"M1883.9 1520.52 L1889.31 1520.52 L1872.76 1574.09 L1867.35 1574.09 L1883.9 1520.52 Z\" fill=\"#000000\" fill-rule=\"evenodd\" fill-opacity=\"1\" /><path clip-path=\"url(#clip430)\" d=\"M1918.18 1533.45 L1918.18 1538.98 Q1915.7 1537.71 1913.03 1537.07 Q1910.35 1536.44 1907.49 1536.44 Q1903.13 1536.44 1900.93 1537.77 Q1898.77 1539.11 1898.77 1541.79 Q1898.77 1543.82 1900.33 1545 Q1901.89 1546.15 1906.6 1547.2 L1908.6 1547.64 Q1914.84 1548.98 1917.45 1551.43 Q1920.09 1553.85 1920.09 1558.21 Q1920.09 1563.17 1916.15 1566.07 Q1912.23 1568.97 1905.36 1568.97 Q1902.49 1568.97 1899.37 1568.39 Q1896.28 1567.85 1892.85 1566.74 L1892.85 1560.69 Q1896.09 1562.38 1899.24 1563.24 Q1902.4 1564.07 1905.48 1564.07 Q1909.62 1564.07 1911.85 1562.66 Q1914.08 1561.23 1914.08 1558.65 Q1914.08 1556.27 1912.45 1554.99 Q1910.86 1553.72 1905.42 1552.54 L1903.38 1552.07 Q1897.94 1550.92 1895.52 1548.56 Q1893.1 1546.18 1893.1 1542.04 Q1893.1 1537.01 1896.67 1534.27 Q1900.23 1531.54 1906.79 1531.54 Q1910.03 1531.54 1912.9 1532.01 Q1915.76 1532.49 1918.18 1533.45 Z\" fill=\"#000000\" fill-rule=\"evenodd\" fill-opacity=\"1\" /><path clip-path=\"url(#clip430)\" d=\"M1928.5 1518.58 L1933.59 1518.58 Q1938.36 1526.09 1940.72 1533.29 Q1943.1 1540.48 1943.1 1547.58 Q1943.1 1554.71 1940.72 1561.93 Q1938.36 1569.16 1933.59 1576.64 L1928.5 1576.64 Q1932.73 1569.35 1934.8 1562.16 Q1936.9 1554.93 1936.9 1547.58 Q1936.9 1540.23 1934.8 1533.06 Q1932.73 1525.9 1928.5 1518.58 Z\" fill=\"#000000\" fill-rule=\"evenodd\" fill-opacity=\"1\" /><polyline clip-path=\"url(#clip432)\" style=\"stroke:#000000; stroke-linecap:round; stroke-linejoin:round; stroke-width:2; stroke-opacity:0.1; fill:none\" points=\"\n  292.713,1156.71 2352.76,1156.71 \n  \"/>\n<polyline clip-path=\"url(#clip432)\" style=\"stroke:#000000; stroke-linecap:round; stroke-linejoin:round; stroke-width:2; stroke-opacity:0.1; fill:none\" points=\"\n  292.713,888.614 2352.76,888.614 \n  \"/>\n<polyline clip-path=\"url(#clip432)\" style=\"stroke:#000000; stroke-linecap:round; stroke-linejoin:round; stroke-width:2; stroke-opacity:0.1; fill:none\" points=\"\n  292.713,620.52 2352.76,620.52 \n  \"/>\n<polyline clip-path=\"url(#clip432)\" style=\"stroke:#000000; stroke-linecap:round; stroke-linejoin:round; stroke-width:2; stroke-opacity:0.1; fill:none\" points=\"\n  292.713,352.426 2352.76,352.426 \n  \"/>\n<polyline clip-path=\"url(#clip432)\" style=\"stroke:#000000; stroke-linecap:round; stroke-linejoin:round; stroke-width:2; stroke-opacity:0.1; fill:none\" points=\"\n  292.713,84.3316 2352.76,84.3316 \n  \"/>\n<polyline clip-path=\"url(#clip430)\" style=\"stroke:#000000; stroke-linecap:round; stroke-linejoin:round; stroke-width:4; stroke-opacity:1; fill:none\" points=\"\n  292.713,1423.18 292.713,47.2441 \n  \"/>\n<polyline clip-path=\"url(#clip430)\" style=\"stroke:#000000; stroke-linecap:round; stroke-linejoin:round; stroke-width:4; stroke-opacity:1; fill:none\" points=\"\n  292.713,1156.71 311.611,1156.71 \n  \"/>\n<polyline clip-path=\"url(#clip430)\" style=\"stroke:#000000; stroke-linecap:round; stroke-linejoin:round; stroke-width:4; stroke-opacity:1; fill:none\" points=\"\n  292.713,888.614 311.611,888.614 \n  \"/>\n<polyline clip-path=\"url(#clip430)\" style=\"stroke:#000000; stroke-linecap:round; stroke-linejoin:round; stroke-width:4; stroke-opacity:1; fill:none\" points=\"\n  292.713,620.52 311.611,620.52 \n  \"/>\n<polyline clip-path=\"url(#clip430)\" style=\"stroke:#000000; stroke-linecap:round; stroke-linejoin:round; stroke-width:4; stroke-opacity:1; fill:none\" points=\"\n  292.713,352.426 311.611,352.426 \n  \"/>\n<polyline clip-path=\"url(#clip430)\" style=\"stroke:#000000; stroke-linecap:round; stroke-linejoin:round; stroke-width:4; stroke-opacity:1; fill:none\" points=\"\n  292.713,84.3316 311.611,84.3316 \n  \"/>\n<path clip-path=\"url(#clip430)\" d=\"M148.311 1170.05 L164.63 1170.05 L164.63 1173.99 L142.686 1173.99 L142.686 1170.05 Q145.348 1167.3 149.931 1162.67 Q154.538 1158.02 155.718 1156.67 Q157.964 1154.15 158.843 1152.41 Q159.746 1150.66 159.746 1148.97 Q159.746 1146.21 157.802 1144.47 Q155.88 1142.74 152.778 1142.74 Q150.579 1142.74 148.126 1143.5 Q145.695 1144.27 142.917 1145.82 L142.917 1141.09 Q145.741 1139.96 148.195 1139.38 Q150.649 1138.8 152.686 1138.8 Q158.056 1138.8 161.251 1141.49 Q164.445 1144.17 164.445 1148.66 Q164.445 1150.79 163.635 1152.72 Q162.848 1154.61 160.741 1157.21 Q160.163 1157.88 157.061 1161.09 Q153.959 1164.29 148.311 1170.05 Z\" fill=\"#000000\" fill-rule=\"evenodd\" fill-opacity=\"1\" /><path clip-path=\"url(#clip430)\" d=\"M174.491 1139.43 L192.848 1139.43 L192.848 1143.36 L178.774 1143.36 L178.774 1151.84 Q179.792 1151.49 180.811 1151.33 Q181.829 1151.14 182.848 1151.14 Q188.635 1151.14 192.014 1154.31 Q195.394 1157.48 195.394 1162.9 Q195.394 1168.48 191.922 1171.58 Q188.45 1174.66 182.13 1174.66 Q179.954 1174.66 177.686 1174.29 Q175.44 1173.92 173.033 1173.18 L173.033 1168.48 Q175.116 1169.61 177.339 1170.17 Q179.561 1170.72 182.038 1170.72 Q186.042 1170.72 188.38 1168.62 Q190.718 1166.51 190.718 1162.9 Q190.718 1159.29 188.38 1157.18 Q186.042 1155.08 182.038 1155.08 Q180.163 1155.08 178.288 1155.49 Q176.436 1155.91 174.491 1156.79 L174.491 1139.43 Z\" fill=\"#000000\" fill-rule=\"evenodd\" fill-opacity=\"1\" /><path clip-path=\"url(#clip430)\" d=\"M214.607 1142.51 Q210.996 1142.51 209.167 1146.07 Q207.362 1149.61 207.362 1156.74 Q207.362 1163.85 209.167 1167.41 Q210.996 1170.96 214.607 1170.96 Q218.241 1170.96 220.047 1167.41 Q221.875 1163.85 221.875 1156.74 Q221.875 1149.61 220.047 1146.07 Q218.241 1142.51 214.607 1142.51 M214.607 1138.8 Q220.417 1138.8 223.473 1143.41 Q226.551 1147.99 226.551 1156.74 Q226.551 1165.47 223.473 1170.08 Q220.417 1174.66 214.607 1174.66 Q208.797 1174.66 205.718 1170.08 Q202.662 1165.47 202.662 1156.74 Q202.662 1147.99 205.718 1143.41 Q208.797 1138.8 214.607 1138.8 Z\" fill=\"#000000\" fill-rule=\"evenodd\" fill-opacity=\"1\" /><path clip-path=\"url(#clip430)\" d=\"M244.769 1142.51 Q241.158 1142.51 239.329 1146.07 Q237.523 1149.61 237.523 1156.74 Q237.523 1163.85 239.329 1167.41 Q241.158 1170.96 244.769 1170.96 Q248.403 1170.96 250.209 1167.41 Q252.037 1163.85 252.037 1156.74 Q252.037 1149.61 250.209 1146.07 Q248.403 1142.51 244.769 1142.51 M244.769 1138.8 Q250.579 1138.8 253.634 1143.41 Q256.713 1147.99 256.713 1156.74 Q256.713 1165.47 253.634 1170.08 Q250.579 1174.66 244.769 1174.66 Q238.959 1174.66 235.88 1170.08 Q232.824 1165.47 232.824 1156.74 Q232.824 1147.99 235.88 1143.41 Q238.959 1138.8 244.769 1138.8 Z\" fill=\"#000000\" fill-rule=\"evenodd\" fill-opacity=\"1\" /><path clip-path=\"url(#clip430)\" d=\"M144.329 871.334 L162.686 871.334 L162.686 875.269 L148.612 875.269 L148.612 883.741 Q149.63 883.394 150.649 883.232 Q151.667 883.047 152.686 883.047 Q158.473 883.047 161.852 886.218 Q165.232 889.39 165.232 894.806 Q165.232 900.385 161.76 903.487 Q158.288 906.565 151.968 906.565 Q149.792 906.565 147.524 906.195 Q145.279 905.825 142.871 905.084 L142.871 900.385 Q144.954 901.519 147.177 902.075 Q149.399 902.63 151.876 902.63 Q155.88 902.63 158.218 900.524 Q160.556 898.417 160.556 894.806 Q160.556 891.195 158.218 889.089 Q155.88 886.982 151.876 886.982 Q150.001 886.982 148.126 887.399 Q146.274 887.815 144.329 888.695 L144.329 871.334 Z\" fill=\"#000000\" fill-rule=\"evenodd\" fill-opacity=\"1\" /><path clip-path=\"url(#clip430)\" d=\"M184.445 874.413 Q180.834 874.413 179.005 877.978 Q177.2 881.519 177.2 888.649 Q177.2 895.755 179.005 899.32 Q180.834 902.862 184.445 902.862 Q188.079 902.862 189.885 899.32 Q191.713 895.755 191.713 888.649 Q191.713 881.519 189.885 877.978 Q188.079 874.413 184.445 874.413 M184.445 870.709 Q190.255 870.709 193.311 875.316 Q196.389 879.899 196.389 888.649 Q196.389 897.376 193.311 901.982 Q190.255 906.565 184.445 906.565 Q178.635 906.565 175.556 901.982 Q172.501 897.376 172.501 888.649 Q172.501 879.899 175.556 875.316 Q178.635 870.709 184.445 870.709 Z\" fill=\"#000000\" fill-rule=\"evenodd\" fill-opacity=\"1\" /><path clip-path=\"url(#clip430)\" d=\"M214.607 874.413 Q210.996 874.413 209.167 877.978 Q207.362 881.519 207.362 888.649 Q207.362 895.755 209.167 899.32 Q210.996 902.862 214.607 902.862 Q218.241 902.862 220.047 899.32 Q221.875 895.755 221.875 888.649 Q221.875 881.519 220.047 877.978 Q218.241 874.413 214.607 874.413 M214.607 870.709 Q220.417 870.709 223.473 875.316 Q226.551 879.899 226.551 888.649 Q226.551 897.376 223.473 901.982 Q220.417 906.565 214.607 906.565 Q208.797 906.565 205.718 901.982 Q202.662 897.376 202.662 888.649 Q202.662 879.899 205.718 875.316 Q208.797 870.709 214.607 870.709 Z\" fill=\"#000000\" fill-rule=\"evenodd\" fill-opacity=\"1\" /><path clip-path=\"url(#clip430)\" d=\"M244.769 874.413 Q241.158 874.413 239.329 877.978 Q237.523 881.519 237.523 888.649 Q237.523 895.755 239.329 899.32 Q241.158 902.862 244.769 902.862 Q248.403 902.862 250.209 899.32 Q252.037 895.755 252.037 888.649 Q252.037 881.519 250.209 877.978 Q248.403 874.413 244.769 874.413 M244.769 870.709 Q250.579 870.709 253.634 875.316 Q256.713 879.899 256.713 888.649 Q256.713 897.376 253.634 901.982 Q250.579 906.565 244.769 906.565 Q238.959 906.565 235.88 901.982 Q232.824 897.376 232.824 888.649 Q232.824 879.899 235.88 875.316 Q238.959 870.709 244.769 870.709 Z\" fill=\"#000000\" fill-rule=\"evenodd\" fill-opacity=\"1\" /><path clip-path=\"url(#clip430)\" d=\"M143.103 603.24 L165.325 603.24 L165.325 605.231 L152.778 637.8 L147.894 637.8 L159.7 607.175 L143.103 607.175 L143.103 603.24 Z\" fill=\"#000000\" fill-rule=\"evenodd\" fill-opacity=\"1\" /><path clip-path=\"url(#clip430)\" d=\"M174.491 603.24 L192.848 603.24 L192.848 607.175 L178.774 607.175 L178.774 615.647 Q179.792 615.3 180.811 615.138 Q181.829 614.953 182.848 614.953 Q188.635 614.953 192.014 618.124 Q195.394 621.295 195.394 626.712 Q195.394 632.291 191.922 635.393 Q188.45 638.471 182.13 638.471 Q179.954 638.471 177.686 638.101 Q175.44 637.73 173.033 636.99 L173.033 632.291 Q175.116 633.425 177.339 633.981 Q179.561 634.536 182.038 634.536 Q186.042 634.536 188.38 632.43 Q190.718 630.323 190.718 626.712 Q190.718 623.101 188.38 620.994 Q186.042 618.888 182.038 618.888 Q180.163 618.888 178.288 619.305 Q176.436 619.721 174.491 620.601 L174.491 603.24 Z\" fill=\"#000000\" fill-rule=\"evenodd\" fill-opacity=\"1\" /><path clip-path=\"url(#clip430)\" d=\"M214.607 606.319 Q210.996 606.319 209.167 609.883 Q207.362 613.425 207.362 620.555 Q207.362 627.661 209.167 631.226 Q210.996 634.768 214.607 634.768 Q218.241 634.768 220.047 631.226 Q221.875 627.661 221.875 620.555 Q221.875 613.425 220.047 609.883 Q218.241 606.319 214.607 606.319 M214.607 602.615 Q220.417 602.615 223.473 607.221 Q226.551 611.805 226.551 620.555 Q226.551 629.281 223.473 633.888 Q220.417 638.471 214.607 638.471 Q208.797 638.471 205.718 633.888 Q202.662 629.281 202.662 620.555 Q202.662 611.805 205.718 607.221 Q208.797 602.615 214.607 602.615 Z\" fill=\"#000000\" fill-rule=\"evenodd\" fill-opacity=\"1\" /><path clip-path=\"url(#clip430)\" d=\"M244.769 606.319 Q241.158 606.319 239.329 609.883 Q237.523 613.425 237.523 620.555 Q237.523 627.661 239.329 631.226 Q241.158 634.768 244.769 634.768 Q248.403 634.768 250.209 631.226 Q252.037 627.661 252.037 620.555 Q252.037 613.425 250.209 609.883 Q248.403 606.319 244.769 606.319 M244.769 602.615 Q250.579 602.615 253.634 607.221 Q256.713 611.805 256.713 620.555 Q256.713 629.281 253.634 633.888 Q250.579 638.471 244.769 638.471 Q238.959 638.471 235.88 633.888 Q232.824 629.281 232.824 620.555 Q232.824 611.805 235.88 607.221 Q238.959 602.615 244.769 602.615 Z\" fill=\"#000000\" fill-rule=\"evenodd\" fill-opacity=\"1\" /><path clip-path=\"url(#clip430)\" d=\"M114.931 365.771 L122.57 365.771 L122.57 339.405 L114.26 341.072 L114.26 336.812 L122.524 335.146 L127.2 335.146 L127.2 365.771 L134.839 365.771 L134.839 369.706 L114.931 369.706 L114.931 365.771 Z\" fill=\"#000000\" fill-rule=\"evenodd\" fill-opacity=\"1\" /><path clip-path=\"url(#clip430)\" d=\"M154.283 338.224 Q150.672 338.224 148.843 341.789 Q147.038 345.331 147.038 352.461 Q147.038 359.567 148.843 363.132 Q150.672 366.673 154.283 366.673 Q157.917 366.673 159.723 363.132 Q161.552 359.567 161.552 352.461 Q161.552 345.331 159.723 341.789 Q157.917 338.224 154.283 338.224 M154.283 334.521 Q160.093 334.521 163.149 339.127 Q166.227 343.711 166.227 352.461 Q166.227 361.187 163.149 365.794 Q160.093 370.377 154.283 370.377 Q148.473 370.377 145.394 365.794 Q142.339 361.187 142.339 352.461 Q142.339 343.711 145.394 339.127 Q148.473 334.521 154.283 334.521 Z\" fill=\"#000000\" fill-rule=\"evenodd\" fill-opacity=\"1\" /><path clip-path=\"url(#clip430)\" d=\"M184.445 338.224 Q180.834 338.224 179.005 341.789 Q177.2 345.331 177.2 352.461 Q177.2 359.567 179.005 363.132 Q180.834 366.673 184.445 366.673 Q188.079 366.673 189.885 363.132 Q191.713 359.567 191.713 352.461 Q191.713 345.331 189.885 341.789 Q188.079 338.224 184.445 338.224 M184.445 334.521 Q190.255 334.521 193.311 339.127 Q196.389 343.711 196.389 352.461 Q196.389 361.187 193.311 365.794 Q190.255 370.377 184.445 370.377 Q178.635 370.377 175.556 365.794 Q172.501 361.187 172.501 352.461 Q172.501 343.711 175.556 339.127 Q178.635 334.521 184.445 334.521 Z\" fill=\"#000000\" fill-rule=\"evenodd\" fill-opacity=\"1\" /><path clip-path=\"url(#clip430)\" d=\"M214.607 338.224 Q210.996 338.224 209.167 341.789 Q207.362 345.331 207.362 352.461 Q207.362 359.567 209.167 363.132 Q210.996 366.673 214.607 366.673 Q218.241 366.673 220.047 363.132 Q221.875 359.567 221.875 352.461 Q221.875 345.331 220.047 341.789 Q218.241 338.224 214.607 338.224 M214.607 334.521 Q220.417 334.521 223.473 339.127 Q226.551 343.711 226.551 352.461 Q226.551 361.187 223.473 365.794 Q220.417 370.377 214.607 370.377 Q208.797 370.377 205.718 365.794 Q202.662 361.187 202.662 352.461 Q202.662 343.711 205.718 339.127 Q208.797 334.521 214.607 334.521 Z\" fill=\"#000000\" fill-rule=\"evenodd\" fill-opacity=\"1\" /><path clip-path=\"url(#clip430)\" d=\"M244.769 338.224 Q241.158 338.224 239.329 341.789 Q237.523 345.331 237.523 352.461 Q237.523 359.567 239.329 363.132 Q241.158 366.673 244.769 366.673 Q248.403 366.673 250.209 363.132 Q252.037 359.567 252.037 352.461 Q252.037 345.331 250.209 341.789 Q248.403 338.224 244.769 338.224 M244.769 334.521 Q250.579 334.521 253.634 339.127 Q256.713 343.711 256.713 352.461 Q256.713 361.187 253.634 365.794 Q250.579 370.377 244.769 370.377 Q238.959 370.377 235.88 365.794 Q232.824 361.187 232.824 352.461 Q232.824 343.711 235.88 339.127 Q238.959 334.521 244.769 334.521 Z\" fill=\"#000000\" fill-rule=\"evenodd\" fill-opacity=\"1\" /><path clip-path=\"url(#clip430)\" d=\"M114.931 97.6765 L122.57 97.6765 L122.57 71.3109 L114.26 72.9775 L114.26 68.7183 L122.524 67.0516 L127.2 67.0516 L127.2 97.6765 L134.839 97.6765 L134.839 101.612 L114.931 101.612 L114.931 97.6765 Z\" fill=\"#000000\" fill-rule=\"evenodd\" fill-opacity=\"1\" /><path clip-path=\"url(#clip430)\" d=\"M148.311 97.6765 L164.63 97.6765 L164.63 101.612 L142.686 101.612 L142.686 97.6765 Q145.348 94.9218 149.931 90.2922 Q154.538 85.6395 155.718 84.2969 Q157.964 81.7738 158.843 80.0377 Q159.746 78.2784 159.746 76.5886 Q159.746 73.834 157.802 72.0979 Q155.88 70.3618 152.778 70.3618 Q150.579 70.3618 148.126 71.1257 Q145.695 71.8896 142.917 73.4405 L142.917 68.7183 Q145.741 67.584 148.195 67.0053 Q150.649 66.4266 152.686 66.4266 Q158.056 66.4266 161.251 69.1118 Q164.445 71.797 164.445 76.2877 Q164.445 78.4173 163.635 80.3386 Q162.848 82.2367 160.741 84.8293 Q160.163 85.5006 157.061 88.7182 Q153.959 91.9126 148.311 97.6765 Z\" fill=\"#000000\" fill-rule=\"evenodd\" fill-opacity=\"1\" /><path clip-path=\"url(#clip430)\" d=\"M174.491 67.0516 L192.848 67.0516 L192.848 70.9868 L178.774 70.9868 L178.774 79.459 Q179.792 79.1117 180.811 78.9497 Q181.829 78.7645 182.848 78.7645 Q188.635 78.7645 192.014 81.9358 Q195.394 85.1071 195.394 90.5237 Q195.394 96.1024 191.922 99.2042 Q188.45 102.283 182.13 102.283 Q179.954 102.283 177.686 101.913 Q175.44 101.542 173.033 100.801 L173.033 96.1024 Q175.116 97.2366 177.339 97.7922 Q179.561 98.3477 182.038 98.3477 Q186.042 98.3477 188.38 96.2413 Q190.718 94.1348 190.718 90.5237 Q190.718 86.9126 188.38 84.8062 Q186.042 82.6997 182.038 82.6997 Q180.163 82.6997 178.288 83.1163 Q176.436 83.533 174.491 84.4126 L174.491 67.0516 Z\" fill=\"#000000\" fill-rule=\"evenodd\" fill-opacity=\"1\" /><path clip-path=\"url(#clip430)\" d=\"M214.607 70.1303 Q210.996 70.1303 209.167 73.6951 Q207.362 77.2368 207.362 84.3663 Q207.362 91.4728 209.167 95.0376 Q210.996 98.5792 214.607 98.5792 Q218.241 98.5792 220.047 95.0376 Q221.875 91.4728 221.875 84.3663 Q221.875 77.2368 220.047 73.6951 Q218.241 70.1303 214.607 70.1303 M214.607 66.4266 Q220.417 66.4266 223.473 71.0331 Q226.551 75.6164 226.551 84.3663 Q226.551 93.0931 223.473 97.6996 Q220.417 102.283 214.607 102.283 Q208.797 102.283 205.718 97.6996 Q202.662 93.0931 202.662 84.3663 Q202.662 75.6164 205.718 71.0331 Q208.797 66.4266 214.607 66.4266 Z\" fill=\"#000000\" fill-rule=\"evenodd\" fill-opacity=\"1\" /><path clip-path=\"url(#clip430)\" d=\"M244.769 70.1303 Q241.158 70.1303 239.329 73.6951 Q237.523 77.2368 237.523 84.3663 Q237.523 91.4728 239.329 95.0376 Q241.158 98.5792 244.769 98.5792 Q248.403 98.5792 250.209 95.0376 Q252.037 91.4728 252.037 84.3663 Q252.037 77.2368 250.209 73.6951 Q248.403 70.1303 244.769 70.1303 M244.769 66.4266 Q250.579 66.4266 253.634 71.0331 Q256.713 75.6164 256.713 84.3663 Q256.713 93.0931 253.634 97.6996 Q250.579 102.283 244.769 102.283 Q238.959 102.283 235.88 97.6996 Q232.824 93.0931 232.824 84.3663 Q232.824 75.6164 235.88 71.0331 Q238.959 66.4266 244.769 66.4266 Z\" fill=\"#000000\" fill-rule=\"evenodd\" fill-opacity=\"1\" /><path clip-path=\"url(#clip430)\" d=\"M16.4842 1321.94 L16.4842 1312.36 L48.8219 1300.23 L16.4842 1288.04 L16.4842 1278.46 L64.0042 1278.46 L64.0042 1284.73 L22.277 1284.73 L54.8694 1296.99 L54.8694 1303.45 L22.277 1315.7 L64.0042 1315.7 L64.0042 1321.94 L16.4842 1321.94 Z\" fill=\"#000000\" fill-rule=\"evenodd\" fill-opacity=\"1\" /><path clip-path=\"url(#clip430)\" d=\"M46.0847 1249.75 Q46.0847 1256.85 47.7079 1259.59 Q49.3312 1262.32 53.2461 1262.32 Q56.3653 1262.32 58.2114 1260.29 Q60.0256 1258.22 60.0256 1254.69 Q60.0256 1249.82 56.5881 1246.89 Q53.1188 1243.93 47.3897 1243.93 L46.0847 1243.93 L46.0847 1249.75 M43.6657 1238.07 L64.0042 1238.07 L64.0042 1243.93 L58.5933 1243.93 Q61.8398 1245.93 63.3994 1248.92 Q64.9272 1251.92 64.9272 1256.25 Q64.9272 1261.72 61.8716 1264.97 Q58.7843 1268.18 53.6281 1268.18 Q47.6125 1268.18 44.5569 1264.17 Q41.5014 1260.13 41.5014 1252.14 L41.5014 1243.93 L40.9285 1243.93 Q36.8862 1243.93 34.6901 1246.6 Q32.4621 1249.24 32.4621 1254.05 Q32.4621 1257.1 33.1941 1260 Q33.9262 1262.9 35.3903 1265.57 L29.9795 1265.57 Q28.7381 1262.36 28.1334 1259.33 Q27.4968 1256.31 27.4968 1253.44 Q27.4968 1245.71 31.5072 1241.89 Q35.5176 1238.07 43.6657 1238.07 Z\" fill=\"#000000\" fill-rule=\"evenodd\" fill-opacity=\"1\" /><path clip-path=\"url(#clip430)\" d=\"M28.3562 1196.38 L45.7028 1209.27 L64.0042 1195.71 L64.0042 1202.61 L49.9996 1212.99 L64.0042 1223.37 L64.0042 1230.27 L45.3526 1216.43 L28.3562 1229.1 L28.3562 1222.19 L41.0558 1212.74 L28.3562 1203.28 L28.3562 1196.38 Z\" fill=\"#000000\" fill-rule=\"evenodd\" fill-opacity=\"1\" /><path clip-path=\"url(#clip430)\" d=\"M28.3562 1187.43 L28.3562 1181.58 L64.0042 1181.58 L64.0042 1187.43 L28.3562 1187.43 M14.479 1187.43 L14.479 1181.58 L21.895 1181.58 L21.895 1187.43 L14.479 1187.43 Z\" fill=\"#000000\" fill-rule=\"evenodd\" fill-opacity=\"1\" /><path clip-path=\"url(#clip430)\" d=\"M35.1993 1141.57 Q31.2526 1139.37 29.3747 1136.32 Q27.4968 1133.26 27.4968 1129.12 Q27.4968 1123.55 31.4117 1120.53 Q35.2948 1117.5 42.4881 1117.5 L64.0042 1117.5 L64.0042 1123.39 L42.679 1123.39 Q37.5546 1123.39 35.072 1125.21 Q32.5894 1127.02 32.5894 1130.75 Q32.5894 1135.3 35.6131 1137.94 Q38.6368 1140.58 43.8567 1140.58 L64.0042 1140.58 L64.0042 1146.47 L42.679 1146.47 Q37.5228 1146.47 35.072 1148.28 Q32.5894 1150.1 32.5894 1153.88 Q32.5894 1158.37 35.6449 1161.01 Q38.6686 1163.66 43.8567 1163.66 L64.0042 1163.66 L64.0042 1169.54 L28.3562 1169.54 L28.3562 1163.66 L33.8944 1163.66 Q30.616 1161.65 29.0564 1158.85 Q27.4968 1156.05 27.4968 1152.2 Q27.4968 1148.31 29.4702 1145.61 Q31.4436 1142.87 35.1993 1141.57 Z\" fill=\"#000000\" fill-rule=\"evenodd\" fill-opacity=\"1\" /><path clip-path=\"url(#clip430)\" d=\"M49.9359 1106.43 L28.3562 1106.43 L28.3562 1100.57 L49.7131 1100.57 Q54.7739 1100.57 57.3202 1098.6 Q59.8346 1096.62 59.8346 1092.68 Q59.8346 1087.94 56.8109 1085.2 Q53.7872 1082.43 48.5673 1082.43 L28.3562 1082.43 L28.3562 1076.57 L64.0042 1076.57 L64.0042 1082.43 L58.5296 1082.43 Q61.7762 1084.56 63.3676 1087.39 Q64.9272 1090.2 64.9272 1093.92 Q64.9272 1100.06 61.1078 1103.25 Q57.2883 1106.43 49.9359 1106.43 M27.4968 1091.69 L27.4968 1091.69 Z\" fill=\"#000000\" fill-rule=\"evenodd\" fill-opacity=\"1\" /><path clip-path=\"url(#clip430)\" d=\"M35.1993 1036.76 Q31.2526 1034.56 29.3747 1031.5 Q27.4968 1028.45 27.4968 1024.31 Q27.4968 1018.74 31.4117 1015.72 Q35.2948 1012.69 42.4881 1012.69 L64.0042 1012.69 L64.0042 1018.58 L42.679 1018.58 Q37.5546 1018.58 35.072 1020.4 Q32.5894 1022.21 32.5894 1025.93 Q32.5894 1030.49 35.6131 1033.13 Q38.6368 1035.77 43.8567 1035.77 L64.0042 1035.77 L64.0042 1041.66 L42.679 1041.66 Q37.5228 1041.66 35.072 1043.47 Q32.5894 1045.29 32.5894 1049.07 Q32.5894 1053.56 35.6449 1056.2 Q38.6686 1058.84 43.8567 1058.84 L64.0042 1058.84 L64.0042 1064.73 L28.3562 1064.73 L28.3562 1058.84 L33.8944 1058.84 Q30.616 1056.84 29.0564 1054.04 Q27.4968 1051.24 27.4968 1047.39 Q27.4968 1043.5 29.4702 1040.8 Q31.4436 1038.06 35.1993 1036.76 Z\" fill=\"#000000\" fill-rule=\"evenodd\" fill-opacity=\"1\" /><path clip-path=\"url(#clip430)\" d=\"M49.9359 980.896 L28.3562 980.896 L28.3562 975.04 L49.7131 975.04 Q54.7739 975.04 57.3202 973.067 Q59.8346 971.093 59.8346 967.146 Q59.8346 962.404 56.8109 959.667 Q53.7872 956.898 48.5673 956.898 L28.3562 956.898 L28.3562 951.041 L64.0042 951.041 L64.0042 956.898 L58.5296 956.898 Q61.7762 959.03 63.3676 961.863 Q64.9272 964.664 64.9272 968.388 Q64.9272 974.531 61.1078 977.714 Q57.2883 980.896 49.9359 980.896 M27.4968 966.16 L27.4968 966.16 Z\" fill=\"#000000\" fill-rule=\"evenodd\" fill-opacity=\"1\" /><path clip-path=\"url(#clip430)\" d=\"M42.4881 909.346 L64.0042 909.346 L64.0042 915.202 L42.679 915.202 Q37.6183 915.202 35.1038 917.176 Q32.5894 919.149 32.5894 923.096 Q32.5894 927.838 35.6131 930.576 Q38.6368 933.313 43.8567 933.313 L64.0042 933.313 L64.0042 939.201 L28.3562 939.201 L28.3562 933.313 L33.8944 933.313 Q30.6797 931.212 29.0883 928.379 Q27.4968 925.515 27.4968 921.791 Q27.4968 915.648 31.3163 912.497 Q35.1038 909.346 42.4881 909.346 Z\" fill=\"#000000\" fill-rule=\"evenodd\" fill-opacity=\"1\" /><path clip-path=\"url(#clip430)\" d=\"M46.0847 881.464 Q46.0847 888.562 47.7079 891.299 Q49.3312 894.036 53.2461 894.036 Q56.3653 894.036 58.2114 891.999 Q60.0256 889.93 60.0256 886.398 Q60.0256 881.528 56.5881 878.6 Q53.1188 875.639 47.3897 875.639 L46.0847 875.639 L46.0847 881.464 M43.6657 869.783 L64.0042 869.783 L64.0042 875.639 L58.5933 875.639 Q61.8398 877.645 63.3994 880.637 Q64.9272 883.628 64.9272 887.957 Q64.9272 893.432 61.8716 896.678 Q58.7843 899.893 53.6281 899.893 Q47.6125 899.893 44.5569 895.882 Q41.5014 891.84 41.5014 883.851 L41.5014 875.639 L40.9285 875.639 Q36.8862 875.639 34.6901 878.313 Q32.4621 880.955 32.4621 885.761 Q32.4621 888.816 33.1941 891.713 Q33.9262 894.609 35.3903 897.283 L29.9795 897.283 Q28.7381 894.068 28.1334 891.044 Q27.4968 888.021 27.4968 885.156 Q27.4968 877.422 31.5072 873.602 Q35.5176 869.783 43.6657 869.783 Z\" fill=\"#000000\" fill-rule=\"evenodd\" fill-opacity=\"1\" /><path clip-path=\"url(#clip430)\" d=\"M35.1993 829.966 Q31.2526 827.769 29.3747 824.714 Q27.4968 821.658 27.4968 817.521 Q27.4968 811.951 31.4117 808.927 Q35.2948 805.903 42.4881 805.903 L64.0042 805.903 L64.0042 811.791 L42.679 811.791 Q37.5546 811.791 35.072 813.606 Q32.5894 815.42 32.5894 819.144 Q32.5894 823.695 35.6131 826.337 Q38.6368 828.979 43.8567 828.979 L64.0042 828.979 L64.0042 834.867 L42.679 834.867 Q37.5228 834.867 35.072 836.681 Q32.5894 838.496 32.5894 842.283 Q32.5894 846.771 35.6449 849.413 Q38.6686 852.055 43.8567 852.055 L64.0042 852.055 L64.0042 857.943 L28.3562 857.943 L28.3562 852.055 L33.8944 852.055 Q30.616 850.049 29.0564 847.248 Q27.4968 844.447 27.4968 840.596 Q27.4968 836.713 29.4702 834.008 Q31.4436 831.27 35.1993 829.966 Z\" fill=\"#000000\" fill-rule=\"evenodd\" fill-opacity=\"1\" /><path clip-path=\"url(#clip430)\" d=\"M46.212 768.632 Q39.7508 768.632 36.0905 771.306 Q32.3984 773.947 32.3984 778.594 Q32.3984 783.241 36.0905 785.915 Q39.7508 788.557 46.212 788.557 Q52.6732 788.557 56.3653 785.915 Q60.0256 783.241 60.0256 778.594 Q60.0256 773.947 56.3653 771.306 Q52.6732 768.632 46.212 768.632 M33.7671 788.557 Q30.5842 786.711 29.0564 783.91 Q27.4968 781.077 27.4968 777.162 Q27.4968 770.669 32.6531 766.627 Q37.8093 762.553 46.212 762.553 Q54.6147 762.553 59.771 766.627 Q64.9272 770.669 64.9272 777.162 Q64.9272 781.077 63.3994 783.91 Q61.8398 786.711 58.657 788.557 L64.0042 788.557 L64.0042 794.445 L14.479 794.445 L14.479 788.557 L33.7671 788.557 Z\" fill=\"#000000\" fill-rule=\"evenodd\" fill-opacity=\"1\" /><path clip-path=\"url(#clip430)\" d=\"M28.3562 752.845 L28.3562 746.989 L64.0042 746.989 L64.0042 752.845 L28.3562 752.845 M14.479 752.845 L14.479 746.989 L21.895 746.989 L21.895 752.845 L14.479 752.845 Z\" fill=\"#000000\" fill-rule=\"evenodd\" fill-opacity=\"1\" /><path clip-path=\"url(#clip430)\" d=\"M45.7664 711.277 Q39.4007 711.277 35.8996 713.919 Q32.3984 716.529 32.3984 721.271 Q32.3984 725.982 35.8996 728.623 Q39.4007 731.233 45.7664 731.233 Q52.1003 731.233 55.6014 728.623 Q59.1026 725.982 59.1026 721.271 Q59.1026 716.529 55.6014 713.919 Q52.1003 711.277 45.7664 711.277 M59.58 705.42 Q68.683 705.42 73.1071 709.463 Q77.5631 713.505 77.5631 721.844 Q77.5631 724.931 77.0857 727.669 Q76.6401 730.406 75.6852 732.984 L69.9879 732.984 Q71.3884 730.406 72.0568 727.891 Q72.7252 725.377 72.7252 722.767 Q72.7252 717.006 69.7015 714.141 Q66.7096 711.277 60.6303 711.277 L57.7339 711.277 Q60.885 713.091 62.4446 715.924 Q64.0042 718.757 64.0042 722.703 Q64.0042 729.26 59.0071 733.27 Q54.01 737.281 45.7664 737.281 Q37.491 737.281 32.4939 733.27 Q27.4968 729.26 27.4968 722.703 Q27.4968 718.757 29.0564 715.924 Q30.616 713.091 33.7671 711.277 L28.3562 711.277 L28.3562 705.42 L59.58 705.42 Z\" fill=\"#000000\" fill-rule=\"evenodd\" fill-opacity=\"1\" /><path clip-path=\"url(#clip430)\" d=\"M49.9359 693.962 L28.3562 693.962 L28.3562 688.106 L49.7131 688.106 Q54.7739 688.106 57.3202 686.132 Q59.8346 684.159 59.8346 680.212 Q59.8346 675.47 56.8109 672.733 Q53.7872 669.963 48.5673 669.963 L28.3562 669.963 L28.3562 664.107 L64.0042 664.107 L64.0042 669.963 L58.5296 669.963 Q61.7762 672.096 63.3676 674.929 Q64.9272 677.73 64.9272 681.454 Q64.9272 687.596 61.1078 690.779 Q57.2883 693.962 49.9359 693.962 M27.4968 679.226 L27.4968 679.226 Z\" fill=\"#000000\" fill-rule=\"evenodd\" fill-opacity=\"1\" /><path clip-path=\"url(#clip430)\" d=\"M32.4621 638.23 Q32.4621 642.941 36.1542 645.678 Q39.8145 648.416 46.212 648.416 Q52.6095 648.416 56.3017 645.71 Q59.9619 642.973 59.9619 638.23 Q59.9619 633.552 56.2698 630.814 Q52.5777 628.077 46.212 628.077 Q39.8781 628.077 36.186 630.814 Q32.4621 633.552 32.4621 638.23 M27.4968 638.23 Q27.4968 630.592 32.4621 626.231 Q37.4273 621.871 46.212 621.871 Q54.9649 621.871 59.9619 626.231 Q64.9272 630.592 64.9272 638.23 Q64.9272 645.901 59.9619 650.262 Q54.9649 654.59 46.212 654.59 Q37.4273 654.59 32.4621 650.262 Q27.4968 645.901 27.4968 638.23 Z\" fill=\"#000000\" fill-rule=\"evenodd\" fill-opacity=\"1\" /><path clip-path=\"url(#clip430)\" d=\"M49.9359 612.768 L28.3562 612.768 L28.3562 606.911 L49.7131 606.911 Q54.7739 606.911 57.3202 604.938 Q59.8346 602.964 59.8346 599.018 Q59.8346 594.275 56.8109 591.538 Q53.7872 588.769 48.5673 588.769 L28.3562 588.769 L28.3562 582.912 L64.0042 582.912 L64.0042 588.769 L58.5296 588.769 Q61.7762 590.901 63.3676 593.734 Q64.9272 596.535 64.9272 600.259 Q64.9272 606.402 61.1078 609.585 Q57.2883 612.768 49.9359 612.768 M27.4968 598.031 L27.4968 598.031 Z\" fill=\"#000000\" fill-rule=\"evenodd\" fill-opacity=\"1\" /><path clip-path=\"url(#clip430)\" d=\"M29.4065 548.124 L34.9447 548.124 Q33.6716 550.606 33.035 553.28 Q32.3984 555.954 32.3984 558.818 Q32.3984 563.179 33.7352 565.375 Q35.072 567.539 37.7456 567.539 Q39.7826 567.539 40.9603 565.98 Q42.1061 564.42 43.1565 559.709 L43.6021 557.704 Q44.9389 551.466 47.3897 548.856 Q49.8086 546.214 54.1691 546.214 Q59.1344 546.214 62.0308 550.161 Q64.9272 554.076 64.9272 560.951 Q64.9272 563.815 64.3543 566.935 Q63.8132 570.022 62.6992 573.459 L56.6518 573.459 Q58.3387 570.213 59.198 567.062 Q60.0256 563.911 60.0256 560.823 Q60.0256 556.686 58.6251 554.458 Q57.1929 552.23 54.6147 552.23 Q52.2276 552.23 50.9545 553.853 Q49.6813 555.444 48.5037 560.887 L48.0262 562.924 Q46.8804 568.367 44.5251 570.786 Q42.138 573.205 38.0002 573.205 Q32.9713 573.205 30.2341 569.64 Q27.4968 566.075 27.4968 559.518 Q27.4968 556.272 27.9743 553.407 Q28.4517 550.543 29.4065 548.124 Z\" fill=\"#000000\" fill-rule=\"evenodd\" fill-opacity=\"1\" /><path clip-path=\"url(#clip430)\" d=\"M41.7242 493.379 Q42.4244 491.31 44.7161 489.368 Q47.0077 487.395 51.0181 485.422 L64.0042 478.897 L64.0042 485.804 L51.8138 491.883 Q47.0395 494.238 45.48 496.466 Q43.9204 498.662 43.9204 502.482 L43.9204 509.484 L64.0042 509.484 L64.0042 515.913 L16.4842 515.913 L16.4842 501.4 Q16.4842 493.251 19.8898 489.241 Q23.2955 485.231 30.1704 485.231 Q34.6582 485.231 37.6183 487.331 Q40.5784 489.4 41.7242 493.379 M21.7677 509.484 L38.6368 509.484 L38.6368 501.4 Q38.6368 496.753 36.5043 494.397 Q34.34 492.01 30.1704 492.01 Q26.0009 492.01 23.9002 494.397 Q21.7677 496.753 21.7677 501.4 L21.7677 509.484 Z\" fill=\"#000000\" fill-rule=\"evenodd\" fill-opacity=\"1\" /><path clip-path=\"url(#clip430)\" d=\"M46.0847 456.108 Q46.0847 463.205 47.7079 465.943 Q49.3312 468.68 53.2461 468.68 Q56.3653 468.68 58.2114 466.643 Q60.0256 464.574 60.0256 461.041 Q60.0256 456.171 56.5881 453.243 Q53.1188 450.283 47.3897 450.283 L46.0847 450.283 L46.0847 456.108 M43.6657 444.426 L64.0042 444.426 L64.0042 450.283 L58.5933 450.283 Q61.8398 452.288 63.3994 455.28 Q64.9272 458.272 64.9272 462.601 Q64.9272 468.075 61.8716 471.322 Q58.7843 474.536 53.6281 474.536 Q47.6125 474.536 44.5569 470.526 Q41.5014 466.484 41.5014 458.495 L41.5014 450.283 L40.9285 450.283 Q36.8862 450.283 34.6901 452.957 Q32.4621 455.598 32.4621 460.404 Q32.4621 463.46 33.1941 466.356 Q33.9262 469.253 35.3903 471.926 L29.9795 471.926 Q28.7381 468.712 28.1334 465.688 Q27.4968 462.664 27.4968 459.8 Q27.4968 452.065 31.5072 448.246 Q35.5176 444.426 43.6657 444.426 Z\" fill=\"#000000\" fill-rule=\"evenodd\" fill-opacity=\"1\" /><path clip-path=\"url(#clip430)\" d=\"M42.4881 402.731 L64.0042 402.731 L64.0042 408.588 L42.679 408.588 Q37.6183 408.588 35.1038 410.561 Q32.5894 412.534 32.5894 416.481 Q32.5894 421.223 35.6131 423.961 Q38.6368 426.698 43.8567 426.698 L64.0042 426.698 L64.0042 432.586 L28.3562 432.586 L28.3562 426.698 L33.8944 426.698 Q30.6797 424.597 29.0883 421.765 Q27.4968 418.9 27.4968 415.176 Q27.4968 409.033 31.3163 405.882 Q35.1038 402.731 42.4881 402.731 Z\" fill=\"#000000\" fill-rule=\"evenodd\" fill-opacity=\"1\" /><path clip-path=\"url(#clip430)\" d=\"M45.7664 367.592 Q39.4007 367.592 35.8996 370.234 Q32.3984 372.844 32.3984 377.587 Q32.3984 382.297 35.8996 384.939 Q39.4007 387.549 45.7664 387.549 Q52.1003 387.549 55.6014 384.939 Q59.1026 382.297 59.1026 377.587 Q59.1026 372.844 55.6014 370.234 Q52.1003 367.592 45.7664 367.592 M59.58 361.736 Q68.683 361.736 73.1071 365.778 Q77.5631 369.82 77.5631 378.159 Q77.5631 381.247 77.0857 383.984 Q76.6401 386.721 75.6852 389.299 L69.9879 389.299 Q71.3884 386.721 72.0568 384.207 Q72.7252 381.692 72.7252 379.083 Q72.7252 373.322 69.7015 370.457 Q66.7096 367.592 60.6303 367.592 L57.7339 367.592 Q60.885 369.407 62.4446 372.239 Q64.0042 375.072 64.0042 379.019 Q64.0042 385.576 59.0071 389.586 Q54.01 393.596 45.7664 393.596 Q37.491 393.596 32.4939 389.586 Q27.4968 385.576 27.4968 379.019 Q27.4968 375.072 29.0564 372.239 Q30.616 369.407 33.7671 367.592 L28.3562 367.592 L28.3562 361.736 L59.58 361.736 Z\" fill=\"#000000\" fill-rule=\"evenodd\" fill-opacity=\"1\" /><path clip-path=\"url(#clip430)\" d=\"M44.7161 319.181 L47.5806 319.181 L47.5806 346.108 Q53.6281 345.726 56.8109 342.48 Q59.9619 339.201 59.9619 333.377 Q59.9619 330.003 59.1344 326.852 Q58.3069 323.669 56.6518 320.55 L62.1899 320.55 Q63.5267 323.701 64.227 327.011 Q64.9272 330.321 64.9272 333.727 Q64.9272 342.257 59.9619 347.254 Q54.9967 352.219 46.5303 352.219 Q37.7774 352.219 32.6531 347.509 Q27.4968 342.766 27.4968 334.745 Q27.4968 327.552 32.1438 323.383 Q36.7589 319.181 44.7161 319.181 M42.9973 325.038 Q38.1912 325.101 35.3266 327.743 Q32.4621 330.353 32.4621 334.682 Q32.4621 339.583 35.2312 342.543 Q38.0002 345.472 43.0292 345.917 L42.9973 325.038 Z\" fill=\"#000000\" fill-rule=\"evenodd\" fill-opacity=\"1\" /><path clip-path=\"url(#clip430)\" d=\"M14.5426 274.78 Q21.8632 279.045 29.0246 281.114 Q36.186 283.183 43.5384 283.183 Q50.8908 283.183 58.1159 281.114 Q65.3091 279.014 72.5979 274.78 L72.5979 279.873 Q65.1182 284.647 57.8931 287.034 Q50.668 289.39 43.5384 289.39 Q36.4406 289.39 29.2474 287.034 Q22.0542 284.679 14.5426 279.873 L14.5426 274.78 Z\" fill=\"#000000\" fill-rule=\"evenodd\" fill-opacity=\"1\" /><path clip-path=\"url(#clip430)\" d=\"M14.479 263.64 L14.479 257.752 L43.7294 257.752 L28.3562 240.278 L28.3562 232.799 L45.0344 251.705 L64.0042 232.003 L64.0042 239.642 L46.5939 257.752 L64.0042 257.752 L64.0042 263.64 L14.479 263.64 Z\" fill=\"#000000\" fill-rule=\"evenodd\" fill-opacity=\"1\" /><path clip-path=\"url(#clip430)\" d=\"M35.1993 197.915 Q31.2526 195.718 29.3747 192.663 Q27.4968 189.607 27.4968 185.47 Q27.4968 179.9 31.4117 176.876 Q35.2948 173.852 42.4881 173.852 L64.0042 173.852 L64.0042 179.74 L42.679 179.74 Q37.5546 179.74 35.072 181.555 Q32.5894 183.369 32.5894 187.093 Q32.5894 191.644 35.6131 194.286 Q38.6368 196.928 43.8567 196.928 L64.0042 196.928 L64.0042 202.816 L42.679 202.816 Q37.5228 202.816 35.072 204.63 Q32.5894 206.445 32.5894 210.232 Q32.5894 214.72 35.6449 217.362 Q38.6686 220.004 43.8567 220.004 L64.0042 220.004 L64.0042 225.892 L28.3562 225.892 L28.3562 220.004 L33.8944 220.004 Q30.616 217.998 29.0564 215.197 Q27.4968 212.396 27.4968 208.545 Q27.4968 204.662 29.4702 201.957 Q31.4436 199.219 35.1993 197.915 Z\" fill=\"#000000\" fill-rule=\"evenodd\" fill-opacity=\"1\" /><path clip-path=\"url(#clip430)\" d=\"M14.5426 163.094 L14.5426 158.002 Q22.0542 153.227 29.2474 150.872 Q36.4406 148.485 43.5384 148.485 Q50.668 148.485 57.8931 150.872 Q65.1182 153.227 72.5979 158.002 L72.5979 163.094 Q65.3091 158.861 58.1159 156.792 Q50.8908 154.691 43.5384 154.691 Q36.186 154.691 29.0246 156.792 Q21.8632 158.861 14.5426 163.094 Z\" fill=\"#000000\" fill-rule=\"evenodd\" fill-opacity=\"1\" /><polyline clip-path=\"url(#clip432)\" style=\"stroke:#009af9; stroke-linecap:round; stroke-linejoin:round; stroke-width:4; stroke-opacity:1; fill:none\" points=\"\n  409.908,86.1857 468.8,755.494 527.692,978.597 586.584,1090.15 645.476,1157.08 704.368,1201.7 763.26,1233.57 822.152,1257.48 881.044,1276.07 939.936,1290.94 \n  998.828,1303.11 1057.72,1313.25 1116.61,1321.83 1175.5,1329.19 1234.4,1335.56 1293.29,1341.14 1352.18,1346.06 1411.07,1350.43 1469.96,1354.35 1528.86,1357.87 \n  1587.75,1361.06 1646.64,1363.96 1705.53,1366.6 1764.42,1369.03 1823.32,1371.26 1882.21,1373.32 1941.1,1375.22 1999.99,1376.99 2058.88,1378.64 2117.78,1380.18 \n  2176.67,1381.62 2235.56,1382.97 2294.45,1384.24 \n  \"/>\n<path clip-path=\"url(#clip430)\" d=\"\nM1564.89 196.789 L2284.09 196.789 L2284.09 93.1086 L1564.89 93.1086  Z\n  \" fill=\"#ffffff\" fill-rule=\"evenodd\" fill-opacity=\"1\"/>\n<polyline clip-path=\"url(#clip430)\" style=\"stroke:#000000; stroke-linecap:round; stroke-linejoin:round; stroke-width:4; stroke-opacity:1; fill:none\" points=\"\n  1564.89,196.789 2284.09,196.789 2284.09,93.1086 1564.89,93.1086 1564.89,196.789 \n  \"/>\n<polyline clip-path=\"url(#clip430)\" style=\"stroke:#009af9; stroke-linecap:round; stroke-linejoin:round; stroke-width:4; stroke-opacity:1; fill:none\" points=\"\n  1587.78,144.949 1725.12,144.949 \n  \"/>\n<path clip-path=\"url(#clip430)\" d=\"M1763.84 132.275 L1757.5 149.474 L1770.21 149.474 L1763.84 132.275 M1761.2 127.669 L1766.5 127.669 L1779.67 162.229 L1774.81 162.229 L1771.66 153.363 L1756.09 153.363 L1752.94 162.229 L1748.01 162.229 L1761.2 127.669 Z\" fill=\"#000000\" fill-rule=\"evenodd\" fill-opacity=\"1\" /><path clip-path=\"url(#clip430)\" d=\"M1804.72 141.28 Q1806.32 138.409 1808.54 137.044 Q1810.76 135.678 1813.77 135.678 Q1817.82 135.678 1820.02 138.525 Q1822.22 141.349 1822.22 146.581 L1822.22 162.229 L1817.94 162.229 L1817.94 146.719 Q1817.94 142.993 1816.62 141.187 Q1815.3 139.382 1812.59 139.382 Q1809.28 139.382 1807.36 141.581 Q1805.44 143.78 1805.44 147.576 L1805.44 162.229 L1801.15 162.229 L1801.15 146.719 Q1801.15 142.969 1799.84 141.187 Q1798.52 139.382 1795.76 139.382 Q1792.5 139.382 1790.58 141.604 Q1788.65 143.803 1788.65 147.576 L1788.65 162.229 L1784.37 162.229 L1784.37 136.303 L1788.65 136.303 L1788.65 140.331 Q1790.11 137.946 1792.15 136.812 Q1794.19 135.678 1796.99 135.678 Q1799.81 135.678 1801.78 137.113 Q1803.77 138.548 1804.72 141.28 Z\" fill=\"#000000\" fill-rule=\"evenodd\" fill-opacity=\"1\" /><path clip-path=\"url(#clip430)\" d=\"M1849.33 149.289 Q1849.33 144.59 1847.38 141.928 Q1845.46 139.243 1842.08 139.243 Q1838.7 139.243 1836.76 141.928 Q1834.83 144.59 1834.83 149.289 Q1834.83 153.988 1836.76 156.673 Q1838.7 159.335 1842.08 159.335 Q1845.46 159.335 1847.38 156.673 Q1849.33 153.988 1849.33 149.289 M1834.83 140.238 Q1836.18 137.923 1838.21 136.812 Q1840.27 135.678 1843.12 135.678 Q1847.84 135.678 1850.78 139.428 Q1853.75 143.178 1853.75 149.289 Q1853.75 155.4 1850.78 159.15 Q1847.84 162.9 1843.12 162.9 Q1840.27 162.9 1838.21 161.789 Q1836.18 160.655 1834.83 158.34 L1834.83 162.229 L1830.55 162.229 L1830.55 126.21 L1834.83 126.21 L1834.83 140.238 Z\" fill=\"#000000\" fill-rule=\"evenodd\" fill-opacity=\"1\" /><path clip-path=\"url(#clip430)\" d=\"M1860.81 136.303 L1865.07 136.303 L1865.07 162.229 L1860.81 162.229 L1860.81 136.303 M1860.81 126.21 L1865.07 126.21 L1865.07 131.604 L1860.81 131.604 L1860.81 126.21 Z\" fill=\"#000000\" fill-rule=\"evenodd\" fill-opacity=\"1\" /><path clip-path=\"url(#clip430)\" d=\"M1891.04 148.965 Q1891.04 144.335 1889.12 141.789 Q1887.22 139.243 1883.77 139.243 Q1880.34 139.243 1878.42 141.789 Q1876.52 144.335 1876.52 148.965 Q1876.52 153.571 1878.42 156.118 Q1880.34 158.664 1883.77 158.664 Q1887.22 158.664 1889.12 156.118 Q1891.04 153.571 1891.04 148.965 M1895.3 159.011 Q1895.3 165.631 1892.36 168.849 Q1889.42 172.09 1883.35 172.09 Q1881.11 172.09 1879.12 171.742 Q1877.13 171.418 1875.25 170.724 L1875.25 166.58 Q1877.13 167.599 1878.96 168.085 Q1880.78 168.571 1882.68 168.571 Q1886.87 168.571 1888.96 166.372 Q1891.04 164.196 1891.04 159.775 L1891.04 157.668 Q1889.72 159.96 1887.66 161.094 Q1885.6 162.229 1882.73 162.229 Q1877.96 162.229 1875.04 158.594 Q1872.13 154.96 1872.13 148.965 Q1872.13 142.946 1875.04 139.312 Q1877.96 135.678 1882.73 135.678 Q1885.6 135.678 1887.66 136.812 Q1889.72 137.946 1891.04 140.238 L1891.04 136.303 L1895.3 136.303 L1895.3 159.011 Z\" fill=\"#000000\" fill-rule=\"evenodd\" fill-opacity=\"1\" /><path clip-path=\"url(#clip430)\" d=\"M1903.63 151.997 L1903.63 136.303 L1907.89 136.303 L1907.89 151.835 Q1907.89 155.516 1909.33 157.368 Q1910.76 159.196 1913.63 159.196 Q1917.08 159.196 1919.07 156.997 Q1921.08 154.798 1921.08 151.002 L1921.08 136.303 L1925.34 136.303 L1925.34 162.229 L1921.08 162.229 L1921.08 158.247 Q1919.53 160.608 1917.47 161.766 Q1915.44 162.9 1912.73 162.9 Q1908.26 162.9 1905.95 160.122 Q1903.63 157.344 1903.63 151.997 M1914.35 135.678 L1914.35 135.678 Z\" fill=\"#000000\" fill-rule=\"evenodd\" fill-opacity=\"1\" /><path clip-path=\"url(#clip430)\" d=\"M1944.16 139.289 Q1940.74 139.289 1938.75 141.974 Q1936.76 144.636 1936.76 149.289 Q1936.76 153.942 1938.72 156.627 Q1940.71 159.289 1944.16 159.289 Q1947.57 159.289 1949.56 156.604 Q1951.55 153.918 1951.55 149.289 Q1951.55 144.682 1949.56 141.997 Q1947.57 139.289 1944.16 139.289 M1944.16 135.678 Q1949.72 135.678 1952.89 139.289 Q1956.06 142.9 1956.06 149.289 Q1956.06 155.655 1952.89 159.289 Q1949.72 162.9 1944.16 162.9 Q1938.58 162.9 1935.41 159.289 Q1932.27 155.655 1932.27 149.289 Q1932.27 142.9 1935.41 139.289 Q1938.58 135.678 1944.16 135.678 Z\" fill=\"#000000\" fill-rule=\"evenodd\" fill-opacity=\"1\" /><path clip-path=\"url(#clip430)\" d=\"M1962.68 151.997 L1962.68 136.303 L1966.94 136.303 L1966.94 151.835 Q1966.94 155.516 1968.38 157.368 Q1969.81 159.196 1972.68 159.196 Q1976.13 159.196 1978.12 156.997 Q1980.14 154.798 1980.14 151.002 L1980.14 136.303 L1984.39 136.303 L1984.39 162.229 L1980.14 162.229 L1980.14 158.247 Q1978.58 160.608 1976.52 161.766 Q1974.49 162.9 1971.78 162.9 Q1967.31 162.9 1965 160.122 Q1962.68 157.344 1962.68 151.997 M1973.4 135.678 L1973.4 135.678 Z\" fill=\"#000000\" fill-rule=\"evenodd\" fill-opacity=\"1\" /><path clip-path=\"url(#clip430)\" d=\"M1993.17 136.303 L1997.43 136.303 L1997.43 162.229 L1993.17 162.229 L1993.17 136.303 M1993.17 126.21 L1997.43 126.21 L1997.43 131.604 L1993.17 131.604 L1993.17 126.21 Z\" fill=\"#000000\" fill-rule=\"evenodd\" fill-opacity=\"1\" /><path clip-path=\"url(#clip430)\" d=\"M2010.55 128.942 L2010.55 136.303 L2019.32 136.303 L2019.32 139.613 L2010.55 139.613 L2010.55 153.687 Q2010.55 156.858 2011.41 157.761 Q2012.29 158.664 2014.95 158.664 L2019.32 158.664 L2019.32 162.229 L2014.95 162.229 Q2010.02 162.229 2008.14 160.4 Q2006.27 158.548 2006.27 153.687 L2006.27 139.613 L2003.14 139.613 L2003.14 136.303 L2006.27 136.303 L2006.27 128.942 L2010.55 128.942 Z\" fill=\"#000000\" fill-rule=\"evenodd\" fill-opacity=\"1\" /><path clip-path=\"url(#clip430)\" d=\"M2035.71 164.636 Q2033.91 169.266 2032.2 170.678 Q2030.48 172.09 2027.61 172.09 L2024.21 172.09 L2024.21 168.525 L2026.71 168.525 Q2028.47 168.525 2029.44 167.692 Q2030.41 166.858 2031.59 163.756 L2032.36 161.812 L2021.87 136.303 L2026.38 136.303 L2034.49 156.581 L2042.59 136.303 L2047.1 136.303 L2035.71 164.636 Z\" fill=\"#000000\" fill-rule=\"evenodd\" fill-opacity=\"1\" /><path clip-path=\"url(#clip430)\" d=\"M2068.24 127.669 L2088.1 127.669 L2088.1 131.604 L2072.91 131.604 L2072.91 141.789 L2086.62 141.789 L2086.62 145.724 L2072.91 145.724 L2072.91 162.229 L2068.24 162.229 L2068.24 127.669 Z\" fill=\"#000000\" fill-rule=\"evenodd\" fill-opacity=\"1\" /><path clip-path=\"url(#clip430)\" d=\"M2092.29 151.997 L2092.29 136.303 L2096.55 136.303 L2096.55 151.835 Q2096.55 155.516 2097.98 157.368 Q2099.42 159.196 2102.29 159.196 Q2105.74 159.196 2107.73 156.997 Q2109.74 154.798 2109.74 151.002 L2109.74 136.303 L2114 136.303 L2114 162.229 L2109.74 162.229 L2109.74 158.247 Q2108.19 160.608 2106.13 161.766 Q2104.09 162.9 2101.38 162.9 Q2096.92 162.9 2094.6 160.122 Q2092.29 157.344 2092.29 151.997 M2103 135.678 L2103 135.678 Z\" fill=\"#000000\" fill-rule=\"evenodd\" fill-opacity=\"1\" /><path clip-path=\"url(#clip430)\" d=\"M2144.32 146.581 L2144.32 162.229 L2140.06 162.229 L2140.06 146.719 Q2140.06 143.039 2138.63 141.21 Q2137.19 139.382 2134.32 139.382 Q2130.88 139.382 2128.88 141.581 Q2126.89 143.78 2126.89 147.576 L2126.89 162.229 L2122.61 162.229 L2122.61 136.303 L2126.89 136.303 L2126.89 140.331 Q2128.42 137.993 2130.48 136.835 Q2132.56 135.678 2135.27 135.678 Q2139.74 135.678 2142.03 138.456 Q2144.32 141.21 2144.32 146.581 Z\" fill=\"#000000\" fill-rule=\"evenodd\" fill-opacity=\"1\" /><path clip-path=\"url(#clip430)\" d=\"M2171.48 137.298 L2171.48 141.28 Q2169.67 140.284 2167.84 139.798 Q2166.04 139.289 2164.19 139.289 Q2160.04 139.289 2157.75 141.928 Q2155.46 144.544 2155.46 149.289 Q2155.46 154.034 2157.75 156.673 Q2160.04 159.289 2164.19 159.289 Q2166.04 159.289 2167.84 158.803 Q2169.67 158.293 2171.48 157.298 L2171.48 161.233 Q2169.69 162.067 2167.77 162.483 Q2165.87 162.9 2163.72 162.9 Q2157.87 162.9 2154.42 159.219 Q2150.97 155.539 2150.97 149.289 Q2150.97 142.946 2154.44 139.312 Q2157.94 135.678 2164 135.678 Q2165.97 135.678 2167.84 136.095 Q2169.72 136.488 2171.48 137.298 Z\" fill=\"#000000\" fill-rule=\"evenodd\" fill-opacity=\"1\" /><path clip-path=\"url(#clip430)\" d=\"M2183.1 128.942 L2183.1 136.303 L2191.87 136.303 L2191.87 139.613 L2183.1 139.613 L2183.1 153.687 Q2183.1 156.858 2183.95 157.761 Q2184.83 158.664 2187.5 158.664 L2191.87 158.664 L2191.87 162.229 L2187.5 162.229 Q2182.56 162.229 2180.69 160.4 Q2178.81 158.548 2178.81 153.687 L2178.81 139.613 L2175.69 139.613 L2175.69 136.303 L2178.81 136.303 L2178.81 128.942 L2183.1 128.942 Z\" fill=\"#000000\" fill-rule=\"evenodd\" fill-opacity=\"1\" /><path clip-path=\"url(#clip430)\" d=\"M2197.47 136.303 L2201.73 136.303 L2201.73 162.229 L2197.47 162.229 L2197.47 136.303 M2197.47 126.21 L2201.73 126.21 L2201.73 131.604 L2197.47 131.604 L2197.47 126.21 Z\" fill=\"#000000\" fill-rule=\"evenodd\" fill-opacity=\"1\" /><path clip-path=\"url(#clip430)\" d=\"M2220.69 139.289 Q2217.26 139.289 2215.27 141.974 Q2213.28 144.636 2213.28 149.289 Q2213.28 153.942 2215.25 156.627 Q2217.24 159.289 2220.69 159.289 Q2224.09 159.289 2226.08 156.604 Q2228.07 153.918 2228.07 149.289 Q2228.07 144.682 2226.08 141.997 Q2224.09 139.289 2220.69 139.289 M2220.69 135.678 Q2226.24 135.678 2229.42 139.289 Q2232.59 142.9 2232.59 149.289 Q2232.59 155.655 2229.42 159.289 Q2226.24 162.9 2220.69 162.9 Q2215.11 162.9 2211.94 159.289 Q2208.79 155.655 2208.79 149.289 Q2208.79 142.9 2211.94 139.289 Q2215.11 135.678 2220.69 135.678 Z\" fill=\"#000000\" fill-rule=\"evenodd\" fill-opacity=\"1\" /><path clip-path=\"url(#clip430)\" d=\"M2261.2 146.581 L2261.2 162.229 L2256.94 162.229 L2256.94 146.719 Q2256.94 143.039 2255.5 141.21 Q2254.07 139.382 2251.2 139.382 Q2247.75 139.382 2245.76 141.581 Q2243.77 143.78 2243.77 147.576 L2243.77 162.229 L2239.49 162.229 L2239.49 136.303 L2243.77 136.303 L2243.77 140.331 Q2245.3 137.993 2247.36 136.835 Q2249.44 135.678 2252.15 135.678 Q2256.62 135.678 2258.91 138.456 Q2261.2 141.21 2261.2 146.581 Z\" fill=\"#000000\" fill-rule=\"evenodd\" fill-opacity=\"1\" /></svg>\n",
      "text/html": [
       "<?xml version=\"1.0\" encoding=\"utf-8\"?>\n",
       "<svg xmlns=\"http://www.w3.org/2000/svg\" xmlns:xlink=\"http://www.w3.org/1999/xlink\" width=\"600\" height=\"400\" viewBox=\"0 0 2400 1600\">\n",
       "<defs>\n",
       "  <clipPath id=\"clip480\">\n",
       "    <rect x=\"0\" y=\"0\" width=\"2400\" height=\"1600\"/>\n",
       "  </clipPath>\n",
       "</defs>\n",
       "<path clip-path=\"url(#clip480)\" d=\"\n",
       "M0 1600 L2400 1600 L2400 0 L0 0  Z\n",
       "  \" fill=\"#ffffff\" fill-rule=\"evenodd\" fill-opacity=\"1\"/>\n",
       "<defs>\n",
       "  <clipPath id=\"clip481\">\n",
       "    <rect x=\"480\" y=\"0\" width=\"1681\" height=\"1600\"/>\n",
       "  </clipPath>\n",
       "</defs>\n",
       "<path clip-path=\"url(#clip480)\" d=\"\n",
       "M292.713 1423.18 L2352.76 1423.18 L2352.76 47.2441 L292.713 47.2441  Z\n",
       "  \" fill=\"#ffffff\" fill-rule=\"evenodd\" fill-opacity=\"1\"/>\n",
       "<defs>\n",
       "  <clipPath id=\"clip482\">\n",
       "    <rect x=\"292\" y=\"47\" width=\"2061\" height=\"1377\"/>\n",
       "  </clipPath>\n",
       "</defs>\n",
       "<polyline clip-path=\"url(#clip482)\" style=\"stroke:#000000; stroke-linecap:round; stroke-linejoin:round; stroke-width:2; stroke-opacity:0.1; fill:none\" points=\"\n",
       "  351.016,1423.18 351.016,47.2441 \n",
       "  \"/>\n",
       "<polyline clip-path=\"url(#clip482)\" style=\"stroke:#000000; stroke-linecap:round; stroke-linejoin:round; stroke-width:2; stroke-opacity:0.1; fill:none\" points=\"\n",
       "  939.936,1423.18 939.936,47.2441 \n",
       "  \"/>\n",
       "<polyline clip-path=\"url(#clip482)\" style=\"stroke:#000000; stroke-linecap:round; stroke-linejoin:round; stroke-width:2; stroke-opacity:0.1; fill:none\" points=\"\n",
       "  1528.86,1423.18 1528.86,47.2441 \n",
       "  \"/>\n",
       "<polyline clip-path=\"url(#clip482)\" style=\"stroke:#000000; stroke-linecap:round; stroke-linejoin:round; stroke-width:2; stroke-opacity:0.1; fill:none\" points=\"\n",
       "  2117.78,1423.18 2117.78,47.2441 \n",
       "  \"/>\n",
       "<polyline clip-path=\"url(#clip480)\" style=\"stroke:#000000; stroke-linecap:round; stroke-linejoin:round; stroke-width:4; stroke-opacity:1; fill:none\" points=\"\n",
       "  292.713,1423.18 2352.76,1423.18 \n",
       "  \"/>\n",
       "<polyline clip-path=\"url(#clip480)\" style=\"stroke:#000000; stroke-linecap:round; stroke-linejoin:round; stroke-width:4; stroke-opacity:1; fill:none\" points=\"\n",
       "  351.016,1423.18 351.016,1404.28 \n",
       "  \"/>\n",
       "<polyline clip-path=\"url(#clip480)\" style=\"stroke:#000000; stroke-linecap:round; stroke-linejoin:round; stroke-width:4; stroke-opacity:1; fill:none\" points=\"\n",
       "  939.936,1423.18 939.936,1404.28 \n",
       "  \"/>\n",
       "<polyline clip-path=\"url(#clip480)\" style=\"stroke:#000000; stroke-linecap:round; stroke-linejoin:round; stroke-width:4; stroke-opacity:1; fill:none\" points=\"\n",
       "  1528.86,1423.18 1528.86,1404.28 \n",
       "  \"/>\n",
       "<polyline clip-path=\"url(#clip480)\" style=\"stroke:#000000; stroke-linecap:round; stroke-linejoin:round; stroke-width:4; stroke-opacity:1; fill:none\" points=\"\n",
       "  2117.78,1423.18 2117.78,1404.28 \n",
       "  \"/>\n",
       "<path clip-path=\"url(#clip480)\" d=\"M351.016 1454.1 Q347.405 1454.1 345.576 1457.66 Q343.771 1461.2 343.771 1468.33 Q343.771 1475.44 345.576 1479.01 Q347.405 1482.55 351.016 1482.55 Q354.65 1482.55 356.456 1479.01 Q358.285 1475.44 358.285 1468.33 Q358.285 1461.2 356.456 1457.66 Q354.65 1454.1 351.016 1454.1 M351.016 1450.39 Q356.826 1450.39 359.882 1455 Q362.961 1459.58 362.961 1468.33 Q362.961 1477.06 359.882 1481.67 Q356.826 1486.25 351.016 1486.25 Q345.206 1486.25 342.127 1481.67 Q339.072 1477.06 339.072 1468.33 Q339.072 1459.58 342.127 1455 Q345.206 1450.39 351.016 1450.39 Z\" fill=\"#000000\" fill-rule=\"evenodd\" fill-opacity=\"1\" /><path clip-path=\"url(#clip480)\" d=\"M914.624 1481.64 L922.263 1481.64 L922.263 1455.28 L913.953 1456.95 L913.953 1452.69 L922.217 1451.02 L926.892 1451.02 L926.892 1481.64 L934.531 1481.64 L934.531 1485.58 L914.624 1485.58 L914.624 1481.64 Z\" fill=\"#000000\" fill-rule=\"evenodd\" fill-opacity=\"1\" /><path clip-path=\"url(#clip480)\" d=\"M953.976 1454.1 Q950.365 1454.1 948.536 1457.66 Q946.73 1461.2 946.73 1468.33 Q946.73 1475.44 948.536 1479.01 Q950.365 1482.55 953.976 1482.55 Q957.61 1482.55 959.415 1479.01 Q961.244 1475.44 961.244 1468.33 Q961.244 1461.2 959.415 1457.66 Q957.61 1454.1 953.976 1454.1 M953.976 1450.39 Q959.786 1450.39 962.841 1455 Q965.92 1459.58 965.92 1468.33 Q965.92 1477.06 962.841 1481.67 Q959.786 1486.25 953.976 1486.25 Q948.166 1486.25 945.087 1481.67 Q942.031 1477.06 942.031 1468.33 Q942.031 1459.58 945.087 1455 Q948.166 1450.39 953.976 1450.39 Z\" fill=\"#000000\" fill-rule=\"evenodd\" fill-opacity=\"1\" /><path clip-path=\"url(#clip480)\" d=\"M1507.63 1481.64 L1523.95 1481.64 L1523.95 1485.58 L1502 1485.58 L1502 1481.64 Q1504.67 1478.89 1509.25 1474.26 Q1513.86 1469.61 1515.04 1468.27 Q1517.28 1465.74 1518.16 1464.01 Q1519.06 1462.25 1519.06 1460.56 Q1519.06 1457.8 1517.12 1456.07 Q1515.2 1454.33 1512.1 1454.33 Q1509.9 1454.33 1507.44 1455.09 Q1505.01 1455.86 1502.24 1457.41 L1502.24 1452.69 Q1505.06 1451.55 1507.51 1450.97 Q1509.97 1450.39 1512 1450.39 Q1517.38 1450.39 1520.57 1453.08 Q1523.76 1455.77 1523.76 1460.26 Q1523.76 1462.39 1522.95 1464.31 Q1522.17 1466.2 1520.06 1468.8 Q1519.48 1469.47 1516.38 1472.69 Q1513.28 1475.88 1507.63 1481.64 Z\" fill=\"#000000\" fill-rule=\"evenodd\" fill-opacity=\"1\" /><path clip-path=\"url(#clip480)\" d=\"M1543.76 1454.1 Q1540.15 1454.1 1538.32 1457.66 Q1536.52 1461.2 1536.52 1468.33 Q1536.52 1475.44 1538.32 1479.01 Q1540.15 1482.55 1543.76 1482.55 Q1547.4 1482.55 1549.2 1479.01 Q1551.03 1475.44 1551.03 1468.33 Q1551.03 1461.2 1549.2 1457.66 Q1547.4 1454.1 1543.76 1454.1 M1543.76 1450.39 Q1549.57 1450.39 1552.63 1455 Q1555.71 1459.58 1555.71 1468.33 Q1555.71 1477.06 1552.63 1481.67 Q1549.57 1486.25 1543.76 1486.25 Q1537.95 1486.25 1534.88 1481.67 Q1531.82 1477.06 1531.82 1468.33 Q1531.82 1459.58 1534.88 1455 Q1537.95 1450.39 1543.76 1450.39 Z\" fill=\"#000000\" fill-rule=\"evenodd\" fill-opacity=\"1\" /><path clip-path=\"url(#clip480)\" d=\"M2106.62 1466.95 Q2109.98 1467.66 2111.85 1469.93 Q2113.75 1472.2 2113.75 1475.53 Q2113.75 1480.65 2110.23 1483.45 Q2106.71 1486.25 2100.23 1486.25 Q2098.05 1486.25 2095.74 1485.81 Q2093.45 1485.39 2090.99 1484.54 L2090.99 1480.02 Q2092.94 1481.16 2095.25 1481.74 Q2097.57 1482.32 2100.09 1482.32 Q2104.49 1482.32 2106.78 1480.58 Q2109.1 1478.84 2109.1 1475.53 Q2109.1 1472.48 2106.94 1470.77 Q2104.81 1469.03 2100.99 1469.03 L2096.97 1469.03 L2096.97 1465.19 L2101.18 1465.19 Q2104.63 1465.19 2106.46 1463.82 Q2108.29 1462.43 2108.29 1459.84 Q2108.29 1457.18 2106.39 1455.77 Q2104.51 1454.33 2100.99 1454.33 Q2099.07 1454.33 2096.87 1454.75 Q2094.68 1455.16 2092.04 1456.04 L2092.04 1451.88 Q2094.7 1451.14 2097.01 1450.77 Q2099.35 1450.39 2101.41 1450.39 Q2106.74 1450.39 2109.84 1452.83 Q2112.94 1455.23 2112.94 1459.35 Q2112.94 1462.22 2111.3 1464.21 Q2109.65 1466.18 2106.62 1466.95 Z\" fill=\"#000000\" fill-rule=\"evenodd\" fill-opacity=\"1\" /><path clip-path=\"url(#clip480)\" d=\"M2132.61 1454.1 Q2129 1454.1 2127.17 1457.66 Q2125.37 1461.2 2125.37 1468.33 Q2125.37 1475.44 2127.17 1479.01 Q2129 1482.55 2132.61 1482.55 Q2136.25 1482.55 2138.05 1479.01 Q2139.88 1475.44 2139.88 1468.33 Q2139.88 1461.2 2138.05 1457.66 Q2136.25 1454.1 2132.61 1454.1 M2132.61 1450.39 Q2138.42 1450.39 2141.48 1455 Q2144.56 1459.58 2144.56 1468.33 Q2144.56 1477.06 2141.48 1481.67 Q2138.42 1486.25 2132.61 1486.25 Q2126.8 1486.25 2123.73 1481.67 Q2120.67 1477.06 2120.67 1468.33 Q2120.67 1459.58 2123.73 1455 Q2126.8 1450.39 2132.61 1450.39 Z\" fill=\"#000000\" fill-rule=\"evenodd\" fill-opacity=\"1\" /><path clip-path=\"url(#clip480)\" d=\"M702.365 1520.52 L711.945 1520.52 L724.072 1552.86 L736.262 1520.52 L745.842 1520.52 L745.842 1568.04 L739.572 1568.04 L739.572 1526.32 L727.318 1558.91 L720.857 1558.91 L708.603 1526.32 L708.603 1568.04 L702.365 1568.04 L702.365 1520.52 Z\" fill=\"#000000\" fill-rule=\"evenodd\" fill-opacity=\"1\" /><path clip-path=\"url(#clip480)\" d=\"M774.552 1550.12 Q767.454 1550.12 764.717 1551.75 Q761.979 1553.37 761.979 1557.29 Q761.979 1560.4 764.016 1562.25 Q766.085 1564.07 769.618 1564.07 Q774.488 1564.07 777.416 1560.63 Q780.376 1557.16 780.376 1551.43 L780.376 1550.12 L774.552 1550.12 M786.233 1547.71 L786.233 1568.04 L780.376 1568.04 L780.376 1562.63 Q778.371 1565.88 775.379 1567.44 Q772.387 1568.97 768.059 1568.97 Q762.584 1568.97 759.338 1565.91 Q756.123 1562.82 756.123 1557.67 Q756.123 1551.65 760.133 1548.6 Q764.176 1545.54 772.165 1545.54 L780.376 1545.54 L780.376 1544.97 Q780.376 1540.93 777.703 1538.73 Q775.061 1536.5 770.255 1536.5 Q767.199 1536.5 764.303 1537.23 Q761.406 1537.97 758.733 1539.43 L758.733 1534.02 Q761.948 1532.78 764.971 1532.17 Q767.995 1531.54 770.86 1531.54 Q778.594 1531.54 782.413 1535.55 Q786.233 1539.56 786.233 1547.71 Z\" fill=\"#000000\" fill-rule=\"evenodd\" fill-opacity=\"1\" /><path clip-path=\"url(#clip480)\" d=\"M827.928 1532.4 L815.038 1549.74 L828.597 1568.04 L821.69 1568.04 L811.314 1554.04 L800.938 1568.04 L794.031 1568.04 L807.876 1549.39 L795.208 1532.4 L802.115 1532.4 L811.568 1545.1 L821.021 1532.4 L827.928 1532.4 Z\" fill=\"#000000\" fill-rule=\"evenodd\" fill-opacity=\"1\" /><path clip-path=\"url(#clip480)\" d=\"M836.872 1532.4 L842.728 1532.4 L842.728 1568.04 L836.872 1568.04 L836.872 1532.4 M836.872 1518.52 L842.728 1518.52 L842.728 1525.93 L836.872 1525.93 L836.872 1518.52 Z\" fill=\"#000000\" fill-rule=\"evenodd\" fill-opacity=\"1\" /><path clip-path=\"url(#clip480)\" d=\"M882.737 1539.24 Q884.933 1535.29 887.989 1533.41 Q891.044 1531.54 895.182 1531.54 Q900.752 1531.54 903.776 1535.45 Q906.799 1539.33 906.799 1546.53 L906.799 1568.04 L900.911 1568.04 L900.911 1546.72 Q900.911 1541.59 899.097 1539.11 Q897.282 1536.63 893.559 1536.63 Q889.007 1536.63 886.365 1539.65 Q883.724 1542.68 883.724 1547.9 L883.724 1568.04 L877.835 1568.04 L877.835 1546.72 Q877.835 1541.56 876.021 1539.11 Q874.207 1536.63 870.419 1536.63 Q865.931 1536.63 863.29 1539.68 Q860.648 1542.71 860.648 1547.9 L860.648 1568.04 L854.76 1568.04 L854.76 1532.4 L860.648 1532.4 L860.648 1537.93 Q862.653 1534.66 865.454 1533.1 Q868.255 1531.54 872.106 1531.54 Q875.989 1531.54 878.695 1533.51 Q881.432 1535.48 882.737 1539.24 Z\" fill=\"#000000\" fill-rule=\"evenodd\" fill-opacity=\"1\" /><path clip-path=\"url(#clip480)\" d=\"M917.876 1553.98 L917.876 1532.4 L923.732 1532.4 L923.732 1553.75 Q923.732 1558.81 925.705 1561.36 Q927.679 1563.87 931.625 1563.87 Q936.368 1563.87 939.105 1560.85 Q941.874 1557.83 941.874 1552.61 L941.874 1532.4 L947.731 1532.4 L947.731 1568.04 L941.874 1568.04 L941.874 1562.57 Q939.742 1565.82 936.909 1567.41 Q934.108 1568.97 930.384 1568.97 Q924.241 1568.97 921.058 1565.15 Q917.876 1561.33 917.876 1553.98 M932.612 1531.54 L932.612 1531.54 Z\" fill=\"#000000\" fill-rule=\"evenodd\" fill-opacity=\"1\" /><path clip-path=\"url(#clip480)\" d=\"M987.548 1539.24 Q989.744 1535.29 992.8 1533.41 Q995.855 1531.54 999.993 1531.54 Q1005.56 1531.54 1008.59 1535.45 Q1011.61 1539.33 1011.61 1546.53 L1011.61 1568.04 L1005.72 1568.04 L1005.72 1546.72 Q1005.72 1541.59 1003.91 1539.11 Q1002.09 1536.63 998.37 1536.63 Q993.818 1536.63 991.177 1539.65 Q988.535 1542.68 988.535 1547.9 L988.535 1568.04 L982.647 1568.04 L982.647 1546.72 Q982.647 1541.56 980.832 1539.11 Q979.018 1536.63 975.231 1536.63 Q970.743 1536.63 968.101 1539.68 Q965.459 1542.71 965.459 1547.9 L965.459 1568.04 L959.571 1568.04 L959.571 1532.4 L965.459 1532.4 L965.459 1537.93 Q967.464 1534.66 970.265 1533.1 Q973.066 1531.54 976.917 1531.54 Q980.801 1531.54 983.506 1533.51 Q986.243 1535.48 987.548 1539.24 Z\" fill=\"#000000\" fill-rule=\"evenodd\" fill-opacity=\"1\" /><path clip-path=\"url(#clip480)\" d=\"M1043.41 1553.98 L1043.41 1532.4 L1049.26 1532.4 L1049.26 1553.75 Q1049.26 1558.81 1051.24 1561.36 Q1053.21 1563.87 1057.16 1563.87 Q1061.9 1563.87 1064.64 1560.85 Q1067.41 1557.83 1067.41 1552.61 L1067.41 1532.4 L1073.26 1532.4 L1073.26 1568.04 L1067.41 1568.04 L1067.41 1562.57 Q1065.27 1565.82 1062.44 1567.41 Q1059.64 1568.97 1055.92 1568.97 Q1049.77 1568.97 1046.59 1565.15 Q1043.41 1561.33 1043.41 1553.98 M1058.14 1531.54 L1058.14 1531.54 Z\" fill=\"#000000\" fill-rule=\"evenodd\" fill-opacity=\"1\" /><path clip-path=\"url(#clip480)\" d=\"M1114.96 1546.53 L1114.96 1568.04 L1109.1 1568.04 L1109.1 1546.72 Q1109.1 1541.66 1107.13 1539.14 Q1105.15 1536.63 1101.21 1536.63 Q1096.47 1536.63 1093.73 1539.65 Q1090.99 1542.68 1090.99 1547.9 L1090.99 1568.04 L1085.1 1568.04 L1085.1 1532.4 L1090.99 1532.4 L1090.99 1537.93 Q1093.09 1534.72 1095.92 1533.13 Q1098.79 1531.54 1102.51 1531.54 Q1108.66 1531.54 1111.81 1535.36 Q1114.96 1539.14 1114.96 1546.53 Z\" fill=\"#000000\" fill-rule=\"evenodd\" fill-opacity=\"1\" /><path clip-path=\"url(#clip480)\" d=\"M1142.84 1550.12 Q1135.74 1550.12 1133 1551.75 Q1130.27 1553.37 1130.27 1557.29 Q1130.27 1560.4 1132.3 1562.25 Q1134.37 1564.07 1137.91 1564.07 Q1142.78 1564.07 1145.7 1560.63 Q1148.66 1557.16 1148.66 1551.43 L1148.66 1550.12 L1142.84 1550.12 M1154.52 1547.71 L1154.52 1568.04 L1148.66 1568.04 L1148.66 1562.63 Q1146.66 1565.88 1143.67 1567.44 Q1140.68 1568.97 1136.35 1568.97 Q1130.87 1568.97 1127.63 1565.91 Q1124.41 1562.82 1124.41 1557.67 Q1124.41 1551.65 1128.42 1548.6 Q1132.46 1545.54 1140.45 1545.54 L1148.66 1545.54 L1148.66 1544.97 Q1148.66 1540.93 1145.99 1538.73 Q1143.35 1536.5 1138.54 1536.5 Q1135.49 1536.5 1132.59 1537.23 Q1129.69 1537.97 1127.02 1539.43 L1127.02 1534.02 Q1130.24 1532.78 1133.26 1532.17 Q1136.28 1531.54 1139.15 1531.54 Q1146.88 1531.54 1150.7 1535.55 Q1154.52 1539.56 1154.52 1547.71 Z\" fill=\"#000000\" fill-rule=\"evenodd\" fill-opacity=\"1\" /><path clip-path=\"url(#clip480)\" d=\"M1194.34 1539.24 Q1196.53 1535.29 1199.59 1533.41 Q1202.65 1531.54 1206.78 1531.54 Q1212.35 1531.54 1215.38 1535.45 Q1218.4 1539.33 1218.4 1546.53 L1218.4 1568.04 L1212.51 1568.04 L1212.51 1546.72 Q1212.51 1541.59 1210.7 1539.11 Q1208.88 1536.63 1205.16 1536.63 Q1200.61 1536.63 1197.97 1539.65 Q1195.32 1542.68 1195.32 1547.9 L1195.32 1568.04 L1189.44 1568.04 L1189.44 1546.72 Q1189.44 1541.56 1187.62 1539.11 Q1185.81 1536.63 1182.02 1536.63 Q1177.53 1536.63 1174.89 1539.68 Q1172.25 1542.71 1172.25 1547.9 L1172.25 1568.04 L1166.36 1568.04 L1166.36 1532.4 L1172.25 1532.4 L1172.25 1537.93 Q1174.25 1534.66 1177.06 1533.1 Q1179.86 1531.54 1183.71 1531.54 Q1187.59 1531.54 1190.3 1533.51 Q1193.03 1535.48 1194.34 1539.24 Z\" fill=\"#000000\" fill-rule=\"evenodd\" fill-opacity=\"1\" /><path clip-path=\"url(#clip480)\" d=\"M1255.67 1550.25 Q1255.67 1543.79 1253 1540.13 Q1250.36 1536.44 1245.71 1536.44 Q1241.06 1536.44 1238.39 1540.13 Q1235.75 1543.79 1235.75 1550.25 Q1235.75 1556.71 1238.39 1560.4 Q1241.06 1564.07 1245.71 1564.07 Q1250.36 1564.07 1253 1560.4 Q1255.67 1556.71 1255.67 1550.25 M1235.75 1537.81 Q1237.59 1534.62 1240.39 1533.1 Q1243.23 1531.54 1247.14 1531.54 Q1253.63 1531.54 1257.68 1536.69 Q1261.75 1541.85 1261.75 1550.25 Q1261.75 1558.65 1257.68 1563.81 Q1253.63 1568.97 1247.14 1568.97 Q1243.23 1568.97 1240.39 1567.44 Q1237.59 1565.88 1235.75 1562.7 L1235.75 1568.04 L1229.86 1568.04 L1229.86 1518.52 L1235.75 1518.52 L1235.75 1537.81 Z\" fill=\"#000000\" fill-rule=\"evenodd\" fill-opacity=\"1\" /><path clip-path=\"url(#clip480)\" d=\"M1271.46 1532.4 L1277.32 1532.4 L1277.32 1568.04 L1271.46 1568.04 L1271.46 1532.4 M1271.46 1518.52 L1277.32 1518.52 L1277.32 1525.93 L1271.46 1525.93 L1271.46 1518.52 Z\" fill=\"#000000\" fill-rule=\"evenodd\" fill-opacity=\"1\" /><path clip-path=\"url(#clip480)\" d=\"M1313.03 1549.81 Q1313.03 1543.44 1310.39 1539.94 Q1307.78 1536.44 1303.03 1536.44 Q1298.32 1536.44 1295.68 1539.94 Q1293.07 1543.44 1293.07 1549.81 Q1293.07 1556.14 1295.68 1559.64 Q1298.32 1563.14 1303.03 1563.14 Q1307.78 1563.14 1310.39 1559.64 Q1313.03 1556.14 1313.03 1549.81 M1318.88 1563.62 Q1318.88 1572.72 1314.84 1577.15 Q1310.8 1581.6 1302.46 1581.6 Q1299.37 1581.6 1296.64 1581.13 Q1293.9 1580.68 1291.32 1579.72 L1291.32 1574.03 Q1293.9 1575.43 1296.41 1576.1 Q1298.93 1576.76 1301.54 1576.76 Q1307.3 1576.76 1310.16 1573.74 Q1313.03 1570.75 1313.03 1564.67 L1313.03 1561.77 Q1311.21 1564.92 1308.38 1566.48 Q1305.55 1568.04 1301.6 1568.04 Q1295.04 1568.04 1291.03 1563.05 Q1287.02 1558.05 1287.02 1549.81 Q1287.02 1541.53 1291.03 1536.53 Q1295.04 1531.54 1301.6 1531.54 Q1305.55 1531.54 1308.38 1533.1 Q1311.21 1534.66 1313.03 1537.81 L1313.03 1532.4 L1318.88 1532.4 L1318.88 1563.62 Z\" fill=\"#000000\" fill-rule=\"evenodd\" fill-opacity=\"1\" /><path clip-path=\"url(#clip480)\" d=\"M1330.34 1553.98 L1330.34 1532.4 L1336.2 1532.4 L1336.2 1553.75 Q1336.2 1558.81 1338.17 1561.36 Q1340.14 1563.87 1344.09 1563.87 Q1348.83 1563.87 1351.57 1560.85 Q1354.34 1557.83 1354.34 1552.61 L1354.34 1532.4 L1360.2 1532.4 L1360.2 1568.04 L1354.34 1568.04 L1354.34 1562.57 Q1352.21 1565.82 1349.37 1567.41 Q1346.57 1568.97 1342.85 1568.97 Q1336.71 1568.97 1333.52 1565.15 Q1330.34 1561.33 1330.34 1553.98 M1345.08 1531.54 L1345.08 1531.54 Z\" fill=\"#000000\" fill-rule=\"evenodd\" fill-opacity=\"1\" /><path clip-path=\"url(#clip480)\" d=\"M1386.07 1536.5 Q1381.36 1536.5 1378.63 1540.19 Q1375.89 1543.85 1375.89 1550.25 Q1375.89 1556.65 1378.59 1560.34 Q1381.33 1564 1386.07 1564 Q1390.75 1564 1393.49 1560.31 Q1396.23 1556.62 1396.23 1550.25 Q1396.23 1543.92 1393.49 1540.23 Q1390.75 1536.5 1386.07 1536.5 M1386.07 1531.54 Q1393.71 1531.54 1398.07 1536.5 Q1402.43 1541.47 1402.43 1550.25 Q1402.43 1559 1398.07 1564 Q1393.71 1568.97 1386.07 1568.97 Q1378.4 1568.97 1374.04 1564 Q1369.71 1559 1369.71 1550.25 Q1369.71 1541.47 1374.04 1536.5 Q1378.4 1531.54 1386.07 1531.54 Z\" fill=\"#000000\" fill-rule=\"evenodd\" fill-opacity=\"1\" /><path clip-path=\"url(#clip480)\" d=\"M1411.54 1553.98 L1411.54 1532.4 L1417.39 1532.4 L1417.39 1553.75 Q1417.39 1558.81 1419.37 1561.36 Q1421.34 1563.87 1425.29 1563.87 Q1430.03 1563.87 1432.77 1560.85 Q1435.53 1557.83 1435.53 1552.61 L1435.53 1532.4 L1441.39 1532.4 L1441.39 1568.04 L1435.53 1568.04 L1435.53 1562.57 Q1433.4 1565.82 1430.57 1567.41 Q1427.77 1568.97 1424.04 1568.97 Q1417.9 1568.97 1414.72 1565.15 Q1411.54 1561.33 1411.54 1553.98 M1426.27 1531.54 L1426.27 1531.54 Z\" fill=\"#000000\" fill-rule=\"evenodd\" fill-opacity=\"1\" /><path clip-path=\"url(#clip480)\" d=\"M1476.18 1533.45 L1476.18 1538.98 Q1473.7 1537.71 1471.02 1537.07 Q1468.35 1536.44 1465.49 1536.44 Q1461.12 1536.44 1458.93 1537.77 Q1456.76 1539.11 1456.76 1541.79 Q1456.76 1543.82 1458.32 1545 Q1459.88 1546.15 1464.59 1547.2 L1466.6 1547.64 Q1472.84 1548.98 1475.45 1551.43 Q1478.09 1553.85 1478.09 1558.21 Q1478.09 1563.17 1474.14 1566.07 Q1470.23 1568.97 1463.35 1568.97 Q1460.49 1568.97 1457.37 1568.39 Q1454.28 1567.85 1450.84 1566.74 L1450.84 1560.69 Q1454.09 1562.38 1457.24 1563.24 Q1460.39 1564.07 1463.48 1564.07 Q1467.62 1564.07 1469.85 1562.66 Q1472.07 1561.23 1472.07 1558.65 Q1472.07 1556.27 1470.45 1554.99 Q1468.86 1553.72 1463.42 1552.54 L1461.38 1552.07 Q1455.94 1550.92 1453.52 1548.56 Q1451.1 1546.18 1451.1 1542.04 Q1451.1 1537.01 1454.66 1534.27 Q1458.23 1531.54 1464.79 1531.54 Q1468.03 1531.54 1470.9 1532.01 Q1473.76 1532.49 1476.18 1533.45 Z\" fill=\"#000000\" fill-rule=\"evenodd\" fill-opacity=\"1\" /><path clip-path=\"url(#clip480)\" d=\"M1520.64 1568.04 L1502.5 1520.52 L1509.22 1520.52 L1524.27 1560.53 L1539.36 1520.52 L1546.04 1520.52 L1527.93 1568.04 L1520.64 1568.04 Z\" fill=\"#000000\" fill-rule=\"evenodd\" fill-opacity=\"1\" /><path clip-path=\"url(#clip480)\" d=\"M1578.16 1548.76 L1578.16 1551.62 L1551.23 1551.62 Q1551.61 1557.67 1554.86 1560.85 Q1558.14 1564 1563.96 1564 Q1567.34 1564 1570.49 1563.17 Q1573.67 1562.35 1576.79 1560.69 L1576.79 1566.23 Q1573.64 1567.57 1570.33 1568.27 Q1567.02 1568.97 1563.61 1568.97 Q1555.08 1568.97 1550.09 1564 Q1545.12 1559.04 1545.12 1550.57 Q1545.12 1541.82 1549.83 1536.69 Q1554.57 1531.54 1562.59 1531.54 Q1569.79 1531.54 1573.96 1536.18 Q1578.16 1540.8 1578.16 1548.76 M1572.3 1547.04 Q1572.24 1542.23 1569.6 1539.37 Q1566.99 1536.5 1562.66 1536.5 Q1557.76 1536.5 1554.8 1539.27 Q1551.87 1542.04 1551.42 1547.07 L1572.3 1547.04 Z\" fill=\"#000000\" fill-rule=\"evenodd\" fill-opacity=\"1\" /><path clip-path=\"url(#clip480)\" d=\"M1587.77 1518.52 L1593.63 1518.52 L1593.63 1568.04 L1587.77 1568.04 L1587.77 1518.52 Z\" fill=\"#000000\" fill-rule=\"evenodd\" fill-opacity=\"1\" /><path clip-path=\"url(#clip480)\" d=\"M1619.69 1536.5 Q1614.98 1536.5 1612.25 1540.19 Q1609.51 1543.85 1609.51 1550.25 Q1609.51 1556.65 1612.22 1560.34 Q1614.95 1564 1619.69 1564 Q1624.37 1564 1627.11 1560.31 Q1629.85 1556.62 1629.85 1550.25 Q1629.85 1543.92 1627.11 1540.23 Q1624.37 1536.5 1619.69 1536.5 M1619.69 1531.54 Q1627.33 1531.54 1631.69 1536.5 Q1636.05 1541.47 1636.05 1550.25 Q1636.05 1559 1631.69 1564 Q1627.33 1568.97 1619.69 1568.97 Q1612.02 1568.97 1607.66 1564 Q1603.33 1559 1603.33 1550.25 Q1603.33 1541.47 1607.66 1536.5 Q1612.02 1531.54 1619.69 1531.54 Z\" fill=\"#000000\" fill-rule=\"evenodd\" fill-opacity=\"1\" /><path clip-path=\"url(#clip480)\" d=\"M1671.42 1533.76 L1671.42 1539.24 Q1668.93 1537.87 1666.42 1537.2 Q1663.94 1536.5 1661.39 1536.5 Q1655.69 1536.5 1652.54 1540.13 Q1649.39 1543.73 1649.39 1550.25 Q1649.39 1556.78 1652.54 1560.4 Q1655.69 1564 1661.39 1564 Q1663.94 1564 1666.42 1563.33 Q1668.93 1562.63 1671.42 1561.26 L1671.42 1566.68 Q1668.97 1567.82 1666.32 1568.39 Q1663.71 1568.97 1660.75 1568.97 Q1652.7 1568.97 1647.96 1563.91 Q1643.22 1558.85 1643.22 1550.25 Q1643.22 1541.53 1647.99 1536.53 Q1652.8 1531.54 1661.14 1531.54 Q1663.84 1531.54 1666.42 1532.11 Q1669 1532.65 1671.42 1533.76 Z\" fill=\"#000000\" fill-rule=\"evenodd\" fill-opacity=\"1\" /><path clip-path=\"url(#clip480)\" d=\"M1681.6 1532.4 L1687.46 1532.4 L1687.46 1568.04 L1681.6 1568.04 L1681.6 1532.4 M1681.6 1518.52 L1687.46 1518.52 L1687.46 1525.93 L1681.6 1525.93 L1681.6 1518.52 Z\" fill=\"#000000\" fill-rule=\"evenodd\" fill-opacity=\"1\" /><path clip-path=\"url(#clip480)\" d=\"M1705.5 1522.27 L1705.5 1532.4 L1717.57 1532.4 L1717.57 1536.95 L1705.5 1536.95 L1705.5 1556.3 Q1705.5 1560.66 1706.68 1561.9 Q1707.89 1563.14 1711.55 1563.14 L1717.57 1563.14 L1717.57 1568.04 L1711.55 1568.04 Q1704.77 1568.04 1702.19 1565.53 Q1699.62 1562.98 1699.62 1556.3 L1699.62 1536.95 L1695.32 1536.95 L1695.32 1532.4 L1699.62 1532.4 L1699.62 1522.27 L1705.5 1522.27 Z\" fill=\"#000000\" fill-rule=\"evenodd\" fill-opacity=\"1\" /><path clip-path=\"url(#clip480)\" d=\"M1740.1 1571.35 Q1737.62 1577.72 1735.26 1579.66 Q1732.91 1581.6 1728.96 1581.6 L1724.28 1581.6 L1724.28 1576.7 L1727.72 1576.7 Q1730.14 1576.7 1731.48 1575.56 Q1732.81 1574.41 1734.44 1570.14 L1735.49 1567.47 L1721.07 1532.4 L1727.28 1532.4 L1738.42 1560.28 L1749.56 1532.4 L1755.76 1532.4 L1740.1 1571.35 Z\" fill=\"#000000\" fill-rule=\"evenodd\" fill-opacity=\"1\" /><path clip-path=\"url(#clip480)\" d=\"M1798.63 1518.58 Q1794.37 1525.9 1792.3 1533.06 Q1790.23 1540.23 1790.23 1547.58 Q1790.23 1554.93 1792.3 1562.16 Q1794.4 1569.35 1798.63 1576.64 L1793.54 1576.64 Q1788.77 1569.16 1786.38 1561.93 Q1784.03 1554.71 1784.03 1547.58 Q1784.03 1540.48 1786.38 1533.29 Q1788.74 1526.09 1793.54 1518.58 L1798.63 1518.58 Z\" fill=\"#000000\" fill-rule=\"evenodd\" fill-opacity=\"1\" /><path clip-path=\"url(#clip480)\" d=\"M1837.75 1539.24 Q1839.95 1535.29 1843 1533.41 Q1846.06 1531.54 1850.2 1531.54 Q1855.77 1531.54 1858.79 1535.45 Q1861.81 1539.33 1861.81 1546.53 L1861.81 1568.04 L1855.93 1568.04 L1855.93 1546.72 Q1855.93 1541.59 1854.11 1539.11 Q1852.3 1536.63 1848.57 1536.63 Q1844.02 1536.63 1841.38 1539.65 Q1838.74 1542.68 1838.74 1547.9 L1838.74 1568.04 L1832.85 1568.04 L1832.85 1546.72 Q1832.85 1541.56 1831.04 1539.11 Q1829.22 1536.63 1825.43 1536.63 Q1820.95 1536.63 1818.3 1539.68 Q1815.66 1542.71 1815.66 1547.9 L1815.66 1568.04 L1809.77 1568.04 L1809.77 1532.4 L1815.66 1532.4 L1815.66 1537.93 Q1817.67 1534.66 1820.47 1533.1 Q1823.27 1531.54 1827.12 1531.54 Q1831 1531.54 1833.71 1533.51 Q1836.45 1535.48 1837.75 1539.24 Z\" fill=\"#000000\" fill-rule=\"evenodd\" fill-opacity=\"1\" /><path clip-path=\"url(#clip480)\" d=\"M1883.9 1520.52 L1889.31 1520.52 L1872.76 1574.09 L1867.35 1574.09 L1883.9 1520.52 Z\" fill=\"#000000\" fill-rule=\"evenodd\" fill-opacity=\"1\" /><path clip-path=\"url(#clip480)\" d=\"M1918.18 1533.45 L1918.18 1538.98 Q1915.7 1537.71 1913.03 1537.07 Q1910.35 1536.44 1907.49 1536.44 Q1903.13 1536.44 1900.93 1537.77 Q1898.77 1539.11 1898.77 1541.79 Q1898.77 1543.82 1900.33 1545 Q1901.89 1546.15 1906.6 1547.2 L1908.6 1547.64 Q1914.84 1548.98 1917.45 1551.43 Q1920.09 1553.85 1920.09 1558.21 Q1920.09 1563.17 1916.15 1566.07 Q1912.23 1568.97 1905.36 1568.97 Q1902.49 1568.97 1899.37 1568.39 Q1896.28 1567.85 1892.85 1566.74 L1892.85 1560.69 Q1896.09 1562.38 1899.24 1563.24 Q1902.4 1564.07 1905.48 1564.07 Q1909.62 1564.07 1911.85 1562.66 Q1914.08 1561.23 1914.08 1558.65 Q1914.08 1556.27 1912.45 1554.99 Q1910.86 1553.72 1905.42 1552.54 L1903.38 1552.07 Q1897.94 1550.92 1895.52 1548.56 Q1893.1 1546.18 1893.1 1542.04 Q1893.1 1537.01 1896.67 1534.27 Q1900.23 1531.54 1906.79 1531.54 Q1910.03 1531.54 1912.9 1532.01 Q1915.76 1532.49 1918.18 1533.45 Z\" fill=\"#000000\" fill-rule=\"evenodd\" fill-opacity=\"1\" /><path clip-path=\"url(#clip480)\" d=\"M1928.5 1518.58 L1933.59 1518.58 Q1938.36 1526.09 1940.72 1533.29 Q1943.1 1540.48 1943.1 1547.58 Q1943.1 1554.71 1940.72 1561.93 Q1938.36 1569.16 1933.59 1576.64 L1928.5 1576.64 Q1932.73 1569.35 1934.8 1562.16 Q1936.9 1554.93 1936.9 1547.58 Q1936.9 1540.23 1934.8 1533.06 Q1932.73 1525.9 1928.5 1518.58 Z\" fill=\"#000000\" fill-rule=\"evenodd\" fill-opacity=\"1\" /><polyline clip-path=\"url(#clip482)\" style=\"stroke:#000000; stroke-linecap:round; stroke-linejoin:round; stroke-width:2; stroke-opacity:0.1; fill:none\" points=\"\n",
       "  292.713,1156.71 2352.76,1156.71 \n",
       "  \"/>\n",
       "<polyline clip-path=\"url(#clip482)\" style=\"stroke:#000000; stroke-linecap:round; stroke-linejoin:round; stroke-width:2; stroke-opacity:0.1; fill:none\" points=\"\n",
       "  292.713,888.614 2352.76,888.614 \n",
       "  \"/>\n",
       "<polyline clip-path=\"url(#clip482)\" style=\"stroke:#000000; stroke-linecap:round; stroke-linejoin:round; stroke-width:2; stroke-opacity:0.1; fill:none\" points=\"\n",
       "  292.713,620.52 2352.76,620.52 \n",
       "  \"/>\n",
       "<polyline clip-path=\"url(#clip482)\" style=\"stroke:#000000; stroke-linecap:round; stroke-linejoin:round; stroke-width:2; stroke-opacity:0.1; fill:none\" points=\"\n",
       "  292.713,352.426 2352.76,352.426 \n",
       "  \"/>\n",
       "<polyline clip-path=\"url(#clip482)\" style=\"stroke:#000000; stroke-linecap:round; stroke-linejoin:round; stroke-width:2; stroke-opacity:0.1; fill:none\" points=\"\n",
       "  292.713,84.3316 2352.76,84.3316 \n",
       "  \"/>\n",
       "<polyline clip-path=\"url(#clip480)\" style=\"stroke:#000000; stroke-linecap:round; stroke-linejoin:round; stroke-width:4; stroke-opacity:1; fill:none\" points=\"\n",
       "  292.713,1423.18 292.713,47.2441 \n",
       "  \"/>\n",
       "<polyline clip-path=\"url(#clip480)\" style=\"stroke:#000000; stroke-linecap:round; stroke-linejoin:round; stroke-width:4; stroke-opacity:1; fill:none\" points=\"\n",
       "  292.713,1156.71 311.611,1156.71 \n",
       "  \"/>\n",
       "<polyline clip-path=\"url(#clip480)\" style=\"stroke:#000000; stroke-linecap:round; stroke-linejoin:round; stroke-width:4; stroke-opacity:1; fill:none\" points=\"\n",
       "  292.713,888.614 311.611,888.614 \n",
       "  \"/>\n",
       "<polyline clip-path=\"url(#clip480)\" style=\"stroke:#000000; stroke-linecap:round; stroke-linejoin:round; stroke-width:4; stroke-opacity:1; fill:none\" points=\"\n",
       "  292.713,620.52 311.611,620.52 \n",
       "  \"/>\n",
       "<polyline clip-path=\"url(#clip480)\" style=\"stroke:#000000; stroke-linecap:round; stroke-linejoin:round; stroke-width:4; stroke-opacity:1; fill:none\" points=\"\n",
       "  292.713,352.426 311.611,352.426 \n",
       "  \"/>\n",
       "<polyline clip-path=\"url(#clip480)\" style=\"stroke:#000000; stroke-linecap:round; stroke-linejoin:round; stroke-width:4; stroke-opacity:1; fill:none\" points=\"\n",
       "  292.713,84.3316 311.611,84.3316 \n",
       "  \"/>\n",
       "<path clip-path=\"url(#clip480)\" d=\"M148.311 1170.05 L164.63 1170.05 L164.63 1173.99 L142.686 1173.99 L142.686 1170.05 Q145.348 1167.3 149.931 1162.67 Q154.538 1158.02 155.718 1156.67 Q157.964 1154.15 158.843 1152.41 Q159.746 1150.66 159.746 1148.97 Q159.746 1146.21 157.802 1144.47 Q155.88 1142.74 152.778 1142.74 Q150.579 1142.74 148.126 1143.5 Q145.695 1144.27 142.917 1145.82 L142.917 1141.09 Q145.741 1139.96 148.195 1139.38 Q150.649 1138.8 152.686 1138.8 Q158.056 1138.8 161.251 1141.49 Q164.445 1144.17 164.445 1148.66 Q164.445 1150.79 163.635 1152.72 Q162.848 1154.61 160.741 1157.21 Q160.163 1157.88 157.061 1161.09 Q153.959 1164.29 148.311 1170.05 Z\" fill=\"#000000\" fill-rule=\"evenodd\" fill-opacity=\"1\" /><path clip-path=\"url(#clip480)\" d=\"M174.491 1139.43 L192.848 1139.43 L192.848 1143.36 L178.774 1143.36 L178.774 1151.84 Q179.792 1151.49 180.811 1151.33 Q181.829 1151.14 182.848 1151.14 Q188.635 1151.14 192.014 1154.31 Q195.394 1157.48 195.394 1162.9 Q195.394 1168.48 191.922 1171.58 Q188.45 1174.66 182.13 1174.66 Q179.954 1174.66 177.686 1174.29 Q175.44 1173.92 173.033 1173.18 L173.033 1168.48 Q175.116 1169.61 177.339 1170.17 Q179.561 1170.72 182.038 1170.72 Q186.042 1170.72 188.38 1168.62 Q190.718 1166.51 190.718 1162.9 Q190.718 1159.29 188.38 1157.18 Q186.042 1155.08 182.038 1155.08 Q180.163 1155.08 178.288 1155.49 Q176.436 1155.91 174.491 1156.79 L174.491 1139.43 Z\" fill=\"#000000\" fill-rule=\"evenodd\" fill-opacity=\"1\" /><path clip-path=\"url(#clip480)\" d=\"M214.607 1142.51 Q210.996 1142.51 209.167 1146.07 Q207.362 1149.61 207.362 1156.74 Q207.362 1163.85 209.167 1167.41 Q210.996 1170.96 214.607 1170.96 Q218.241 1170.96 220.047 1167.41 Q221.875 1163.85 221.875 1156.74 Q221.875 1149.61 220.047 1146.07 Q218.241 1142.51 214.607 1142.51 M214.607 1138.8 Q220.417 1138.8 223.473 1143.41 Q226.551 1147.99 226.551 1156.74 Q226.551 1165.47 223.473 1170.08 Q220.417 1174.66 214.607 1174.66 Q208.797 1174.66 205.718 1170.08 Q202.662 1165.47 202.662 1156.74 Q202.662 1147.99 205.718 1143.41 Q208.797 1138.8 214.607 1138.8 Z\" fill=\"#000000\" fill-rule=\"evenodd\" fill-opacity=\"1\" /><path clip-path=\"url(#clip480)\" d=\"M244.769 1142.51 Q241.158 1142.51 239.329 1146.07 Q237.523 1149.61 237.523 1156.74 Q237.523 1163.85 239.329 1167.41 Q241.158 1170.96 244.769 1170.96 Q248.403 1170.96 250.209 1167.41 Q252.037 1163.85 252.037 1156.74 Q252.037 1149.61 250.209 1146.07 Q248.403 1142.51 244.769 1142.51 M244.769 1138.8 Q250.579 1138.8 253.634 1143.41 Q256.713 1147.99 256.713 1156.74 Q256.713 1165.47 253.634 1170.08 Q250.579 1174.66 244.769 1174.66 Q238.959 1174.66 235.88 1170.08 Q232.824 1165.47 232.824 1156.74 Q232.824 1147.99 235.88 1143.41 Q238.959 1138.8 244.769 1138.8 Z\" fill=\"#000000\" fill-rule=\"evenodd\" fill-opacity=\"1\" /><path clip-path=\"url(#clip480)\" d=\"M144.329 871.334 L162.686 871.334 L162.686 875.269 L148.612 875.269 L148.612 883.741 Q149.63 883.394 150.649 883.232 Q151.667 883.047 152.686 883.047 Q158.473 883.047 161.852 886.218 Q165.232 889.39 165.232 894.806 Q165.232 900.385 161.76 903.487 Q158.288 906.565 151.968 906.565 Q149.792 906.565 147.524 906.195 Q145.279 905.825 142.871 905.084 L142.871 900.385 Q144.954 901.519 147.177 902.075 Q149.399 902.63 151.876 902.63 Q155.88 902.63 158.218 900.524 Q160.556 898.417 160.556 894.806 Q160.556 891.195 158.218 889.089 Q155.88 886.982 151.876 886.982 Q150.001 886.982 148.126 887.399 Q146.274 887.815 144.329 888.695 L144.329 871.334 Z\" fill=\"#000000\" fill-rule=\"evenodd\" fill-opacity=\"1\" /><path clip-path=\"url(#clip480)\" d=\"M184.445 874.413 Q180.834 874.413 179.005 877.978 Q177.2 881.519 177.2 888.649 Q177.2 895.755 179.005 899.32 Q180.834 902.862 184.445 902.862 Q188.079 902.862 189.885 899.32 Q191.713 895.755 191.713 888.649 Q191.713 881.519 189.885 877.978 Q188.079 874.413 184.445 874.413 M184.445 870.709 Q190.255 870.709 193.311 875.316 Q196.389 879.899 196.389 888.649 Q196.389 897.376 193.311 901.982 Q190.255 906.565 184.445 906.565 Q178.635 906.565 175.556 901.982 Q172.501 897.376 172.501 888.649 Q172.501 879.899 175.556 875.316 Q178.635 870.709 184.445 870.709 Z\" fill=\"#000000\" fill-rule=\"evenodd\" fill-opacity=\"1\" /><path clip-path=\"url(#clip480)\" d=\"M214.607 874.413 Q210.996 874.413 209.167 877.978 Q207.362 881.519 207.362 888.649 Q207.362 895.755 209.167 899.32 Q210.996 902.862 214.607 902.862 Q218.241 902.862 220.047 899.32 Q221.875 895.755 221.875 888.649 Q221.875 881.519 220.047 877.978 Q218.241 874.413 214.607 874.413 M214.607 870.709 Q220.417 870.709 223.473 875.316 Q226.551 879.899 226.551 888.649 Q226.551 897.376 223.473 901.982 Q220.417 906.565 214.607 906.565 Q208.797 906.565 205.718 901.982 Q202.662 897.376 202.662 888.649 Q202.662 879.899 205.718 875.316 Q208.797 870.709 214.607 870.709 Z\" fill=\"#000000\" fill-rule=\"evenodd\" fill-opacity=\"1\" /><path clip-path=\"url(#clip480)\" d=\"M244.769 874.413 Q241.158 874.413 239.329 877.978 Q237.523 881.519 237.523 888.649 Q237.523 895.755 239.329 899.32 Q241.158 902.862 244.769 902.862 Q248.403 902.862 250.209 899.32 Q252.037 895.755 252.037 888.649 Q252.037 881.519 250.209 877.978 Q248.403 874.413 244.769 874.413 M244.769 870.709 Q250.579 870.709 253.634 875.316 Q256.713 879.899 256.713 888.649 Q256.713 897.376 253.634 901.982 Q250.579 906.565 244.769 906.565 Q238.959 906.565 235.88 901.982 Q232.824 897.376 232.824 888.649 Q232.824 879.899 235.88 875.316 Q238.959 870.709 244.769 870.709 Z\" fill=\"#000000\" fill-rule=\"evenodd\" fill-opacity=\"1\" /><path clip-path=\"url(#clip480)\" d=\"M143.103 603.24 L165.325 603.24 L165.325 605.231 L152.778 637.8 L147.894 637.8 L159.7 607.175 L143.103 607.175 L143.103 603.24 Z\" fill=\"#000000\" fill-rule=\"evenodd\" fill-opacity=\"1\" /><path clip-path=\"url(#clip480)\" d=\"M174.491 603.24 L192.848 603.24 L192.848 607.175 L178.774 607.175 L178.774 615.647 Q179.792 615.3 180.811 615.138 Q181.829 614.953 182.848 614.953 Q188.635 614.953 192.014 618.124 Q195.394 621.295 195.394 626.712 Q195.394 632.291 191.922 635.393 Q188.45 638.471 182.13 638.471 Q179.954 638.471 177.686 638.101 Q175.44 637.73 173.033 636.99 L173.033 632.291 Q175.116 633.425 177.339 633.981 Q179.561 634.536 182.038 634.536 Q186.042 634.536 188.38 632.43 Q190.718 630.323 190.718 626.712 Q190.718 623.101 188.38 620.994 Q186.042 618.888 182.038 618.888 Q180.163 618.888 178.288 619.305 Q176.436 619.721 174.491 620.601 L174.491 603.24 Z\" fill=\"#000000\" fill-rule=\"evenodd\" fill-opacity=\"1\" /><path clip-path=\"url(#clip480)\" d=\"M214.607 606.319 Q210.996 606.319 209.167 609.883 Q207.362 613.425 207.362 620.555 Q207.362 627.661 209.167 631.226 Q210.996 634.768 214.607 634.768 Q218.241 634.768 220.047 631.226 Q221.875 627.661 221.875 620.555 Q221.875 613.425 220.047 609.883 Q218.241 606.319 214.607 606.319 M214.607 602.615 Q220.417 602.615 223.473 607.221 Q226.551 611.805 226.551 620.555 Q226.551 629.281 223.473 633.888 Q220.417 638.471 214.607 638.471 Q208.797 638.471 205.718 633.888 Q202.662 629.281 202.662 620.555 Q202.662 611.805 205.718 607.221 Q208.797 602.615 214.607 602.615 Z\" fill=\"#000000\" fill-rule=\"evenodd\" fill-opacity=\"1\" /><path clip-path=\"url(#clip480)\" d=\"M244.769 606.319 Q241.158 606.319 239.329 609.883 Q237.523 613.425 237.523 620.555 Q237.523 627.661 239.329 631.226 Q241.158 634.768 244.769 634.768 Q248.403 634.768 250.209 631.226 Q252.037 627.661 252.037 620.555 Q252.037 613.425 250.209 609.883 Q248.403 606.319 244.769 606.319 M244.769 602.615 Q250.579 602.615 253.634 607.221 Q256.713 611.805 256.713 620.555 Q256.713 629.281 253.634 633.888 Q250.579 638.471 244.769 638.471 Q238.959 638.471 235.88 633.888 Q232.824 629.281 232.824 620.555 Q232.824 611.805 235.88 607.221 Q238.959 602.615 244.769 602.615 Z\" fill=\"#000000\" fill-rule=\"evenodd\" fill-opacity=\"1\" /><path clip-path=\"url(#clip480)\" d=\"M114.931 365.771 L122.57 365.771 L122.57 339.405 L114.26 341.072 L114.26 336.812 L122.524 335.146 L127.2 335.146 L127.2 365.771 L134.839 365.771 L134.839 369.706 L114.931 369.706 L114.931 365.771 Z\" fill=\"#000000\" fill-rule=\"evenodd\" fill-opacity=\"1\" /><path clip-path=\"url(#clip480)\" d=\"M154.283 338.224 Q150.672 338.224 148.843 341.789 Q147.038 345.331 147.038 352.461 Q147.038 359.567 148.843 363.132 Q150.672 366.673 154.283 366.673 Q157.917 366.673 159.723 363.132 Q161.552 359.567 161.552 352.461 Q161.552 345.331 159.723 341.789 Q157.917 338.224 154.283 338.224 M154.283 334.521 Q160.093 334.521 163.149 339.127 Q166.227 343.711 166.227 352.461 Q166.227 361.187 163.149 365.794 Q160.093 370.377 154.283 370.377 Q148.473 370.377 145.394 365.794 Q142.339 361.187 142.339 352.461 Q142.339 343.711 145.394 339.127 Q148.473 334.521 154.283 334.521 Z\" fill=\"#000000\" fill-rule=\"evenodd\" fill-opacity=\"1\" /><path clip-path=\"url(#clip480)\" d=\"M184.445 338.224 Q180.834 338.224 179.005 341.789 Q177.2 345.331 177.2 352.461 Q177.2 359.567 179.005 363.132 Q180.834 366.673 184.445 366.673 Q188.079 366.673 189.885 363.132 Q191.713 359.567 191.713 352.461 Q191.713 345.331 189.885 341.789 Q188.079 338.224 184.445 338.224 M184.445 334.521 Q190.255 334.521 193.311 339.127 Q196.389 343.711 196.389 352.461 Q196.389 361.187 193.311 365.794 Q190.255 370.377 184.445 370.377 Q178.635 370.377 175.556 365.794 Q172.501 361.187 172.501 352.461 Q172.501 343.711 175.556 339.127 Q178.635 334.521 184.445 334.521 Z\" fill=\"#000000\" fill-rule=\"evenodd\" fill-opacity=\"1\" /><path clip-path=\"url(#clip480)\" d=\"M214.607 338.224 Q210.996 338.224 209.167 341.789 Q207.362 345.331 207.362 352.461 Q207.362 359.567 209.167 363.132 Q210.996 366.673 214.607 366.673 Q218.241 366.673 220.047 363.132 Q221.875 359.567 221.875 352.461 Q221.875 345.331 220.047 341.789 Q218.241 338.224 214.607 338.224 M214.607 334.521 Q220.417 334.521 223.473 339.127 Q226.551 343.711 226.551 352.461 Q226.551 361.187 223.473 365.794 Q220.417 370.377 214.607 370.377 Q208.797 370.377 205.718 365.794 Q202.662 361.187 202.662 352.461 Q202.662 343.711 205.718 339.127 Q208.797 334.521 214.607 334.521 Z\" fill=\"#000000\" fill-rule=\"evenodd\" fill-opacity=\"1\" /><path clip-path=\"url(#clip480)\" d=\"M244.769 338.224 Q241.158 338.224 239.329 341.789 Q237.523 345.331 237.523 352.461 Q237.523 359.567 239.329 363.132 Q241.158 366.673 244.769 366.673 Q248.403 366.673 250.209 363.132 Q252.037 359.567 252.037 352.461 Q252.037 345.331 250.209 341.789 Q248.403 338.224 244.769 338.224 M244.769 334.521 Q250.579 334.521 253.634 339.127 Q256.713 343.711 256.713 352.461 Q256.713 361.187 253.634 365.794 Q250.579 370.377 244.769 370.377 Q238.959 370.377 235.88 365.794 Q232.824 361.187 232.824 352.461 Q232.824 343.711 235.88 339.127 Q238.959 334.521 244.769 334.521 Z\" fill=\"#000000\" fill-rule=\"evenodd\" fill-opacity=\"1\" /><path clip-path=\"url(#clip480)\" d=\"M114.931 97.6765 L122.57 97.6765 L122.57 71.3109 L114.26 72.9775 L114.26 68.7183 L122.524 67.0516 L127.2 67.0516 L127.2 97.6765 L134.839 97.6765 L134.839 101.612 L114.931 101.612 L114.931 97.6765 Z\" fill=\"#000000\" fill-rule=\"evenodd\" fill-opacity=\"1\" /><path clip-path=\"url(#clip480)\" d=\"M148.311 97.6765 L164.63 97.6765 L164.63 101.612 L142.686 101.612 L142.686 97.6765 Q145.348 94.9218 149.931 90.2922 Q154.538 85.6395 155.718 84.2969 Q157.964 81.7738 158.843 80.0377 Q159.746 78.2784 159.746 76.5886 Q159.746 73.834 157.802 72.0979 Q155.88 70.3618 152.778 70.3618 Q150.579 70.3618 148.126 71.1257 Q145.695 71.8896 142.917 73.4405 L142.917 68.7183 Q145.741 67.584 148.195 67.0053 Q150.649 66.4266 152.686 66.4266 Q158.056 66.4266 161.251 69.1118 Q164.445 71.797 164.445 76.2877 Q164.445 78.4173 163.635 80.3386 Q162.848 82.2367 160.741 84.8293 Q160.163 85.5006 157.061 88.7182 Q153.959 91.9126 148.311 97.6765 Z\" fill=\"#000000\" fill-rule=\"evenodd\" fill-opacity=\"1\" /><path clip-path=\"url(#clip480)\" d=\"M174.491 67.0516 L192.848 67.0516 L192.848 70.9868 L178.774 70.9868 L178.774 79.459 Q179.792 79.1117 180.811 78.9497 Q181.829 78.7645 182.848 78.7645 Q188.635 78.7645 192.014 81.9358 Q195.394 85.1071 195.394 90.5237 Q195.394 96.1024 191.922 99.2042 Q188.45 102.283 182.13 102.283 Q179.954 102.283 177.686 101.913 Q175.44 101.542 173.033 100.801 L173.033 96.1024 Q175.116 97.2366 177.339 97.7922 Q179.561 98.3477 182.038 98.3477 Q186.042 98.3477 188.38 96.2413 Q190.718 94.1348 190.718 90.5237 Q190.718 86.9126 188.38 84.8062 Q186.042 82.6997 182.038 82.6997 Q180.163 82.6997 178.288 83.1163 Q176.436 83.533 174.491 84.4126 L174.491 67.0516 Z\" fill=\"#000000\" fill-rule=\"evenodd\" fill-opacity=\"1\" /><path clip-path=\"url(#clip480)\" d=\"M214.607 70.1303 Q210.996 70.1303 209.167 73.6951 Q207.362 77.2368 207.362 84.3663 Q207.362 91.4728 209.167 95.0376 Q210.996 98.5792 214.607 98.5792 Q218.241 98.5792 220.047 95.0376 Q221.875 91.4728 221.875 84.3663 Q221.875 77.2368 220.047 73.6951 Q218.241 70.1303 214.607 70.1303 M214.607 66.4266 Q220.417 66.4266 223.473 71.0331 Q226.551 75.6164 226.551 84.3663 Q226.551 93.0931 223.473 97.6996 Q220.417 102.283 214.607 102.283 Q208.797 102.283 205.718 97.6996 Q202.662 93.0931 202.662 84.3663 Q202.662 75.6164 205.718 71.0331 Q208.797 66.4266 214.607 66.4266 Z\" fill=\"#000000\" fill-rule=\"evenodd\" fill-opacity=\"1\" /><path clip-path=\"url(#clip480)\" d=\"M244.769 70.1303 Q241.158 70.1303 239.329 73.6951 Q237.523 77.2368 237.523 84.3663 Q237.523 91.4728 239.329 95.0376 Q241.158 98.5792 244.769 98.5792 Q248.403 98.5792 250.209 95.0376 Q252.037 91.4728 252.037 84.3663 Q252.037 77.2368 250.209 73.6951 Q248.403 70.1303 244.769 70.1303 M244.769 66.4266 Q250.579 66.4266 253.634 71.0331 Q256.713 75.6164 256.713 84.3663 Q256.713 93.0931 253.634 97.6996 Q250.579 102.283 244.769 102.283 Q238.959 102.283 235.88 97.6996 Q232.824 93.0931 232.824 84.3663 Q232.824 75.6164 235.88 71.0331 Q238.959 66.4266 244.769 66.4266 Z\" fill=\"#000000\" fill-rule=\"evenodd\" fill-opacity=\"1\" /><path clip-path=\"url(#clip480)\" d=\"M16.4842 1321.94 L16.4842 1312.36 L48.8219 1300.23 L16.4842 1288.04 L16.4842 1278.46 L64.0042 1278.46 L64.0042 1284.73 L22.277 1284.73 L54.8694 1296.99 L54.8694 1303.45 L22.277 1315.7 L64.0042 1315.7 L64.0042 1321.94 L16.4842 1321.94 Z\" fill=\"#000000\" fill-rule=\"evenodd\" fill-opacity=\"1\" /><path clip-path=\"url(#clip480)\" d=\"M46.0847 1249.75 Q46.0847 1256.85 47.7079 1259.59 Q49.3312 1262.32 53.2461 1262.32 Q56.3653 1262.32 58.2114 1260.29 Q60.0256 1258.22 60.0256 1254.69 Q60.0256 1249.82 56.5881 1246.89 Q53.1188 1243.93 47.3897 1243.93 L46.0847 1243.93 L46.0847 1249.75 M43.6657 1238.07 L64.0042 1238.07 L64.0042 1243.93 L58.5933 1243.93 Q61.8398 1245.93 63.3994 1248.92 Q64.9272 1251.92 64.9272 1256.25 Q64.9272 1261.72 61.8716 1264.97 Q58.7843 1268.18 53.6281 1268.18 Q47.6125 1268.18 44.5569 1264.17 Q41.5014 1260.13 41.5014 1252.14 L41.5014 1243.93 L40.9285 1243.93 Q36.8862 1243.93 34.6901 1246.6 Q32.4621 1249.24 32.4621 1254.05 Q32.4621 1257.1 33.1941 1260 Q33.9262 1262.9 35.3903 1265.57 L29.9795 1265.57 Q28.7381 1262.36 28.1334 1259.33 Q27.4968 1256.31 27.4968 1253.44 Q27.4968 1245.71 31.5072 1241.89 Q35.5176 1238.07 43.6657 1238.07 Z\" fill=\"#000000\" fill-rule=\"evenodd\" fill-opacity=\"1\" /><path clip-path=\"url(#clip480)\" d=\"M28.3562 1196.38 L45.7028 1209.27 L64.0042 1195.71 L64.0042 1202.61 L49.9996 1212.99 L64.0042 1223.37 L64.0042 1230.27 L45.3526 1216.43 L28.3562 1229.1 L28.3562 1222.19 L41.0558 1212.74 L28.3562 1203.28 L28.3562 1196.38 Z\" fill=\"#000000\" fill-rule=\"evenodd\" fill-opacity=\"1\" /><path clip-path=\"url(#clip480)\" d=\"M28.3562 1187.43 L28.3562 1181.58 L64.0042 1181.58 L64.0042 1187.43 L28.3562 1187.43 M14.479 1187.43 L14.479 1181.58 L21.895 1181.58 L21.895 1187.43 L14.479 1187.43 Z\" fill=\"#000000\" fill-rule=\"evenodd\" fill-opacity=\"1\" /><path clip-path=\"url(#clip480)\" d=\"M35.1993 1141.57 Q31.2526 1139.37 29.3747 1136.32 Q27.4968 1133.26 27.4968 1129.12 Q27.4968 1123.55 31.4117 1120.53 Q35.2948 1117.5 42.4881 1117.5 L64.0042 1117.5 L64.0042 1123.39 L42.679 1123.39 Q37.5546 1123.39 35.072 1125.21 Q32.5894 1127.02 32.5894 1130.75 Q32.5894 1135.3 35.6131 1137.94 Q38.6368 1140.58 43.8567 1140.58 L64.0042 1140.58 L64.0042 1146.47 L42.679 1146.47 Q37.5228 1146.47 35.072 1148.28 Q32.5894 1150.1 32.5894 1153.88 Q32.5894 1158.37 35.6449 1161.01 Q38.6686 1163.66 43.8567 1163.66 L64.0042 1163.66 L64.0042 1169.54 L28.3562 1169.54 L28.3562 1163.66 L33.8944 1163.66 Q30.616 1161.65 29.0564 1158.85 Q27.4968 1156.05 27.4968 1152.2 Q27.4968 1148.31 29.4702 1145.61 Q31.4436 1142.87 35.1993 1141.57 Z\" fill=\"#000000\" fill-rule=\"evenodd\" fill-opacity=\"1\" /><path clip-path=\"url(#clip480)\" d=\"M49.9359 1106.43 L28.3562 1106.43 L28.3562 1100.57 L49.7131 1100.57 Q54.7739 1100.57 57.3202 1098.6 Q59.8346 1096.62 59.8346 1092.68 Q59.8346 1087.94 56.8109 1085.2 Q53.7872 1082.43 48.5673 1082.43 L28.3562 1082.43 L28.3562 1076.57 L64.0042 1076.57 L64.0042 1082.43 L58.5296 1082.43 Q61.7762 1084.56 63.3676 1087.39 Q64.9272 1090.2 64.9272 1093.92 Q64.9272 1100.06 61.1078 1103.25 Q57.2883 1106.43 49.9359 1106.43 M27.4968 1091.69 L27.4968 1091.69 Z\" fill=\"#000000\" fill-rule=\"evenodd\" fill-opacity=\"1\" /><path clip-path=\"url(#clip480)\" d=\"M35.1993 1036.76 Q31.2526 1034.56 29.3747 1031.5 Q27.4968 1028.45 27.4968 1024.31 Q27.4968 1018.74 31.4117 1015.72 Q35.2948 1012.69 42.4881 1012.69 L64.0042 1012.69 L64.0042 1018.58 L42.679 1018.58 Q37.5546 1018.58 35.072 1020.4 Q32.5894 1022.21 32.5894 1025.93 Q32.5894 1030.49 35.6131 1033.13 Q38.6368 1035.77 43.8567 1035.77 L64.0042 1035.77 L64.0042 1041.66 L42.679 1041.66 Q37.5228 1041.66 35.072 1043.47 Q32.5894 1045.29 32.5894 1049.07 Q32.5894 1053.56 35.6449 1056.2 Q38.6686 1058.84 43.8567 1058.84 L64.0042 1058.84 L64.0042 1064.73 L28.3562 1064.73 L28.3562 1058.84 L33.8944 1058.84 Q30.616 1056.84 29.0564 1054.04 Q27.4968 1051.24 27.4968 1047.39 Q27.4968 1043.5 29.4702 1040.8 Q31.4436 1038.06 35.1993 1036.76 Z\" fill=\"#000000\" fill-rule=\"evenodd\" fill-opacity=\"1\" /><path clip-path=\"url(#clip480)\" d=\"M49.9359 980.896 L28.3562 980.896 L28.3562 975.04 L49.7131 975.04 Q54.7739 975.04 57.3202 973.067 Q59.8346 971.093 59.8346 967.146 Q59.8346 962.404 56.8109 959.667 Q53.7872 956.898 48.5673 956.898 L28.3562 956.898 L28.3562 951.041 L64.0042 951.041 L64.0042 956.898 L58.5296 956.898 Q61.7762 959.03 63.3676 961.863 Q64.9272 964.664 64.9272 968.388 Q64.9272 974.531 61.1078 977.714 Q57.2883 980.896 49.9359 980.896 M27.4968 966.16 L27.4968 966.16 Z\" fill=\"#000000\" fill-rule=\"evenodd\" fill-opacity=\"1\" /><path clip-path=\"url(#clip480)\" d=\"M42.4881 909.346 L64.0042 909.346 L64.0042 915.202 L42.679 915.202 Q37.6183 915.202 35.1038 917.176 Q32.5894 919.149 32.5894 923.096 Q32.5894 927.838 35.6131 930.576 Q38.6368 933.313 43.8567 933.313 L64.0042 933.313 L64.0042 939.201 L28.3562 939.201 L28.3562 933.313 L33.8944 933.313 Q30.6797 931.212 29.0883 928.379 Q27.4968 925.515 27.4968 921.791 Q27.4968 915.648 31.3163 912.497 Q35.1038 909.346 42.4881 909.346 Z\" fill=\"#000000\" fill-rule=\"evenodd\" fill-opacity=\"1\" /><path clip-path=\"url(#clip480)\" d=\"M46.0847 881.464 Q46.0847 888.562 47.7079 891.299 Q49.3312 894.036 53.2461 894.036 Q56.3653 894.036 58.2114 891.999 Q60.0256 889.93 60.0256 886.398 Q60.0256 881.528 56.5881 878.6 Q53.1188 875.639 47.3897 875.639 L46.0847 875.639 L46.0847 881.464 M43.6657 869.783 L64.0042 869.783 L64.0042 875.639 L58.5933 875.639 Q61.8398 877.645 63.3994 880.637 Q64.9272 883.628 64.9272 887.957 Q64.9272 893.432 61.8716 896.678 Q58.7843 899.893 53.6281 899.893 Q47.6125 899.893 44.5569 895.882 Q41.5014 891.84 41.5014 883.851 L41.5014 875.639 L40.9285 875.639 Q36.8862 875.639 34.6901 878.313 Q32.4621 880.955 32.4621 885.761 Q32.4621 888.816 33.1941 891.713 Q33.9262 894.609 35.3903 897.283 L29.9795 897.283 Q28.7381 894.068 28.1334 891.044 Q27.4968 888.021 27.4968 885.156 Q27.4968 877.422 31.5072 873.602 Q35.5176 869.783 43.6657 869.783 Z\" fill=\"#000000\" fill-rule=\"evenodd\" fill-opacity=\"1\" /><path clip-path=\"url(#clip480)\" d=\"M35.1993 829.966 Q31.2526 827.769 29.3747 824.714 Q27.4968 821.658 27.4968 817.521 Q27.4968 811.951 31.4117 808.927 Q35.2948 805.903 42.4881 805.903 L64.0042 805.903 L64.0042 811.791 L42.679 811.791 Q37.5546 811.791 35.072 813.606 Q32.5894 815.42 32.5894 819.144 Q32.5894 823.695 35.6131 826.337 Q38.6368 828.979 43.8567 828.979 L64.0042 828.979 L64.0042 834.867 L42.679 834.867 Q37.5228 834.867 35.072 836.681 Q32.5894 838.496 32.5894 842.283 Q32.5894 846.771 35.6449 849.413 Q38.6686 852.055 43.8567 852.055 L64.0042 852.055 L64.0042 857.943 L28.3562 857.943 L28.3562 852.055 L33.8944 852.055 Q30.616 850.049 29.0564 847.248 Q27.4968 844.447 27.4968 840.596 Q27.4968 836.713 29.4702 834.008 Q31.4436 831.27 35.1993 829.966 Z\" fill=\"#000000\" fill-rule=\"evenodd\" fill-opacity=\"1\" /><path clip-path=\"url(#clip480)\" d=\"M46.212 768.632 Q39.7508 768.632 36.0905 771.306 Q32.3984 773.947 32.3984 778.594 Q32.3984 783.241 36.0905 785.915 Q39.7508 788.557 46.212 788.557 Q52.6732 788.557 56.3653 785.915 Q60.0256 783.241 60.0256 778.594 Q60.0256 773.947 56.3653 771.306 Q52.6732 768.632 46.212 768.632 M33.7671 788.557 Q30.5842 786.711 29.0564 783.91 Q27.4968 781.077 27.4968 777.162 Q27.4968 770.669 32.6531 766.627 Q37.8093 762.553 46.212 762.553 Q54.6147 762.553 59.771 766.627 Q64.9272 770.669 64.9272 777.162 Q64.9272 781.077 63.3994 783.91 Q61.8398 786.711 58.657 788.557 L64.0042 788.557 L64.0042 794.445 L14.479 794.445 L14.479 788.557 L33.7671 788.557 Z\" fill=\"#000000\" fill-rule=\"evenodd\" fill-opacity=\"1\" /><path clip-path=\"url(#clip480)\" d=\"M28.3562 752.845 L28.3562 746.989 L64.0042 746.989 L64.0042 752.845 L28.3562 752.845 M14.479 752.845 L14.479 746.989 L21.895 746.989 L21.895 752.845 L14.479 752.845 Z\" fill=\"#000000\" fill-rule=\"evenodd\" fill-opacity=\"1\" /><path clip-path=\"url(#clip480)\" d=\"M45.7664 711.277 Q39.4007 711.277 35.8996 713.919 Q32.3984 716.529 32.3984 721.271 Q32.3984 725.982 35.8996 728.623 Q39.4007 731.233 45.7664 731.233 Q52.1003 731.233 55.6014 728.623 Q59.1026 725.982 59.1026 721.271 Q59.1026 716.529 55.6014 713.919 Q52.1003 711.277 45.7664 711.277 M59.58 705.42 Q68.683 705.42 73.1071 709.463 Q77.5631 713.505 77.5631 721.844 Q77.5631 724.931 77.0857 727.669 Q76.6401 730.406 75.6852 732.984 L69.9879 732.984 Q71.3884 730.406 72.0568 727.891 Q72.7252 725.377 72.7252 722.767 Q72.7252 717.006 69.7015 714.141 Q66.7096 711.277 60.6303 711.277 L57.7339 711.277 Q60.885 713.091 62.4446 715.924 Q64.0042 718.757 64.0042 722.703 Q64.0042 729.26 59.0071 733.27 Q54.01 737.281 45.7664 737.281 Q37.491 737.281 32.4939 733.27 Q27.4968 729.26 27.4968 722.703 Q27.4968 718.757 29.0564 715.924 Q30.616 713.091 33.7671 711.277 L28.3562 711.277 L28.3562 705.42 L59.58 705.42 Z\" fill=\"#000000\" fill-rule=\"evenodd\" fill-opacity=\"1\" /><path clip-path=\"url(#clip480)\" d=\"M49.9359 693.962 L28.3562 693.962 L28.3562 688.106 L49.7131 688.106 Q54.7739 688.106 57.3202 686.132 Q59.8346 684.159 59.8346 680.212 Q59.8346 675.47 56.8109 672.733 Q53.7872 669.963 48.5673 669.963 L28.3562 669.963 L28.3562 664.107 L64.0042 664.107 L64.0042 669.963 L58.5296 669.963 Q61.7762 672.096 63.3676 674.929 Q64.9272 677.73 64.9272 681.454 Q64.9272 687.596 61.1078 690.779 Q57.2883 693.962 49.9359 693.962 M27.4968 679.226 L27.4968 679.226 Z\" fill=\"#000000\" fill-rule=\"evenodd\" fill-opacity=\"1\" /><path clip-path=\"url(#clip480)\" d=\"M32.4621 638.23 Q32.4621 642.941 36.1542 645.678 Q39.8145 648.416 46.212 648.416 Q52.6095 648.416 56.3017 645.71 Q59.9619 642.973 59.9619 638.23 Q59.9619 633.552 56.2698 630.814 Q52.5777 628.077 46.212 628.077 Q39.8781 628.077 36.186 630.814 Q32.4621 633.552 32.4621 638.23 M27.4968 638.23 Q27.4968 630.592 32.4621 626.231 Q37.4273 621.871 46.212 621.871 Q54.9649 621.871 59.9619 626.231 Q64.9272 630.592 64.9272 638.23 Q64.9272 645.901 59.9619 650.262 Q54.9649 654.59 46.212 654.59 Q37.4273 654.59 32.4621 650.262 Q27.4968 645.901 27.4968 638.23 Z\" fill=\"#000000\" fill-rule=\"evenodd\" fill-opacity=\"1\" /><path clip-path=\"url(#clip480)\" d=\"M49.9359 612.768 L28.3562 612.768 L28.3562 606.911 L49.7131 606.911 Q54.7739 606.911 57.3202 604.938 Q59.8346 602.964 59.8346 599.018 Q59.8346 594.275 56.8109 591.538 Q53.7872 588.769 48.5673 588.769 L28.3562 588.769 L28.3562 582.912 L64.0042 582.912 L64.0042 588.769 L58.5296 588.769 Q61.7762 590.901 63.3676 593.734 Q64.9272 596.535 64.9272 600.259 Q64.9272 606.402 61.1078 609.585 Q57.2883 612.768 49.9359 612.768 M27.4968 598.031 L27.4968 598.031 Z\" fill=\"#000000\" fill-rule=\"evenodd\" fill-opacity=\"1\" /><path clip-path=\"url(#clip480)\" d=\"M29.4065 548.124 L34.9447 548.124 Q33.6716 550.606 33.035 553.28 Q32.3984 555.954 32.3984 558.818 Q32.3984 563.179 33.7352 565.375 Q35.072 567.539 37.7456 567.539 Q39.7826 567.539 40.9603 565.98 Q42.1061 564.42 43.1565 559.709 L43.6021 557.704 Q44.9389 551.466 47.3897 548.856 Q49.8086 546.214 54.1691 546.214 Q59.1344 546.214 62.0308 550.161 Q64.9272 554.076 64.9272 560.951 Q64.9272 563.815 64.3543 566.935 Q63.8132 570.022 62.6992 573.459 L56.6518 573.459 Q58.3387 570.213 59.198 567.062 Q60.0256 563.911 60.0256 560.823 Q60.0256 556.686 58.6251 554.458 Q57.1929 552.23 54.6147 552.23 Q52.2276 552.23 50.9545 553.853 Q49.6813 555.444 48.5037 560.887 L48.0262 562.924 Q46.8804 568.367 44.5251 570.786 Q42.138 573.205 38.0002 573.205 Q32.9713 573.205 30.2341 569.64 Q27.4968 566.075 27.4968 559.518 Q27.4968 556.272 27.9743 553.407 Q28.4517 550.543 29.4065 548.124 Z\" fill=\"#000000\" fill-rule=\"evenodd\" fill-opacity=\"1\" /><path clip-path=\"url(#clip480)\" d=\"M41.7242 493.379 Q42.4244 491.31 44.7161 489.368 Q47.0077 487.395 51.0181 485.422 L64.0042 478.897 L64.0042 485.804 L51.8138 491.883 Q47.0395 494.238 45.48 496.466 Q43.9204 498.662 43.9204 502.482 L43.9204 509.484 L64.0042 509.484 L64.0042 515.913 L16.4842 515.913 L16.4842 501.4 Q16.4842 493.251 19.8898 489.241 Q23.2955 485.231 30.1704 485.231 Q34.6582 485.231 37.6183 487.331 Q40.5784 489.4 41.7242 493.379 M21.7677 509.484 L38.6368 509.484 L38.6368 501.4 Q38.6368 496.753 36.5043 494.397 Q34.34 492.01 30.1704 492.01 Q26.0009 492.01 23.9002 494.397 Q21.7677 496.753 21.7677 501.4 L21.7677 509.484 Z\" fill=\"#000000\" fill-rule=\"evenodd\" fill-opacity=\"1\" /><path clip-path=\"url(#clip480)\" d=\"M46.0847 456.108 Q46.0847 463.205 47.7079 465.943 Q49.3312 468.68 53.2461 468.68 Q56.3653 468.68 58.2114 466.643 Q60.0256 464.574 60.0256 461.041 Q60.0256 456.171 56.5881 453.243 Q53.1188 450.283 47.3897 450.283 L46.0847 450.283 L46.0847 456.108 M43.6657 444.426 L64.0042 444.426 L64.0042 450.283 L58.5933 450.283 Q61.8398 452.288 63.3994 455.28 Q64.9272 458.272 64.9272 462.601 Q64.9272 468.075 61.8716 471.322 Q58.7843 474.536 53.6281 474.536 Q47.6125 474.536 44.5569 470.526 Q41.5014 466.484 41.5014 458.495 L41.5014 450.283 L40.9285 450.283 Q36.8862 450.283 34.6901 452.957 Q32.4621 455.598 32.4621 460.404 Q32.4621 463.46 33.1941 466.356 Q33.9262 469.253 35.3903 471.926 L29.9795 471.926 Q28.7381 468.712 28.1334 465.688 Q27.4968 462.664 27.4968 459.8 Q27.4968 452.065 31.5072 448.246 Q35.5176 444.426 43.6657 444.426 Z\" fill=\"#000000\" fill-rule=\"evenodd\" fill-opacity=\"1\" /><path clip-path=\"url(#clip480)\" d=\"M42.4881 402.731 L64.0042 402.731 L64.0042 408.588 L42.679 408.588 Q37.6183 408.588 35.1038 410.561 Q32.5894 412.534 32.5894 416.481 Q32.5894 421.223 35.6131 423.961 Q38.6368 426.698 43.8567 426.698 L64.0042 426.698 L64.0042 432.586 L28.3562 432.586 L28.3562 426.698 L33.8944 426.698 Q30.6797 424.597 29.0883 421.765 Q27.4968 418.9 27.4968 415.176 Q27.4968 409.033 31.3163 405.882 Q35.1038 402.731 42.4881 402.731 Z\" fill=\"#000000\" fill-rule=\"evenodd\" fill-opacity=\"1\" /><path clip-path=\"url(#clip480)\" d=\"M45.7664 367.592 Q39.4007 367.592 35.8996 370.234 Q32.3984 372.844 32.3984 377.587 Q32.3984 382.297 35.8996 384.939 Q39.4007 387.549 45.7664 387.549 Q52.1003 387.549 55.6014 384.939 Q59.1026 382.297 59.1026 377.587 Q59.1026 372.844 55.6014 370.234 Q52.1003 367.592 45.7664 367.592 M59.58 361.736 Q68.683 361.736 73.1071 365.778 Q77.5631 369.82 77.5631 378.159 Q77.5631 381.247 77.0857 383.984 Q76.6401 386.721 75.6852 389.299 L69.9879 389.299 Q71.3884 386.721 72.0568 384.207 Q72.7252 381.692 72.7252 379.083 Q72.7252 373.322 69.7015 370.457 Q66.7096 367.592 60.6303 367.592 L57.7339 367.592 Q60.885 369.407 62.4446 372.239 Q64.0042 375.072 64.0042 379.019 Q64.0042 385.576 59.0071 389.586 Q54.01 393.596 45.7664 393.596 Q37.491 393.596 32.4939 389.586 Q27.4968 385.576 27.4968 379.019 Q27.4968 375.072 29.0564 372.239 Q30.616 369.407 33.7671 367.592 L28.3562 367.592 L28.3562 361.736 L59.58 361.736 Z\" fill=\"#000000\" fill-rule=\"evenodd\" fill-opacity=\"1\" /><path clip-path=\"url(#clip480)\" d=\"M44.7161 319.181 L47.5806 319.181 L47.5806 346.108 Q53.6281 345.726 56.8109 342.48 Q59.9619 339.201 59.9619 333.377 Q59.9619 330.003 59.1344 326.852 Q58.3069 323.669 56.6518 320.55 L62.1899 320.55 Q63.5267 323.701 64.227 327.011 Q64.9272 330.321 64.9272 333.727 Q64.9272 342.257 59.9619 347.254 Q54.9967 352.219 46.5303 352.219 Q37.7774 352.219 32.6531 347.509 Q27.4968 342.766 27.4968 334.745 Q27.4968 327.552 32.1438 323.383 Q36.7589 319.181 44.7161 319.181 M42.9973 325.038 Q38.1912 325.101 35.3266 327.743 Q32.4621 330.353 32.4621 334.682 Q32.4621 339.583 35.2312 342.543 Q38.0002 345.472 43.0292 345.917 L42.9973 325.038 Z\" fill=\"#000000\" fill-rule=\"evenodd\" fill-opacity=\"1\" /><path clip-path=\"url(#clip480)\" d=\"M14.5426 274.78 Q21.8632 279.045 29.0246 281.114 Q36.186 283.183 43.5384 283.183 Q50.8908 283.183 58.1159 281.114 Q65.3091 279.014 72.5979 274.78 L72.5979 279.873 Q65.1182 284.647 57.8931 287.034 Q50.668 289.39 43.5384 289.39 Q36.4406 289.39 29.2474 287.034 Q22.0542 284.679 14.5426 279.873 L14.5426 274.78 Z\" fill=\"#000000\" fill-rule=\"evenodd\" fill-opacity=\"1\" /><path clip-path=\"url(#clip480)\" d=\"M14.479 263.64 L14.479 257.752 L43.7294 257.752 L28.3562 240.278 L28.3562 232.799 L45.0344 251.705 L64.0042 232.003 L64.0042 239.642 L46.5939 257.752 L64.0042 257.752 L64.0042 263.64 L14.479 263.64 Z\" fill=\"#000000\" fill-rule=\"evenodd\" fill-opacity=\"1\" /><path clip-path=\"url(#clip480)\" d=\"M35.1993 197.915 Q31.2526 195.718 29.3747 192.663 Q27.4968 189.607 27.4968 185.47 Q27.4968 179.9 31.4117 176.876 Q35.2948 173.852 42.4881 173.852 L64.0042 173.852 L64.0042 179.74 L42.679 179.74 Q37.5546 179.74 35.072 181.555 Q32.5894 183.369 32.5894 187.093 Q32.5894 191.644 35.6131 194.286 Q38.6368 196.928 43.8567 196.928 L64.0042 196.928 L64.0042 202.816 L42.679 202.816 Q37.5228 202.816 35.072 204.63 Q32.5894 206.445 32.5894 210.232 Q32.5894 214.72 35.6449 217.362 Q38.6686 220.004 43.8567 220.004 L64.0042 220.004 L64.0042 225.892 L28.3562 225.892 L28.3562 220.004 L33.8944 220.004 Q30.616 217.998 29.0564 215.197 Q27.4968 212.396 27.4968 208.545 Q27.4968 204.662 29.4702 201.957 Q31.4436 199.219 35.1993 197.915 Z\" fill=\"#000000\" fill-rule=\"evenodd\" fill-opacity=\"1\" /><path clip-path=\"url(#clip480)\" d=\"M14.5426 163.094 L14.5426 158.002 Q22.0542 153.227 29.2474 150.872 Q36.4406 148.485 43.5384 148.485 Q50.668 148.485 57.8931 150.872 Q65.1182 153.227 72.5979 158.002 L72.5979 163.094 Q65.3091 158.861 58.1159 156.792 Q50.8908 154.691 43.5384 154.691 Q36.186 154.691 29.0246 156.792 Q21.8632 158.861 14.5426 163.094 Z\" fill=\"#000000\" fill-rule=\"evenodd\" fill-opacity=\"1\" /><polyline clip-path=\"url(#clip482)\" style=\"stroke:#009af9; stroke-linecap:round; stroke-linejoin:round; stroke-width:4; stroke-opacity:1; fill:none\" points=\"\n",
       "  409.908,86.1857 468.8,755.494 527.692,978.597 586.584,1090.15 645.476,1157.08 704.368,1201.7 763.26,1233.57 822.152,1257.48 881.044,1276.07 939.936,1290.94 \n",
       "  998.828,1303.11 1057.72,1313.25 1116.61,1321.83 1175.5,1329.19 1234.4,1335.56 1293.29,1341.14 1352.18,1346.06 1411.07,1350.43 1469.96,1354.35 1528.86,1357.87 \n",
       "  1587.75,1361.06 1646.64,1363.96 1705.53,1366.6 1764.42,1369.03 1823.32,1371.26 1882.21,1373.32 1941.1,1375.22 1999.99,1376.99 2058.88,1378.64 2117.78,1380.18 \n",
       "  2176.67,1381.62 2235.56,1382.97 2294.45,1384.24 \n",
       "  \"/>\n",
       "<path clip-path=\"url(#clip480)\" d=\"\n",
       "M1564.89 196.789 L2284.09 196.789 L2284.09 93.1086 L1564.89 93.1086  Z\n",
       "  \" fill=\"#ffffff\" fill-rule=\"evenodd\" fill-opacity=\"1\"/>\n",
       "<polyline clip-path=\"url(#clip480)\" style=\"stroke:#000000; stroke-linecap:round; stroke-linejoin:round; stroke-width:4; stroke-opacity:1; fill:none\" points=\"\n",
       "  1564.89,196.789 2284.09,196.789 2284.09,93.1086 1564.89,93.1086 1564.89,196.789 \n",
       "  \"/>\n",
       "<polyline clip-path=\"url(#clip480)\" style=\"stroke:#009af9; stroke-linecap:round; stroke-linejoin:round; stroke-width:4; stroke-opacity:1; fill:none\" points=\"\n",
       "  1587.78,144.949 1725.12,144.949 \n",
       "  \"/>\n",
       "<path clip-path=\"url(#clip480)\" d=\"M1763.84 132.275 L1757.5 149.474 L1770.21 149.474 L1763.84 132.275 M1761.2 127.669 L1766.5 127.669 L1779.67 162.229 L1774.81 162.229 L1771.66 153.363 L1756.09 153.363 L1752.94 162.229 L1748.01 162.229 L1761.2 127.669 Z\" fill=\"#000000\" fill-rule=\"evenodd\" fill-opacity=\"1\" /><path clip-path=\"url(#clip480)\" d=\"M1804.72 141.28 Q1806.32 138.409 1808.54 137.044 Q1810.76 135.678 1813.77 135.678 Q1817.82 135.678 1820.02 138.525 Q1822.22 141.349 1822.22 146.581 L1822.22 162.229 L1817.94 162.229 L1817.94 146.719 Q1817.94 142.993 1816.62 141.187 Q1815.3 139.382 1812.59 139.382 Q1809.28 139.382 1807.36 141.581 Q1805.44 143.78 1805.44 147.576 L1805.44 162.229 L1801.15 162.229 L1801.15 146.719 Q1801.15 142.969 1799.84 141.187 Q1798.52 139.382 1795.76 139.382 Q1792.5 139.382 1790.58 141.604 Q1788.65 143.803 1788.65 147.576 L1788.65 162.229 L1784.37 162.229 L1784.37 136.303 L1788.65 136.303 L1788.65 140.331 Q1790.11 137.946 1792.15 136.812 Q1794.19 135.678 1796.99 135.678 Q1799.81 135.678 1801.78 137.113 Q1803.77 138.548 1804.72 141.28 Z\" fill=\"#000000\" fill-rule=\"evenodd\" fill-opacity=\"1\" /><path clip-path=\"url(#clip480)\" d=\"M1849.33 149.289 Q1849.33 144.59 1847.38 141.928 Q1845.46 139.243 1842.08 139.243 Q1838.7 139.243 1836.76 141.928 Q1834.83 144.59 1834.83 149.289 Q1834.83 153.988 1836.76 156.673 Q1838.7 159.335 1842.08 159.335 Q1845.46 159.335 1847.38 156.673 Q1849.33 153.988 1849.33 149.289 M1834.83 140.238 Q1836.18 137.923 1838.21 136.812 Q1840.27 135.678 1843.12 135.678 Q1847.84 135.678 1850.78 139.428 Q1853.75 143.178 1853.75 149.289 Q1853.75 155.4 1850.78 159.15 Q1847.84 162.9 1843.12 162.9 Q1840.27 162.9 1838.21 161.789 Q1836.18 160.655 1834.83 158.34 L1834.83 162.229 L1830.55 162.229 L1830.55 126.21 L1834.83 126.21 L1834.83 140.238 Z\" fill=\"#000000\" fill-rule=\"evenodd\" fill-opacity=\"1\" /><path clip-path=\"url(#clip480)\" d=\"M1860.81 136.303 L1865.07 136.303 L1865.07 162.229 L1860.81 162.229 L1860.81 136.303 M1860.81 126.21 L1865.07 126.21 L1865.07 131.604 L1860.81 131.604 L1860.81 126.21 Z\" fill=\"#000000\" fill-rule=\"evenodd\" fill-opacity=\"1\" /><path clip-path=\"url(#clip480)\" d=\"M1891.04 148.965 Q1891.04 144.335 1889.12 141.789 Q1887.22 139.243 1883.77 139.243 Q1880.34 139.243 1878.42 141.789 Q1876.52 144.335 1876.52 148.965 Q1876.52 153.571 1878.42 156.118 Q1880.34 158.664 1883.77 158.664 Q1887.22 158.664 1889.12 156.118 Q1891.04 153.571 1891.04 148.965 M1895.3 159.011 Q1895.3 165.631 1892.36 168.849 Q1889.42 172.09 1883.35 172.09 Q1881.11 172.09 1879.12 171.742 Q1877.13 171.418 1875.25 170.724 L1875.25 166.58 Q1877.13 167.599 1878.96 168.085 Q1880.78 168.571 1882.68 168.571 Q1886.87 168.571 1888.96 166.372 Q1891.04 164.196 1891.04 159.775 L1891.04 157.668 Q1889.72 159.96 1887.66 161.094 Q1885.6 162.229 1882.73 162.229 Q1877.96 162.229 1875.04 158.594 Q1872.13 154.96 1872.13 148.965 Q1872.13 142.946 1875.04 139.312 Q1877.96 135.678 1882.73 135.678 Q1885.6 135.678 1887.66 136.812 Q1889.72 137.946 1891.04 140.238 L1891.04 136.303 L1895.3 136.303 L1895.3 159.011 Z\" fill=\"#000000\" fill-rule=\"evenodd\" fill-opacity=\"1\" /><path clip-path=\"url(#clip480)\" d=\"M1903.63 151.997 L1903.63 136.303 L1907.89 136.303 L1907.89 151.835 Q1907.89 155.516 1909.33 157.368 Q1910.76 159.196 1913.63 159.196 Q1917.08 159.196 1919.07 156.997 Q1921.08 154.798 1921.08 151.002 L1921.08 136.303 L1925.34 136.303 L1925.34 162.229 L1921.08 162.229 L1921.08 158.247 Q1919.53 160.608 1917.47 161.766 Q1915.44 162.9 1912.73 162.9 Q1908.26 162.9 1905.95 160.122 Q1903.63 157.344 1903.63 151.997 M1914.35 135.678 L1914.35 135.678 Z\" fill=\"#000000\" fill-rule=\"evenodd\" fill-opacity=\"1\" /><path clip-path=\"url(#clip480)\" d=\"M1944.16 139.289 Q1940.74 139.289 1938.75 141.974 Q1936.76 144.636 1936.76 149.289 Q1936.76 153.942 1938.72 156.627 Q1940.71 159.289 1944.16 159.289 Q1947.57 159.289 1949.56 156.604 Q1951.55 153.918 1951.55 149.289 Q1951.55 144.682 1949.56 141.997 Q1947.57 139.289 1944.16 139.289 M1944.16 135.678 Q1949.72 135.678 1952.89 139.289 Q1956.06 142.9 1956.06 149.289 Q1956.06 155.655 1952.89 159.289 Q1949.72 162.9 1944.16 162.9 Q1938.58 162.9 1935.41 159.289 Q1932.27 155.655 1932.27 149.289 Q1932.27 142.9 1935.41 139.289 Q1938.58 135.678 1944.16 135.678 Z\" fill=\"#000000\" fill-rule=\"evenodd\" fill-opacity=\"1\" /><path clip-path=\"url(#clip480)\" d=\"M1962.68 151.997 L1962.68 136.303 L1966.94 136.303 L1966.94 151.835 Q1966.94 155.516 1968.38 157.368 Q1969.81 159.196 1972.68 159.196 Q1976.13 159.196 1978.12 156.997 Q1980.14 154.798 1980.14 151.002 L1980.14 136.303 L1984.39 136.303 L1984.39 162.229 L1980.14 162.229 L1980.14 158.247 Q1978.58 160.608 1976.52 161.766 Q1974.49 162.9 1971.78 162.9 Q1967.31 162.9 1965 160.122 Q1962.68 157.344 1962.68 151.997 M1973.4 135.678 L1973.4 135.678 Z\" fill=\"#000000\" fill-rule=\"evenodd\" fill-opacity=\"1\" /><path clip-path=\"url(#clip480)\" d=\"M1993.17 136.303 L1997.43 136.303 L1997.43 162.229 L1993.17 162.229 L1993.17 136.303 M1993.17 126.21 L1997.43 126.21 L1997.43 131.604 L1993.17 131.604 L1993.17 126.21 Z\" fill=\"#000000\" fill-rule=\"evenodd\" fill-opacity=\"1\" /><path clip-path=\"url(#clip480)\" d=\"M2010.55 128.942 L2010.55 136.303 L2019.32 136.303 L2019.32 139.613 L2010.55 139.613 L2010.55 153.687 Q2010.55 156.858 2011.41 157.761 Q2012.29 158.664 2014.95 158.664 L2019.32 158.664 L2019.32 162.229 L2014.95 162.229 Q2010.02 162.229 2008.14 160.4 Q2006.27 158.548 2006.27 153.687 L2006.27 139.613 L2003.14 139.613 L2003.14 136.303 L2006.27 136.303 L2006.27 128.942 L2010.55 128.942 Z\" fill=\"#000000\" fill-rule=\"evenodd\" fill-opacity=\"1\" /><path clip-path=\"url(#clip480)\" d=\"M2035.71 164.636 Q2033.91 169.266 2032.2 170.678 Q2030.48 172.09 2027.61 172.09 L2024.21 172.09 L2024.21 168.525 L2026.71 168.525 Q2028.47 168.525 2029.44 167.692 Q2030.41 166.858 2031.59 163.756 L2032.36 161.812 L2021.87 136.303 L2026.38 136.303 L2034.49 156.581 L2042.59 136.303 L2047.1 136.303 L2035.71 164.636 Z\" fill=\"#000000\" fill-rule=\"evenodd\" fill-opacity=\"1\" /><path clip-path=\"url(#clip480)\" d=\"M2068.24 127.669 L2088.1 127.669 L2088.1 131.604 L2072.91 131.604 L2072.91 141.789 L2086.62 141.789 L2086.62 145.724 L2072.91 145.724 L2072.91 162.229 L2068.24 162.229 L2068.24 127.669 Z\" fill=\"#000000\" fill-rule=\"evenodd\" fill-opacity=\"1\" /><path clip-path=\"url(#clip480)\" d=\"M2092.29 151.997 L2092.29 136.303 L2096.55 136.303 L2096.55 151.835 Q2096.55 155.516 2097.98 157.368 Q2099.42 159.196 2102.29 159.196 Q2105.74 159.196 2107.73 156.997 Q2109.74 154.798 2109.74 151.002 L2109.74 136.303 L2114 136.303 L2114 162.229 L2109.74 162.229 L2109.74 158.247 Q2108.19 160.608 2106.13 161.766 Q2104.09 162.9 2101.38 162.9 Q2096.92 162.9 2094.6 160.122 Q2092.29 157.344 2092.29 151.997 M2103 135.678 L2103 135.678 Z\" fill=\"#000000\" fill-rule=\"evenodd\" fill-opacity=\"1\" /><path clip-path=\"url(#clip480)\" d=\"M2144.32 146.581 L2144.32 162.229 L2140.06 162.229 L2140.06 146.719 Q2140.06 143.039 2138.63 141.21 Q2137.19 139.382 2134.32 139.382 Q2130.88 139.382 2128.88 141.581 Q2126.89 143.78 2126.89 147.576 L2126.89 162.229 L2122.61 162.229 L2122.61 136.303 L2126.89 136.303 L2126.89 140.331 Q2128.42 137.993 2130.48 136.835 Q2132.56 135.678 2135.27 135.678 Q2139.74 135.678 2142.03 138.456 Q2144.32 141.21 2144.32 146.581 Z\" fill=\"#000000\" fill-rule=\"evenodd\" fill-opacity=\"1\" /><path clip-path=\"url(#clip480)\" d=\"M2171.48 137.298 L2171.48 141.28 Q2169.67 140.284 2167.84 139.798 Q2166.04 139.289 2164.19 139.289 Q2160.04 139.289 2157.75 141.928 Q2155.46 144.544 2155.46 149.289 Q2155.46 154.034 2157.75 156.673 Q2160.04 159.289 2164.19 159.289 Q2166.04 159.289 2167.84 158.803 Q2169.67 158.293 2171.48 157.298 L2171.48 161.233 Q2169.69 162.067 2167.77 162.483 Q2165.87 162.9 2163.72 162.9 Q2157.87 162.9 2154.42 159.219 Q2150.97 155.539 2150.97 149.289 Q2150.97 142.946 2154.44 139.312 Q2157.94 135.678 2164 135.678 Q2165.97 135.678 2167.84 136.095 Q2169.72 136.488 2171.48 137.298 Z\" fill=\"#000000\" fill-rule=\"evenodd\" fill-opacity=\"1\" /><path clip-path=\"url(#clip480)\" d=\"M2183.1 128.942 L2183.1 136.303 L2191.87 136.303 L2191.87 139.613 L2183.1 139.613 L2183.1 153.687 Q2183.1 156.858 2183.95 157.761 Q2184.83 158.664 2187.5 158.664 L2191.87 158.664 L2191.87 162.229 L2187.5 162.229 Q2182.56 162.229 2180.69 160.4 Q2178.81 158.548 2178.81 153.687 L2178.81 139.613 L2175.69 139.613 L2175.69 136.303 L2178.81 136.303 L2178.81 128.942 L2183.1 128.942 Z\" fill=\"#000000\" fill-rule=\"evenodd\" fill-opacity=\"1\" /><path clip-path=\"url(#clip480)\" d=\"M2197.47 136.303 L2201.73 136.303 L2201.73 162.229 L2197.47 162.229 L2197.47 136.303 M2197.47 126.21 L2201.73 126.21 L2201.73 131.604 L2197.47 131.604 L2197.47 126.21 Z\" fill=\"#000000\" fill-rule=\"evenodd\" fill-opacity=\"1\" /><path clip-path=\"url(#clip480)\" d=\"M2220.69 139.289 Q2217.26 139.289 2215.27 141.974 Q2213.28 144.636 2213.28 149.289 Q2213.28 153.942 2215.25 156.627 Q2217.24 159.289 2220.69 159.289 Q2224.09 159.289 2226.08 156.604 Q2228.07 153.918 2228.07 149.289 Q2228.07 144.682 2226.08 141.997 Q2224.09 139.289 2220.69 139.289 M2220.69 135.678 Q2226.24 135.678 2229.42 139.289 Q2232.59 142.9 2232.59 149.289 Q2232.59 155.655 2229.42 159.289 Q2226.24 162.9 2220.69 162.9 Q2215.11 162.9 2211.94 159.289 Q2208.79 155.655 2208.79 149.289 Q2208.79 142.9 2211.94 139.289 Q2215.11 135.678 2220.69 135.678 Z\" fill=\"#000000\" fill-rule=\"evenodd\" fill-opacity=\"1\" /><path clip-path=\"url(#clip480)\" d=\"M2261.2 146.581 L2261.2 162.229 L2256.94 162.229 L2256.94 146.719 Q2256.94 143.039 2255.5 141.21 Q2254.07 139.382 2251.2 139.382 Q2247.75 139.382 2245.76 141.581 Q2243.77 143.78 2243.77 147.576 L2243.77 162.229 L2239.49 162.229 L2239.49 136.303 L2243.77 136.303 L2243.77 140.331 Q2245.3 137.993 2247.36 136.835 Q2249.44 135.678 2252.15 135.678 Q2256.62 135.678 2258.91 138.456 Q2261.2 141.21 2261.2 146.581 Z\" fill=\"#000000\" fill-rule=\"evenodd\" fill-opacity=\"1\" /></svg>\n"
      ]
     },
     "metadata": {},
     "output_type": "display_data"
    }
   ],
   "source": [
    "plot(v,r./1000, labels=\"Ambiguouity Function\", xlabel=\"Maximum unambiguous Velocity (m/s)\", ylabel=\"Maximum unambiguous Range (km)\")"
   ]
  }
 ],
 "metadata": {
  "kernelspec": {
   "display_name": "Julia 1.8.3",
   "language": "julia",
   "name": "julia-1.8"
  },
  "language_info": {
   "file_extension": ".jl",
   "mimetype": "application/julia",
   "name": "julia",
   "version": "1.8.3"
  }
 },
 "nbformat": 4,
 "nbformat_minor": 2
}
