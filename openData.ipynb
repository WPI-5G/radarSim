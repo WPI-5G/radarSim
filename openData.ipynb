{
 "cells": [
  {
   "cell_type": "code",
   "execution_count": null,
   "metadata": {},
   "outputs": [],
   "source": [
    "using JLD2\n",
    "using Flux"
   ]
  },
  {
   "cell_type": "code",
   "execution_count": null,
   "metadata": {},
   "outputs": [],
   "source": [
    "@load \"Training.jld2\" inputs;\n"
   ]
  },
  {
   "cell_type": "code",
   "execution_count": null,
   "metadata": {},
   "outputs": [],
   "source": [
    "@load \"Targets.jld2\"  actuals;"
   ]
  },
  {
   "cell_type": "code",
   "execution_count": null,
   "metadata": {},
   "outputs": [],
   "source": [
    "input = inputs[2,:];\n",
    "input = reshape(input,:,100);\n",
    "input[1,:]"
   ]
  },
  {
   "cell_type": "code",
   "execution_count": null,
   "metadata": {},
   "outputs": [],
   "source": [
    "idx = rand(1:length(inputs[:,1]))\n",
    "testSet = inputs[idx,:];\n",
    "testSet = reshape(testSet,:,100);\n",
    "testTarg = actuals[idx]"
   ]
  },
  {
   "cell_type": "code",
   "execution_count": null,
   "metadata": {},
   "outputs": [],
   "source": [
    "actual = actuals[1];"
   ]
  },
  {
   "cell_type": "code",
   "execution_count": null,
   "metadata": {},
   "outputs": [],
   "source": [
    "model = Chain(\n",
    "    RNN(100,1, NNlib.relu)\n",
    ") |> gpu;"
   ]
  },
  {
   "cell_type": "code",
   "execution_count": null,
   "metadata": {},
   "outputs": [],
   "source": [
    "Flux.reset!(model)"
   ]
  },
  {
   "cell_type": "code",
   "execution_count": null,
   "metadata": {},
   "outputs": [],
   "source": [
    "# out1=-1\n",
    "# for i in eachrow(testSet)\n",
    "#     out1 = model(i |> gpu) |> cpu\n",
    "# end\n",
    "loss(testSet, testTarg)"
   ]
  },
  {
   "cell_type": "code",
   "execution_count": null,
   "metadata": {},
   "outputs": [],
   "source": [
    "Flux.reset!(model)\n",
    "function eval_model(x)\n",
    "    out1=-1\n",
    "    for i in eachrow(x)\n",
    "        out1 = model(i |> gpu) |> cpu\n",
    "    end\n",
    "    out1\n",
    "end\n",
    "\n",
    "loss(x, y) = Flux.Losses.mse(eval_model(x), y)\n",
    "\n",
    "ps = Flux.params(model)\n",
    "\n",
    "opt = Flux.ADAM();\n",
    "\n",
    "evalcb() = @show(sum(loss.(testSet, testTarg)))"
   ]
  },
  {
   "cell_type": "code",
   "execution_count": null,
   "metadata": {},
   "outputs": [],
   "source": [
    "num_epochs = length(inputs[:,1])\n",
    "for x in 1:num_epochs\n",
    "    Flux.train!(loss, ps, zip(inputs[x,:], actuals[x]), opt, cb = Flux.throttle(evalcb, 1))\n",
    "end"
   ]
  },
  {
   "cell_type": "code",
   "execution_count": null,
   "metadata": {},
   "outputs": [],
   "source": [
    "println(\"Test loss after = \", sum(loss.(test_data, test_labels)))"
   ]
  }
 ],
 "metadata": {
  "kernelspec": {
   "display_name": "Julia 1.8.3",
   "language": "julia",
   "name": "julia-1.8"
  },
  "language_info": {
   "file_extension": ".jl",
   "mimetype": "application/julia",
   "name": "julia",
   "version": "1.8.3"
  },
  "orig_nbformat": 4,
  "vscode": {
   "interpreter": {
    "hash": "31f2aee4e71d21fbe5cf8b01ff0e069b9275f58929596ceb00d14d90e3e16cd6"
   }
  }
 },
 "nbformat": 4,
 "nbformat_minor": 2
}
