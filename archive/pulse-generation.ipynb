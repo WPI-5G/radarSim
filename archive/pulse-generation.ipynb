{
 "cells": [
  {
   "cell_type": "code",
   "execution_count": null,
   "metadata": {},
   "outputs": [],
   "source": [
    "using Plots\n",
    "using DSP\n",
    "using FFTW"
   ]
  },
  {
   "cell_type": "code",
   "execution_count": null,
   "metadata": {},
   "outputs": [],
   "source": [
    "# # pulse_duration = 0.0005  #seconds\n",
    "# starting_freq = 350e3     #hz\n",
    "# ending_freq = 50e3     #hz\n",
    "\n",
    "# freqs = LinRange(starting_freq, ending_freq, Int(samp_rate * pulse_duration));\n",
    "# t_pulse = LinRange(0,pulse_duration,Int(samp_rate*pulse_duration));"
   ]
  },
  {
   "cell_type": "code",
   "execution_count": null,
   "metadata": {},
   "outputs": [],
   "source": [
    "samp_rate = 2e6  #hz\n",
    "prf = 10  #Hz\n",
    "τ = 0.05;\n",
    "β = 250e3; #Pulse Bandwidth"
   ]
  },
  {
   "cell_type": "code",
   "execution_count": null,
   "metadata": {},
   "outputs": [],
   "source": [
    "prt = 1/prf;\n",
    "t = 0:1/samp_rate:prt;"
   ]
  },
  {
   "cell_type": "code",
   "execution_count": null,
   "metadata": {},
   "outputs": [],
   "source": [
    "#Envelope Definition\n",
    "envelope_type = \"Rectangular\"\n",
    "\n",
    "if envelope_type == \"Rectangular\"\n",
    "    a = ones(length(t));\n",
    "    if(length(a) > τ * samp_rate)\n",
    "        a[Int(τ*samp_rate):end] .= 0;\n",
    "    end\n",
    "elseif envelope_type == \"Gaussian\"\n",
    "    a = exp.((-t.^2)/(τ^2)) #Gaussian\n",
    "end\n",
    "\n",
    "\n",
    "plot(t, a, title=\"Target Power Envelope\")"
   ]
  },
  {
   "cell_type": "code",
   "execution_count": null,
   "metadata": {},
   "outputs": [],
   "source": [
    "pulse_type = \"NOrderPoly\"\n",
    "\n",
    "if pulse_type == \"Increasing\"\n",
    "    pulse = a.*exp.(im*π*(β/τ)*t.^2);\n",
    "elseif pulse_type == \"Decreasing\"\n",
    "    pulse = a.*exp.(-im*π*β/τ*(t.^2 - 2*τ.*t));\n",
    "elseif pulse_type == \"Exponential\"\n",
    "    k = (f1/f0)^(1/τ);\n",
    "    phi0 = π/2;\n",
    "    phi_t = phi0 .+ 2*π*f0*(((k.^t).-1)/log(k));\n",
    "\n",
    "    pulse_i = a.*sin.(phi_t);\n",
    "    pulse_r = a.*cos.(phi_t);\n",
    "    pulse = pulse_r .+ im*pulse_i;\n",
    "# elseif pulse_type == \"2TermNOrderPoly\"\n",
    "#     order = 2;\n",
    "#     k = (f1 - f0)/(τ^order);\n",
    "#     phi0 = π/2;\n",
    "#     phi_t = phi0 .+ 2*π*(((k.*t.^(order+1))/(order+1)) .+ f0.*t);\n",
    "\n",
    "#     pulse_i = a.*sin.(phi_t);\n",
    "#     pulse_r = a.*cos.(phi_t);\n",
    "#     pulse = pulse_r .+ im*pulse_i;\n",
    "elseif pulse_type == \"NOrderPoly\"\n",
    "    order = 2;\n",
    "    k = ones(order);\n",
    "    pushfirst!(k, 1) # To be set to f0 later\n",
    "    pwr = Array((0:order));\n",
    "    phi_temp = Array{Float64, 2}(undef, length(t), order+1);\n",
    "    \n",
    "    for i in 1:order\n",
    "        for j in 1:length(t)\n",
    "            phi_temp[j,i] = (k[i]*t[j]^(pwr[i]+1))/(pwr[i]+1);\n",
    "        end\n",
    "    end\n",
    "\n",
    "    phi0 = π/2; # phi0 to be defined\n",
    "\n",
    "    phi_t = phi0 .+ 2*π.*sum(phi_temp, dims=2)\n",
    "\n",
    "    pulse_i = a.*sin.(phi_t);\n",
    "    pulse_r = a.*cos.(phi_t);\n",
    "    pulse = pulse_r .+ im*pulse_i\n",
    "    # pulse = pulse'\n",
    "end"
   ]
  },
  {
   "cell_type": "code",
   "execution_count": null,
   "metadata": {},
   "outputs": [],
   "source": [
    "plot(t, abs.(pulse), xguide=\"Time\", yguide=\"Maginitude\", title=\"Pulse Power Envelope\")"
   ]
  },
  {
   "cell_type": "code",
   "execution_count": null,
   "metadata": {},
   "outputs": [],
   "source": [
    "plot(t,real(pulse))"
   ]
  },
  {
   "cell_type": "code",
   "execution_count": null,
   "metadata": {},
   "outputs": [],
   "source": [
    "plot(LinRange(-samp_rate/2, samp_rate/2, length(pulse)), real(fftshift(fft(pulse))))"
   ]
  },
  {
   "cell_type": "code",
   "execution_count": null,
   "metadata": {},
   "outputs": [],
   "source": [
    "fft_size = 512;\n",
    "spec = spectrogram((pulse), fft_size; fs=samp_rate);\n",
    "heatmap(spec.time, LinRange(0,samp_rate/2, Int(fft_size/2)), spec.power[begin:Int(fft_size/2) , :], xguide=\"Time (Seconds)\", yguide=\"Frequency (hz)\", title=\"Pulse Spectrogram\")"
   ]
  },
  {
   "cell_type": "code",
   "execution_count": null,
   "metadata": {},
   "outputs": [],
   "source": [
    "rx_pulse = pulse * 0.25;\n",
    "pulse_compression = conv(rx_pulse, reverse(pulse));"
   ]
  },
  {
   "cell_type": "code",
   "execution_count": null,
   "metadata": {},
   "outputs": [],
   "source": [
    "plot(abs.(pulse_compression))"
   ]
  },
  {
   "cell_type": "code",
   "execution_count": null,
   "metadata": {},
   "outputs": [],
   "source": [
    "Threads.nthreads()"
   ]
  }
 ],
 "metadata": {
  "kernelspec": {
   "display_name": "Julia 1.4.1",
   "language": "julia",
   "name": "julia-1.4"
  },
  "language_info": {
   "file_extension": ".jl",
   "mimetype": "application/julia",
   "name": "julia",
   "version": "1.4.1"
  },
  "orig_nbformat": 4
 },
 "nbformat": 4,
 "nbformat_minor": 2
}
